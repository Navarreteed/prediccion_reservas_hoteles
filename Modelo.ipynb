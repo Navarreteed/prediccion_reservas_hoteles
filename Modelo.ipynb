{
 "cells": [
  {
   "cell_type": "code",
   "execution_count": 11,
   "id": "89c48492-34a8-4caf-8ced-2e25e33a4113",
   "metadata": {},
   "outputs": [],
   "source": [
    "import pandas as pd\n",
    "import numpy as np\n",
    "import matplotlib.pyplot as plt\n",
    "import seaborn as sns"
   ]
  },
  {
   "cell_type": "code",
   "execution_count": 11,
   "id": "21a645d2-f5dd-468c-ab5f-f57a226ee528",
   "metadata": {},
   "outputs": [],
   "source": [
    "import pandas as pd\n",
    "import numpy as np\n",
    "import matplotlib.pyplot as plt\n",
    "import seaborn as sns"
   ]
  },
  {
   "cell_type": "code",
   "execution_count": null,
   "id": "f1118ec5-f640-4664-82af-ad7c94607fec",
   "metadata": {},
   "outputs": [],
   "source": [
    "#from sklearn.model_selection import GridSearchCV, cross_val_score,train_test_split,cross_validate\n"
   ]
  },
  {
   "cell_type": "code",
   "execution_count": 12,
   "id": "1670a958-6952-4f77-8281-a9cfd27c302d",
   "metadata": {},
   "outputs": [],
   "source": [
    "pd.set_option('display.max_columns', None)"
   ]
  },
  {
   "cell_type": "markdown",
   "id": "d4ba0faf-c346-4442-9f28-630a563e10b5",
   "metadata": {},
   "source": [
    "# Cargar y limpiar los datos"
   ]
  },
  {
   "cell_type": "code",
   "execution_count": 13,
   "id": "83c7dc3e-a185-4e79-ab10-e2af30c8cc28",
   "metadata": {},
   "outputs": [
    {
     "name": "stdout",
     "output_type": "stream",
     "text": [
      "(61969, 25)\n"
     ]
    },
    {
     "data": {
      "text/html": [
       "<div>\n",
       "<style scoped>\n",
       "    .dataframe tbody tr th:only-of-type {\n",
       "        vertical-align: middle;\n",
       "    }\n",
       "\n",
       "    .dataframe tbody tr th {\n",
       "        vertical-align: top;\n",
       "    }\n",
       "\n",
       "    .dataframe thead th {\n",
       "        text-align: right;\n",
       "    }\n",
       "</style>\n",
       "<table border=\"1\" class=\"dataframe\">\n",
       "  <thead>\n",
       "    <tr style=\"text-align: right;\">\n",
       "      <th></th>\n",
       "      <th>hotel</th>\n",
       "      <th>lead_time</th>\n",
       "      <th>stays_in_weekend_nights</th>\n",
       "      <th>stays_in_week_nights</th>\n",
       "      <th>adults</th>\n",
       "      <th>children</th>\n",
       "      <th>meal</th>\n",
       "      <th>country</th>\n",
       "      <th>market_segment</th>\n",
       "      <th>distribution_channel</th>\n",
       "      <th>is_repeated_guest</th>\n",
       "      <th>previous_cancellations</th>\n",
       "      <th>previous_bookings_not_canceled</th>\n",
       "      <th>reserved_room_type</th>\n",
       "      <th>assigned_room_type</th>\n",
       "      <th>booking_changes</th>\n",
       "      <th>deposit_type</th>\n",
       "      <th>agent</th>\n",
       "      <th>company</th>\n",
       "      <th>days_in_waiting_list</th>\n",
       "      <th>customer_type</th>\n",
       "      <th>average_daily_rate</th>\n",
       "      <th>required_car_parking_spaces</th>\n",
       "      <th>total_of_special_requests</th>\n",
       "      <th>arrival_date</th>\n",
       "    </tr>\n",
       "  </thead>\n",
       "  <tbody>\n",
       "    <tr>\n",
       "      <th>0</th>\n",
       "      <td>Resort_Hotel</td>\n",
       "      <td>342</td>\n",
       "      <td>0</td>\n",
       "      <td>0</td>\n",
       "      <td>2</td>\n",
       "      <td>none</td>\n",
       "      <td>BB</td>\n",
       "      <td>PRT</td>\n",
       "      <td>Direct</td>\n",
       "      <td>Direct</td>\n",
       "      <td>0</td>\n",
       "      <td>0</td>\n",
       "      <td>0</td>\n",
       "      <td>C</td>\n",
       "      <td>C</td>\n",
       "      <td>3</td>\n",
       "      <td>No_Deposit</td>\n",
       "      <td>NaN</td>\n",
       "      <td>NaN</td>\n",
       "      <td>0</td>\n",
       "      <td>Transient</td>\n",
       "      <td>0.0</td>\n",
       "      <td>none</td>\n",
       "      <td>0</td>\n",
       "      <td>2015-07-01</td>\n",
       "    </tr>\n",
       "    <tr>\n",
       "      <th>1</th>\n",
       "      <td>Resort_Hotel</td>\n",
       "      <td>737</td>\n",
       "      <td>0</td>\n",
       "      <td>0</td>\n",
       "      <td>2</td>\n",
       "      <td>none</td>\n",
       "      <td>BB</td>\n",
       "      <td>PRT</td>\n",
       "      <td>Direct</td>\n",
       "      <td>Direct</td>\n",
       "      <td>0</td>\n",
       "      <td>0</td>\n",
       "      <td>0</td>\n",
       "      <td>C</td>\n",
       "      <td>C</td>\n",
       "      <td>4</td>\n",
       "      <td>No_Deposit</td>\n",
       "      <td>NaN</td>\n",
       "      <td>NaN</td>\n",
       "      <td>0</td>\n",
       "      <td>Transient</td>\n",
       "      <td>0.0</td>\n",
       "      <td>none</td>\n",
       "      <td>0</td>\n",
       "      <td>2015-07-01</td>\n",
       "    </tr>\n",
       "    <tr>\n",
       "      <th>2</th>\n",
       "      <td>Resort_Hotel</td>\n",
       "      <td>7</td>\n",
       "      <td>0</td>\n",
       "      <td>1</td>\n",
       "      <td>1</td>\n",
       "      <td>none</td>\n",
       "      <td>BB</td>\n",
       "      <td>GBR</td>\n",
       "      <td>Direct</td>\n",
       "      <td>Direct</td>\n",
       "      <td>0</td>\n",
       "      <td>0</td>\n",
       "      <td>0</td>\n",
       "      <td>A</td>\n",
       "      <td>C</td>\n",
       "      <td>0</td>\n",
       "      <td>No_Deposit</td>\n",
       "      <td>NaN</td>\n",
       "      <td>NaN</td>\n",
       "      <td>0</td>\n",
       "      <td>Transient</td>\n",
       "      <td>75.0</td>\n",
       "      <td>none</td>\n",
       "      <td>0</td>\n",
       "      <td>2015-07-01</td>\n",
       "    </tr>\n",
       "    <tr>\n",
       "      <th>3</th>\n",
       "      <td>Resort_Hotel</td>\n",
       "      <td>13</td>\n",
       "      <td>0</td>\n",
       "      <td>1</td>\n",
       "      <td>1</td>\n",
       "      <td>none</td>\n",
       "      <td>BB</td>\n",
       "      <td>GBR</td>\n",
       "      <td>Corporate</td>\n",
       "      <td>Corporate</td>\n",
       "      <td>0</td>\n",
       "      <td>0</td>\n",
       "      <td>0</td>\n",
       "      <td>A</td>\n",
       "      <td>A</td>\n",
       "      <td>0</td>\n",
       "      <td>No_Deposit</td>\n",
       "      <td>304.0</td>\n",
       "      <td>NaN</td>\n",
       "      <td>0</td>\n",
       "      <td>Transient</td>\n",
       "      <td>75.0</td>\n",
       "      <td>none</td>\n",
       "      <td>0</td>\n",
       "      <td>2015-07-01</td>\n",
       "    </tr>\n",
       "    <tr>\n",
       "      <th>4</th>\n",
       "      <td>Resort_Hotel</td>\n",
       "      <td>14</td>\n",
       "      <td>0</td>\n",
       "      <td>2</td>\n",
       "      <td>2</td>\n",
       "      <td>none</td>\n",
       "      <td>BB</td>\n",
       "      <td>GBR</td>\n",
       "      <td>Online_TA</td>\n",
       "      <td>TA/TO</td>\n",
       "      <td>0</td>\n",
       "      <td>0</td>\n",
       "      <td>0</td>\n",
       "      <td>A</td>\n",
       "      <td>A</td>\n",
       "      <td>0</td>\n",
       "      <td>No_Deposit</td>\n",
       "      <td>240.0</td>\n",
       "      <td>NaN</td>\n",
       "      <td>0</td>\n",
       "      <td>Transient</td>\n",
       "      <td>98.0</td>\n",
       "      <td>none</td>\n",
       "      <td>1</td>\n",
       "      <td>2015-07-01</td>\n",
       "    </tr>\n",
       "  </tbody>\n",
       "</table>\n",
       "</div>"
      ],
      "text/plain": [
       "          hotel  lead_time  stays_in_weekend_nights  stays_in_week_nights  \\\n",
       "0  Resort_Hotel        342                        0                     0   \n",
       "1  Resort_Hotel        737                        0                     0   \n",
       "2  Resort_Hotel          7                        0                     1   \n",
       "3  Resort_Hotel         13                        0                     1   \n",
       "4  Resort_Hotel         14                        0                     2   \n",
       "\n",
       "   adults children meal country market_segment distribution_channel  \\\n",
       "0       2     none   BB     PRT         Direct               Direct   \n",
       "1       2     none   BB     PRT         Direct               Direct   \n",
       "2       1     none   BB     GBR         Direct               Direct   \n",
       "3       1     none   BB     GBR      Corporate            Corporate   \n",
       "4       2     none   BB     GBR      Online_TA                TA/TO   \n",
       "\n",
       "   is_repeated_guest  previous_cancellations  previous_bookings_not_canceled  \\\n",
       "0                  0                       0                               0   \n",
       "1                  0                       0                               0   \n",
       "2                  0                       0                               0   \n",
       "3                  0                       0                               0   \n",
       "4                  0                       0                               0   \n",
       "\n",
       "  reserved_room_type assigned_room_type  booking_changes deposit_type  agent  \\\n",
       "0                  C                  C                3   No_Deposit    NaN   \n",
       "1                  C                  C                4   No_Deposit    NaN   \n",
       "2                  A                  C                0   No_Deposit    NaN   \n",
       "3                  A                  A                0   No_Deposit  304.0   \n",
       "4                  A                  A                0   No_Deposit  240.0   \n",
       "\n",
       "   company  days_in_waiting_list customer_type  average_daily_rate  \\\n",
       "0      NaN                     0     Transient                 0.0   \n",
       "1      NaN                     0     Transient                 0.0   \n",
       "2      NaN                     0     Transient                75.0   \n",
       "3      NaN                     0     Transient                75.0   \n",
       "4      NaN                     0     Transient                98.0   \n",
       "\n",
       "  required_car_parking_spaces  total_of_special_requests arrival_date  \n",
       "0                        none                          0   2015-07-01  \n",
       "1                        none                          0   2015-07-01  \n",
       "2                        none                          0   2015-07-01  \n",
       "3                        none                          0   2015-07-01  \n",
       "4                        none                          1   2015-07-01  "
      ]
     },
     "execution_count": 13,
     "metadata": {},
     "output_type": "execute_result"
    }
   ],
   "source": [
    "# Se carga el dataset\n",
    "df = pd.read_csv(\"hoteles-entrena.csv\")\n",
    "print(df.shape)\n",
    "df.head()"
   ]
  },
  {
   "cell_type": "markdown",
   "id": "a1b6e4bb-46fe-47ab-9498-75fdae1ef34e",
   "metadata": {},
   "source": [
    "# Limpieza"
   ]
  },
  {
   "cell_type": "code",
   "execution_count": 51,
   "id": "585a2e3e-a32f-4bb0-859c-26aae028dca6",
   "metadata": {},
   "outputs": [
    {
     "name": "stdout",
     "output_type": "stream",
     "text": [
      "<class 'pandas.core.frame.DataFrame'>\n",
      "RangeIndex: 61969 entries, 0 to 61968\n",
      "Data columns (total 25 columns):\n",
      " #   Column                          Non-Null Count  Dtype  \n",
      "---  ------                          --------------  -----  \n",
      " 0   hotel                           61969 non-null  object \n",
      " 1   lead_time                       61969 non-null  int64  \n",
      " 2   stays_in_weekend_nights         61969 non-null  int64  \n",
      " 3   stays_in_week_nights            61969 non-null  int64  \n",
      " 4   adults                          61969 non-null  int64  \n",
      " 5   children                        61969 non-null  object \n",
      " 6   meal                            61969 non-null  object \n",
      " 7   country                         61548 non-null  object \n",
      " 8   market_segment                  61969 non-null  object \n",
      " 9   distribution_channel            61969 non-null  object \n",
      " 10  is_repeated_guest               61969 non-null  int64  \n",
      " 11  previous_cancellations          61969 non-null  int64  \n",
      " 12  previous_bookings_not_canceled  61969 non-null  int64  \n",
      " 13  reserved_room_type              61969 non-null  object \n",
      " 14  assigned_room_type              61969 non-null  object \n",
      " 15  booking_changes                 61969 non-null  int64  \n",
      " 16  deposit_type                    61969 non-null  object \n",
      " 17  agent                           51029 non-null  float64\n",
      " 18  company                         4963 non-null   float64\n",
      " 19  days_in_waiting_list            61969 non-null  int64  \n",
      " 20  customer_type                   61969 non-null  object \n",
      " 21  average_daily_rate              61969 non-null  float64\n",
      " 22  required_car_parking_spaces     61969 non-null  object \n",
      " 23  total_of_special_requests       61969 non-null  int64  \n",
      " 24  arrival_date                    61969 non-null  object \n",
      "dtypes: float64(3), int64(10), object(12)\n",
      "memory usage: 11.8+ MB\n"
     ]
    }
   ],
   "source": [
    "df.info()"
   ]
  },
  {
   "cell_type": "code",
   "execution_count": 14,
   "id": "653a7e79-6da2-444d-baac-4a9a11521690",
   "metadata": {},
   "outputs": [],
   "source": [
    "# Nos deshacemos de variables\n",
    "df.drop(['arrival_date','deposit_type','agent','company','booking_changes','distribution_channel','country'],axis=1, inplace=True)"
   ]
  },
  {
   "cell_type": "code",
   "execution_count": 15,
   "id": "995e5c29-b9c6-467d-8567-4806313823a2",
   "metadata": {},
   "outputs": [],
   "source": [
    "# Cambiamos de variables caegoricas a numericas\n",
    "df[\"required_car_parking_spaces\"] = df[\"required_car_parking_spaces\"].astype('category').cat.codes\n",
    "df[\"hotel\"] = df[\"hotel\"].astype('category').cat.codes\n",
    "df[\"children\"] = df[\"children\"].astype('category').cat.codes"
   ]
  },
  {
   "cell_type": "code",
   "execution_count": 16,
   "id": "58ef863e-d365-49aa-9bfe-cc2c880e8dc4",
   "metadata": {},
   "outputs": [],
   "source": [
    "# Creamos one-hot encoding para las siguientes variables:\n",
    "df = pd.concat([df, pd.get_dummies(df.meal)], axis=1)\n",
    "df.drop(['meal'], axis=1, inplace=True)\n",
    "df = pd.concat([df, pd.get_dummies(df.market_segment)], axis=1)\n",
    "df.drop(['market_segment'], axis=1, inplace=True)\n",
    "df = pd.concat([df, pd.get_dummies(df.reserved_room_type)], axis=1)\n",
    "df.drop(['reserved_room_type'], axis=1, inplace=True)\n",
    "df = pd.concat([df, pd.get_dummies(df.assigned_room_type)], axis=1)\n",
    "df.drop(['assigned_room_type'], axis=1, inplace=True)\n",
    "df = pd.concat([df, pd.get_dummies(df.customer_type)], axis=1)\n",
    "df.drop(['customer_type'], axis=1, inplace=True)"
   ]
  },
  {
   "cell_type": "code",
   "execution_count": 88,
   "id": "094c169e-b961-4665-a046-98697eb8f7db",
   "metadata": {},
   "outputs": [
    {
     "name": "stdout",
     "output_type": "stream",
     "text": [
      "<class 'pandas.core.frame.DataFrame'>\n",
      "RangeIndex: 61969 entries, 0 to 61968\n",
      "Data columns (total 48 columns):\n",
      " #   Column                          Non-Null Count  Dtype  \n",
      "---  ------                          --------------  -----  \n",
      " 0   hotel                           61969 non-null  int8   \n",
      " 1   lead_time                       61969 non-null  int64  \n",
      " 2   stays_in_weekend_nights         61969 non-null  int64  \n",
      " 3   stays_in_week_nights            61969 non-null  int64  \n",
      " 4   adults                          61969 non-null  int64  \n",
      " 5   children                        61969 non-null  int8   \n",
      " 6   is_repeated_guest               61969 non-null  int64  \n",
      " 7   previous_cancellations          61969 non-null  int64  \n",
      " 8   previous_bookings_not_canceled  61969 non-null  int64  \n",
      " 9   days_in_waiting_list            61969 non-null  int64  \n",
      " 10  average_daily_rate              61969 non-null  float64\n",
      " 11  required_car_parking_spaces     61969 non-null  int8   \n",
      " 12  total_of_special_requests       61969 non-null  int64  \n",
      " 13  BB                              61969 non-null  uint8  \n",
      " 14  FB                              61969 non-null  uint8  \n",
      " 15  HB                              61969 non-null  uint8  \n",
      " 16  SC                              61969 non-null  uint8  \n",
      " 17  Undefined                       61969 non-null  uint8  \n",
      " 18  Aviation                        61969 non-null  uint8  \n",
      " 19  Complementary                   61969 non-null  uint8  \n",
      " 20  Corporate                       61969 non-null  uint8  \n",
      " 21  Direct                          61969 non-null  uint8  \n",
      " 22  Groups                          61969 non-null  uint8  \n",
      " 23  Offline_TA/TO                   61969 non-null  uint8  \n",
      " 24  Online_TA                       61969 non-null  uint8  \n",
      " 25  A                               61969 non-null  uint8  \n",
      " 26  B                               61969 non-null  uint8  \n",
      " 27  C                               61969 non-null  uint8  \n",
      " 28  D                               61969 non-null  uint8  \n",
      " 29  E                               61969 non-null  uint8  \n",
      " 30  F                               61969 non-null  uint8  \n",
      " 31  G                               61969 non-null  uint8  \n",
      " 32  H                               61969 non-null  uint8  \n",
      " 33  L                               61969 non-null  uint8  \n",
      " 34  A                               61969 non-null  uint8  \n",
      " 35  B                               61969 non-null  uint8  \n",
      " 36  C                               61969 non-null  uint8  \n",
      " 37  D                               61969 non-null  uint8  \n",
      " 38  E                               61969 non-null  uint8  \n",
      " 39  F                               61969 non-null  uint8  \n",
      " 40  G                               61969 non-null  uint8  \n",
      " 41  H                               61969 non-null  uint8  \n",
      " 42  I                               61969 non-null  uint8  \n",
      " 43  K                               61969 non-null  uint8  \n",
      " 44  Contract                        61969 non-null  uint8  \n",
      " 45  Group                           61969 non-null  uint8  \n",
      " 46  Transient                       61969 non-null  uint8  \n",
      " 47  Transient-Party                 61969 non-null  uint8  \n",
      "dtypes: float64(1), int64(9), int8(3), uint8(35)\n",
      "memory usage: 7.0 MB\n"
     ]
    }
   ],
   "source": [
    "df.info()"
   ]
  },
  {
   "cell_type": "code",
   "execution_count": 89,
   "id": "2c50d777-bf2c-4684-9dbb-fa1ff67d81b6",
   "metadata": {},
   "outputs": [],
   "source": [
    "# Distribuciones"
   ]
  },
  {
   "cell_type": "code",
   "execution_count": 17,
   "id": "199352a2-8b1e-46fc-9241-03f250fa58aa",
   "metadata": {},
   "outputs": [
    {
     "data": {
      "image/png": "[encoded data removed]",
      "text/plain": [
       "<Figure size 432x288 with 1 Axes>"
      ]
     },
     "metadata": {
      "needs_background": "light"
     },
     "output_type": "display_data"
    }
   ],
   "source": [
    "# First target variable alone\n",
    "sns.countplot(x='children', data=df)\n",
    "plt.show()"
   ]
  },
  {
   "cell_type": "code",
   "execution_count": 18,
   "id": "bf34fbaf-564f-4aec-b8ba-086050133120",
   "metadata": {},
   "outputs": [
    {
     "data": {
      "image/png": "[encoded data removed]",
      "text/plain": [
       "<Figure size 432x288 with 2 Axes>"
      ]
     },
     "metadata": {
      "needs_background": "light"
     },
     "output_type": "display_data"
    },
    {
     "name": "stdout",
     "output_type": "stream",
     "text": [
      "hotel                            -0.010671\n",
      "lead_time                         0.027671\n",
      "stays_in_weekend_nights          -0.025207\n",
      "stays_in_week_nights             -0.019995\n",
      "adults                           -0.076086\n",
      "children                          1.000000\n",
      "is_repeated_guest                 0.040029\n",
      "previous_cancellations            0.015214\n",
      "previous_bookings_not_canceled    0.029329\n",
      "days_in_waiting_list              0.030404\n",
      "average_daily_rate               -0.280108\n",
      "required_car_parking_spaces      -0.083064\n",
      "total_of_special_requests        -0.146437\n",
      "BB                               -0.026854\n",
      "FB                               -0.025268\n",
      "HB                               -0.012394\n",
      "SC                                0.055022\n",
      "Undefined                         0.017067\n",
      "Aviation                          0.012920\n",
      "Complementary                    -0.000279\n",
      "Corporate                         0.062813\n",
      "Direct                           -0.080841\n",
      "Groups                            0.092073\n",
      "Offline_TA/TO                     0.077393\n",
      "Online_TA                        -0.097955\n",
      "A                                 0.207321\n",
      "B                                -0.079010\n",
      "C                                -0.190867\n",
      "D                                 0.041997\n",
      "E                                -0.003786\n",
      "F                                -0.240275\n",
      "G                                -0.267357\n",
      "H                                -0.175976\n",
      "L                                 0.002282\n",
      "A                                 0.187568\n",
      "B                                -0.038245\n",
      "C                                -0.104717\n",
      "D                                 0.028111\n",
      "E                                 0.004200\n",
      "F                                -0.185600\n",
      "G                                -0.248712\n",
      "H                                -0.151755\n",
      "I                                -0.007460\n",
      "K                                 0.006472\n",
      "Contract                          0.011086\n",
      "Group                             0.006852\n",
      "Transient                        -0.112228\n",
      "Transient-Party                   0.111527\n",
      "Name: children, dtype: float64\n"
     ]
    }
   ],
   "source": [
    "# Let's explore correlations between pairs of variables\n",
    "corrmat = df.corr()\n",
    "\n",
    "sns.heatmap(corrmat, center=0, cmap='jet', square=True, linewidths=.5, cbar_kws={\"shrink\": .5})\n",
    "plt.show()\n",
    "\n",
    "print(corrmat['children'])"
   ]
  },
  {
   "cell_type": "markdown",
   "id": "c7ba1dc8-aa02-419b-9c1e-add0b81492f3",
   "metadata": {},
   "source": [
    "# Separacion"
   ]
  },
  {
   "cell_type": "code",
   "execution_count": 19,
   "id": "7f39317d-5c5e-4a77-a2ea-121f6f5a9649",
   "metadata": {},
   "outputs": [
    {
     "name": "stdout",
     "output_type": "stream",
     "text": [
      "(49575, 48)\n",
      "(12394, 48)\n"
     ]
    }
   ],
   "source": [
    "from sklearn.model_selection import train_test_split\n",
    "\n",
    "df_train,df_test = train_test_split(df,test_size=0.2)\n",
    "print(df_train.shape)\n",
    "print(df_test.shape)\n",
    "\n",
    "#x_train=df_train.drop('children',axis = 1)\n",
    "#y_train = df_train[['children']]\n",
    "#print(x_train.shape)\n",
    "#print(y_train.shape)\n",
    "\n",
    "#x_test=df_test.drop('children',axis = 1)\n",
    "#y_test = df_test[['children']]\n",
    "#print(x_test.shape)\n",
    "#print(y_test.shape)"
   ]
  },
  {
   "cell_type": "code",
   "execution_count": 20,
   "id": "8721279d-e51f-479b-a1f8-b2a003814c7a",
   "metadata": {},
   "outputs": [
    {
     "data": {
      "image/png": "[encoded data removed]",
      "text/plain": [
       "<Figure size 1296x360 with 2 Axes>"
      ]
     },
     "metadata": {
      "needs_background": "light"
     },
     "output_type": "display_data"
    }
   ],
   "source": [
    "plt.figure(figsize=(18, 5))\n",
    "plt.subplot(1, 2, 1)\n",
    "sns.countplot(x='children', data=df_train)\n",
    "plt.subplot(1, 2, 2)\n",
    "sns.countplot(x='children', data=df_test)\n",
    "plt.show()"
   ]
  },
  {
   "cell_type": "markdown",
   "id": "757fed02-d734-466d-9e02-c644b7aa74a4",
   "metadata": {},
   "source": [
    "# Entrenar"
   ]
  },
  {
   "cell_type": "code",
   "execution_count": 21,
   "id": "8bbad83d-57ea-43bb-ada8-b396db82052c",
   "metadata": {},
   "outputs": [
    {
     "name": "stdout",
     "output_type": "stream",
     "text": [
      "(49575, 47)\n",
      "(49575, 1)\n",
      "(12394, 47)\n",
      "(12394, 1)\n"
     ]
    }
   ],
   "source": [
    "x_train=df_train.drop('children',axis = 1).to_numpy()\n",
    "y_train = df_train[['children']].to_numpy()\n",
    "print(x_train.shape)\n",
    "print(y_train.shape)\n",
    "\n",
    "x_test=df_test.drop('children',axis = 1).to_numpy()\n",
    "y_test = df_test[['children']].to_numpy()\n",
    "print(x_test.shape)\n",
    "print(y_test.shape)"
   ]
  },
  {
   "cell_type": "code",
   "execution_count": 22,
   "id": "fff5a535-883b-4dcf-83d7-73bc059f0a13",
   "metadata": {},
   "outputs": [],
   "source": [
    "from warnings import filterwarnings\n",
    "filterwarnings('ignore')"
   ]
  },
  {
   "cell_type": "code",
   "execution_count": 23,
   "id": "d9814e45-e547-4f44-92e1-7330b1e1b0a0",
   "metadata": {},
   "outputs": [
    {
     "name": "stdout",
     "output_type": "stream",
     "text": [
      "Best score: 0.926\n",
      "Best params: {'C': 0.39810717055349776, 'class_weight': 'None', 'l1_ratio': 0.0, 'penalty': 'l1'}\n"
     ]
    }
   ],
   "source": [
    "# Train a regressor to approximate missing value\n",
    "from sklearn.linear_model import LogisticRegression\n",
    "from sklearn.model_selection import GridSearchCV\n",
    "\n",
    "grid_hyp_params = {'penalty': ['l1', 'l2', 'elastic', 'None'],\n",
    "                   'C': np.logspace(-7, 4, 6),\n",
    "                   'l1_ratio': np.arange(0., 1.1, 0.5),\n",
    "                   'class_weight': ['balanced', 'None']\n",
    "                  }\n",
    "gs = GridSearchCV(LogisticRegression(solver='saga'), grid_hyp_params)\n",
    "\n",
    "gs.fit(x_train, y_train)\n",
    "\n",
    "print(f\"Best score: {gs.best_score_:.3f}\")\n",
    "print(f\"Best params: {gs.best_params_}\")"
   ]
  },
  {
   "cell_type": "code",
   "execution_count": 9,
   "id": "e4d235c6-00d9-45ad-8e2a-47c531fdf517",
   "metadata": {},
   "outputs": [
    {
     "data": {
      "text/plain": [
       "array([0. , 0.5, 1. ])"
      ]
     },
     "execution_count": 9,
     "metadata": {},
     "output_type": "execute_result"
    }
   ],
   "source": [
    "np.arange(0,1.1,0.5)"
   ]
  },
  {
   "cell_type": "code",
   "execution_count": 25,
   "id": "33a62eae-ab53-47e6-9540-c8de06fed873",
   "metadata": {},
   "outputs": [
    {
     "name": "stdout",
     "output_type": "stream",
     "text": [
      "Accuracy on the test set: 0.929\n"
     ]
    }
   ],
   "source": [
    "from sklearn.metrics import accuracy_score as acc\n",
    "print(f\"Accuracy on the test set: {acc(gs.best_estimator_.predict(x_test), y_test):.3f}\")"
   ]
  },
  {
   "cell_type": "code",
   "execution_count": 62,
   "id": "b20e5d2b-fea8-450d-a4b8-5717ab495cf9",
   "metadata": {},
   "outputs": [
    {
     "data": {
      "text/plain": [
       "array([1, 1, 1, ..., 1, 1, 1], dtype=int8)"
      ]
     },
     "execution_count": 62,
     "metadata": {},
     "output_type": "execute_result"
    }
   ],
   "source": [
    "predicciones=gs.best_estimator_.predict(x_test), y_test\n",
    "predicciones[0]"
   ]
  },
  {
   "cell_type": "markdown",
   "id": "5864e176-f5bc-4817-8916-11e383694233",
   "metadata": {},
   "source": [
    "# Datos prueba "
   ]
  },
  {
   "cell_type": "code",
   "execution_count": 55,
   "id": "7b6cf455-f422-4ef3-ac9a-713faf5f76f1",
   "metadata": {},
   "outputs": [],
   "source": [
    "prueba = pd.read_csv(\"hoteles-prueba.csv\")"
   ]
  },
  {
   "cell_type": "code",
   "execution_count": 56,
   "id": "4d6d3cd5-93c1-48a7-92dc-76a1bbc451f9",
   "metadata": {},
   "outputs": [],
   "source": [
    "# Nos deshacemos de variables\n",
    "prueba.drop(['arrival_date','deposit_type','agent','company','booking_changes','distribution_channel','country'],axis=1, inplace=True)"
   ]
  },
  {
   "cell_type": "code",
   "execution_count": 57,
   "id": "3abbbd32-2134-4272-9f67-1470d096c543",
   "metadata": {},
   "outputs": [],
   "source": [
    "# Cambiamos de variables caegoricas a numericas\n",
    "prueba[\"required_car_parking_spaces\"] = prueba[\"required_car_parking_spaces\"].astype('category').cat.codes\n",
    "prueba[\"hotel\"] = prueba[\"hotel\"].astype('category').cat.codes\n"
   ]
  },
  {
   "cell_type": "code",
   "execution_count": 58,
   "id": "bf0d5118-7d44-455c-a47e-8ea7e44990da",
   "metadata": {},
   "outputs": [],
   "source": [
    "# Creamos one-hot encoding para las siguientes variables:\n",
    "prueba = pd.concat([prueba, pd.get_dummies(prueba.meal)], axis=1)\n",
    "prueba.drop(['meal'], axis=1, inplace=True)\n",
    "prueba = pd.concat([prueba, pd.get_dummies(prueba.market_segment)], axis=1)\n",
    "prueba.drop(['market_segment'], axis=1, inplace=True)\n",
    "prueba = pd.concat([prueba, pd.get_dummies(prueba.reserved_room_type)], axis=1)\n",
    "prueba.drop(['reserved_room_type'], axis=1, inplace=True)\n",
    "prueba = pd.concat([prueba, pd.get_dummies(prueba.assigned_room_type)], axis=1)\n",
    "prueba.drop(['assigned_room_type'], axis=1, inplace=True)\n",
    "prueba = pd.concat([prueba, pd.get_dummies(prueba.customer_type)], axis=1)\n",
    "prueba.drop(['customer_type'], axis=1, inplace=True)"
   ]
  },
  {
   "cell_type": "code",
   "execution_count": 63,
   "id": "d33146ea-7cae-42f9-8a11-ffef3107ec0b",
   "metadata": {},
   "outputs": [
    {
     "data": {
      "text/plain": [
       "array([1, 1, 1, ..., 1, 1, 1], dtype=int8)"
      ]
     },
     "execution_count": 63,
     "metadata": {},
     "output_type": "execute_result"
    }
   ],
   "source": [
    "predicciones=gs.best_estimator_.predict(x_test)\n",
    "predicciones"
   ]
  },
  {
   "cell_type": "code",
   "execution_count": null,
   "id": "182b75ab-2884-421c-b528-b4f8dfb074dd",
   "metadata": {},
   "outputs": [],
   "source": []
  }
 ],
 "metadata": {
  "kernelspec": {
   "display_name": "Python 3 (ipykernel)",
   "language": "python",
   "name": "python3"
  },
  "language_info": {
   "codemirror_mode": {
    "name": "ipython",
    "version": 3
   },
   "file_extension": ".py",
   "mimetype": "text/x-python",
   "name": "python",
   "nbconvert_exporter": "python",
   "pygments_lexer": "ipython3",
   "version": "3.9.12"
  }
 },
 "nbformat": 4,
 "nbformat_minor": 5
}
