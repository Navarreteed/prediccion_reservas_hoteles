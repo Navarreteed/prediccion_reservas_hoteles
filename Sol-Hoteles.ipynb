{
 "cells": [
  {
   "cell_type": "code",
   "execution_count": 1,
   "id": "c12123c0-e05b-4df4-b94e-a8feaac1e9ee",
   "metadata": {},
   "outputs": [],
   "source": [
    "import pandas as pd\n",
    "import numpy as np\n",
    "import matplotlib.pyplot as plt\n",
    "import seaborn as sns\n",
    "\n",
    "pd.set_option('display.max_columns', None)"
   ]
  },
  {
   "cell_type": "markdown",
   "id": "d4ba0faf-c346-4442-9f28-630a563e10b5",
   "metadata": {},
   "source": [
    "# Carga de datos\n",
    "\n",
    "**Cargamos** la tabla completa de datos"
   ]
  },
  {
   "cell_type": "code",
   "execution_count": 2,
   "id": "83c7dc3e-a185-4e79-ab10-e2af30c8cc28",
   "metadata": {},
   "outputs": [
    {
     "data": {
      "text/html": [
       "<div>\n",
       "<style scoped>\n",
       "    .dataframe tbody tr th:only-of-type {\n",
       "        vertical-align: middle;\n",
       "    }\n",
       "\n",
       "    .dataframe tbody tr th {\n",
       "        vertical-align: top;\n",
       "    }\n",
       "\n",
       "    .dataframe thead th {\n",
       "        text-align: right;\n",
       "    }\n",
       "</style>\n",
       "<table border=\"1\" class=\"dataframe\">\n",
       "  <thead>\n",
       "    <tr style=\"text-align: right;\">\n",
       "      <th></th>\n",
       "      <th>hotel</th>\n",
       "      <th>lead_time</th>\n",
       "      <th>stays_in_weekend_nights</th>\n",
       "      <th>stays_in_week_nights</th>\n",
       "      <th>adults</th>\n",
       "      <th>children</th>\n",
       "      <th>meal</th>\n",
       "      <th>country</th>\n",
       "      <th>market_segment</th>\n",
       "      <th>distribution_channel</th>\n",
       "      <th>is_repeated_guest</th>\n",
       "      <th>previous_cancellations</th>\n",
       "      <th>previous_bookings_not_canceled</th>\n",
       "      <th>reserved_room_type</th>\n",
       "      <th>assigned_room_type</th>\n",
       "      <th>booking_changes</th>\n",
       "      <th>deposit_type</th>\n",
       "      <th>agent</th>\n",
       "      <th>company</th>\n",
       "      <th>days_in_waiting_list</th>\n",
       "      <th>customer_type</th>\n",
       "      <th>average_daily_rate</th>\n",
       "      <th>required_car_parking_spaces</th>\n",
       "      <th>total_of_special_requests</th>\n",
       "      <th>arrival_date</th>\n",
       "      <th>arrival_month</th>\n",
       "      <th>arrival_day</th>\n",
       "    </tr>\n",
       "  </thead>\n",
       "  <tbody>\n",
       "    <tr>\n",
       "      <th>0</th>\n",
       "      <td>Resort_Hotel</td>\n",
       "      <td>342</td>\n",
       "      <td>0</td>\n",
       "      <td>0</td>\n",
       "      <td>2</td>\n",
       "      <td>none</td>\n",
       "      <td>BB</td>\n",
       "      <td>PRT</td>\n",
       "      <td>Direct</td>\n",
       "      <td>Direct</td>\n",
       "      <td>0</td>\n",
       "      <td>0</td>\n",
       "      <td>0</td>\n",
       "      <td>C</td>\n",
       "      <td>C</td>\n",
       "      <td>3</td>\n",
       "      <td>No_Deposit</td>\n",
       "      <td>NaN</td>\n",
       "      <td>NaN</td>\n",
       "      <td>0</td>\n",
       "      <td>Transient</td>\n",
       "      <td>0.0</td>\n",
       "      <td>none</td>\n",
       "      <td>0</td>\n",
       "      <td>2015-07-01</td>\n",
       "      <td>July</td>\n",
       "      <td>Wednesday</td>\n",
       "    </tr>\n",
       "    <tr>\n",
       "      <th>1</th>\n",
       "      <td>Resort_Hotel</td>\n",
       "      <td>737</td>\n",
       "      <td>0</td>\n",
       "      <td>0</td>\n",
       "      <td>2</td>\n",
       "      <td>none</td>\n",
       "      <td>BB</td>\n",
       "      <td>PRT</td>\n",
       "      <td>Direct</td>\n",
       "      <td>Direct</td>\n",
       "      <td>0</td>\n",
       "      <td>0</td>\n",
       "      <td>0</td>\n",
       "      <td>C</td>\n",
       "      <td>C</td>\n",
       "      <td>4</td>\n",
       "      <td>No_Deposit</td>\n",
       "      <td>NaN</td>\n",
       "      <td>NaN</td>\n",
       "      <td>0</td>\n",
       "      <td>Transient</td>\n",
       "      <td>0.0</td>\n",
       "      <td>none</td>\n",
       "      <td>0</td>\n",
       "      <td>2015-07-01</td>\n",
       "      <td>July</td>\n",
       "      <td>Wednesday</td>\n",
       "    </tr>\n",
       "    <tr>\n",
       "      <th>2</th>\n",
       "      <td>Resort_Hotel</td>\n",
       "      <td>7</td>\n",
       "      <td>0</td>\n",
       "      <td>1</td>\n",
       "      <td>1</td>\n",
       "      <td>none</td>\n",
       "      <td>BB</td>\n",
       "      <td>GBR</td>\n",
       "      <td>Direct</td>\n",
       "      <td>Direct</td>\n",
       "      <td>0</td>\n",
       "      <td>0</td>\n",
       "      <td>0</td>\n",
       "      <td>A</td>\n",
       "      <td>C</td>\n",
       "      <td>0</td>\n",
       "      <td>No_Deposit</td>\n",
       "      <td>NaN</td>\n",
       "      <td>NaN</td>\n",
       "      <td>0</td>\n",
       "      <td>Transient</td>\n",
       "      <td>75.0</td>\n",
       "      <td>none</td>\n",
       "      <td>0</td>\n",
       "      <td>2015-07-01</td>\n",
       "      <td>July</td>\n",
       "      <td>Wednesday</td>\n",
       "    </tr>\n",
       "    <tr>\n",
       "      <th>3</th>\n",
       "      <td>Resort_Hotel</td>\n",
       "      <td>13</td>\n",
       "      <td>0</td>\n",
       "      <td>1</td>\n",
       "      <td>1</td>\n",
       "      <td>none</td>\n",
       "      <td>BB</td>\n",
       "      <td>GBR</td>\n",
       "      <td>Corporate</td>\n",
       "      <td>Corporate</td>\n",
       "      <td>0</td>\n",
       "      <td>0</td>\n",
       "      <td>0</td>\n",
       "      <td>A</td>\n",
       "      <td>A</td>\n",
       "      <td>0</td>\n",
       "      <td>No_Deposit</td>\n",
       "      <td>304.0</td>\n",
       "      <td>NaN</td>\n",
       "      <td>0</td>\n",
       "      <td>Transient</td>\n",
       "      <td>75.0</td>\n",
       "      <td>none</td>\n",
       "      <td>0</td>\n",
       "      <td>2015-07-01</td>\n",
       "      <td>July</td>\n",
       "      <td>Wednesday</td>\n",
       "    </tr>\n",
       "    <tr>\n",
       "      <th>4</th>\n",
       "      <td>Resort_Hotel</td>\n",
       "      <td>14</td>\n",
       "      <td>0</td>\n",
       "      <td>2</td>\n",
       "      <td>2</td>\n",
       "      <td>none</td>\n",
       "      <td>BB</td>\n",
       "      <td>GBR</td>\n",
       "      <td>Online_TA</td>\n",
       "      <td>TA/TO</td>\n",
       "      <td>0</td>\n",
       "      <td>0</td>\n",
       "      <td>0</td>\n",
       "      <td>A</td>\n",
       "      <td>A</td>\n",
       "      <td>0</td>\n",
       "      <td>No_Deposit</td>\n",
       "      <td>240.0</td>\n",
       "      <td>NaN</td>\n",
       "      <td>0</td>\n",
       "      <td>Transient</td>\n",
       "      <td>98.0</td>\n",
       "      <td>none</td>\n",
       "      <td>1</td>\n",
       "      <td>2015-07-01</td>\n",
       "      <td>July</td>\n",
       "      <td>Wednesday</td>\n",
       "    </tr>\n",
       "  </tbody>\n",
       "</table>\n",
       "</div>"
      ],
      "text/plain": [
       "          hotel  lead_time  stays_in_weekend_nights  stays_in_week_nights  \\\n",
       "0  Resort_Hotel        342                        0                     0   \n",
       "1  Resort_Hotel        737                        0                     0   \n",
       "2  Resort_Hotel          7                        0                     1   \n",
       "3  Resort_Hotel         13                        0                     1   \n",
       "4  Resort_Hotel         14                        0                     2   \n",
       "\n",
       "   adults children meal country market_segment distribution_channel  \\\n",
       "0       2     none   BB     PRT         Direct               Direct   \n",
       "1       2     none   BB     PRT         Direct               Direct   \n",
       "2       1     none   BB     GBR         Direct               Direct   \n",
       "3       1     none   BB     GBR      Corporate            Corporate   \n",
       "4       2     none   BB     GBR      Online_TA                TA/TO   \n",
       "\n",
       "   is_repeated_guest  previous_cancellations  previous_bookings_not_canceled  \\\n",
       "0                  0                       0                               0   \n",
       "1                  0                       0                               0   \n",
       "2                  0                       0                               0   \n",
       "3                  0                       0                               0   \n",
       "4                  0                       0                               0   \n",
       "\n",
       "  reserved_room_type assigned_room_type  booking_changes deposit_type  agent  \\\n",
       "0                  C                  C                3   No_Deposit    NaN   \n",
       "1                  C                  C                4   No_Deposit    NaN   \n",
       "2                  A                  C                0   No_Deposit    NaN   \n",
       "3                  A                  A                0   No_Deposit  304.0   \n",
       "4                  A                  A                0   No_Deposit  240.0   \n",
       "\n",
       "   company  days_in_waiting_list customer_type  average_daily_rate  \\\n",
       "0      NaN                     0     Transient                 0.0   \n",
       "1      NaN                     0     Transient                 0.0   \n",
       "2      NaN                     0     Transient                75.0   \n",
       "3      NaN                     0     Transient                75.0   \n",
       "4      NaN                     0     Transient                98.0   \n",
       "\n",
       "  required_car_parking_spaces  total_of_special_requests arrival_date  \\\n",
       "0                        none                          0   2015-07-01   \n",
       "1                        none                          0   2015-07-01   \n",
       "2                        none                          0   2015-07-01   \n",
       "3                        none                          0   2015-07-01   \n",
       "4                        none                          1   2015-07-01   \n",
       "\n",
       "  arrival_month arrival_day  \n",
       "0          July   Wednesday  \n",
       "1          July   Wednesday  \n",
       "2          July   Wednesday  \n",
       "3          July   Wednesday  \n",
       "4          July   Wednesday  "
      ]
     },
     "execution_count": 2,
     "metadata": {},
     "output_type": "execute_result"
    }
   ],
   "source": [
    "# Se carga el dataset\n",
    "hoteles = pd.read_csv(\"hoteles-entrena.csv\")\n",
    "hoteles['arrival_date'] = pd.to_datetime(hoteles['arrival_date'])\n",
    "hoteles['arrival_month'] = hoteles['arrival_date'].dt.month_name()\n",
    "hoteles['arrival_day'] = hoteles['arrival_date'].dt.day_name()\n",
    "\n",
    "hoteles.head()"
   ]
  },
  {
   "cell_type": "markdown",
   "id": "218b312b-203f-447f-aedd-db80fe207a71",
   "metadata": {},
   "source": [
    "**Información** del conjunto de datos"
   ]
  },
  {
   "cell_type": "code",
   "execution_count": 3,
   "id": "2842fc11-9d9c-4100-a17d-bf85c4f5830d",
   "metadata": {},
   "outputs": [
    {
     "name": "stdout",
     "output_type": "stream",
     "text": [
      "<class 'pandas.core.frame.DataFrame'>\n",
      "RangeIndex: 61969 entries, 0 to 61968\n",
      "Data columns (total 27 columns):\n",
      " #   Column                          Non-Null Count  Dtype         \n",
      "---  ------                          --------------  -----         \n",
      " 0   hotel                           61969 non-null  object        \n",
      " 1   lead_time                       61969 non-null  int64         \n",
      " 2   stays_in_weekend_nights         61969 non-null  int64         \n",
      " 3   stays_in_week_nights            61969 non-null  int64         \n",
      " 4   adults                          61969 non-null  int64         \n",
      " 5   children                        61969 non-null  object        \n",
      " 6   meal                            61969 non-null  object        \n",
      " 7   country                         61548 non-null  object        \n",
      " 8   market_segment                  61969 non-null  object        \n",
      " 9   distribution_channel            61969 non-null  object        \n",
      " 10  is_repeated_guest               61969 non-null  int64         \n",
      " 11  previous_cancellations          61969 non-null  int64         \n",
      " 12  previous_bookings_not_canceled  61969 non-null  int64         \n",
      " 13  reserved_room_type              61969 non-null  object        \n",
      " 14  assigned_room_type              61969 non-null  object        \n",
      " 15  booking_changes                 61969 non-null  int64         \n",
      " 16  deposit_type                    61969 non-null  object        \n",
      " 17  agent                           51029 non-null  float64       \n",
      " 18  company                         4963 non-null   float64       \n",
      " 19  days_in_waiting_list            61969 non-null  int64         \n",
      " 20  customer_type                   61969 non-null  object        \n",
      " 21  average_daily_rate              61969 non-null  float64       \n",
      " 22  required_car_parking_spaces     61969 non-null  object        \n",
      " 23  total_of_special_requests       61969 non-null  int64         \n",
      " 24  arrival_date                    61969 non-null  datetime64[ns]\n",
      " 25  arrival_month                   61969 non-null  object        \n",
      " 26  arrival_day                     61969 non-null  object        \n",
      "dtypes: datetime64[ns](1), float64(3), int64(10), object(13)\n",
      "memory usage: 12.8+ MB\n"
     ]
    }
   ],
   "source": [
    "hoteles.info()"
   ]
  },
  {
   "cell_type": "markdown",
   "id": "9e9fcec2-6aa8-4a18-bf40-d32b9d1a229b",
   "metadata": {},
   "source": [
    "**Buscamos** predecir para una reservación si se van a tener niños o no"
   ]
  },
  {
   "cell_type": "code",
   "execution_count": 4,
   "id": "754bf443-f084-42cb-b297-429ba6df7a91",
   "metadata": {},
   "outputs": [
    {
     "data": {
      "text/plain": [
       "array(['none', 'children'], dtype=object)"
      ]
     },
     "execution_count": 4,
     "metadata": {},
     "output_type": "execute_result"
    }
   ],
   "source": [
    "#Categorías de salida\n",
    "hoteles['children'].unique()"
   ]
  },
  {
   "cell_type": "code",
   "execution_count": 5,
   "id": "75134b97-21f7-4c9d-81b0-f5555fed30d5",
   "metadata": {},
   "outputs": [
    {
     "data": {
      "text/plain": [
       "none        0.925366\n",
       "children    0.074634\n",
       "Name: children, dtype: float64"
      ]
     },
     "execution_count": 5,
     "metadata": {},
     "output_type": "execute_result"
    }
   ],
   "source": [
    "#Balanceo de variable respuesta\n",
    "hoteles['children'].value_counts(normalize=True)"
   ]
  },
  {
   "cell_type": "markdown",
   "id": "1ae55ace-cff7-4a7c-838e-4be305f9f5ba",
   "metadata": {},
   "source": [
    "**Observaciones**\n",
    "* El $92.5\\%$ de las reservaciones no tienen hijos.\n",
    "* El $7.5\\%$ de las reservaciones tienen hijos.\n",
    "* La base está fuertemente desbalanceada para la variable respuesta.\n",
    "* Posiblemente sea requerido un criterio de balanceo de bases."
   ]
  },
  {
   "cell_type": "markdown",
   "id": "ec58f5ef-3f1e-4a05-98ec-cbab320f8404",
   "metadata": {},
   "source": [
    "# Análisis Exploratorio e Ingeniería de Entradas\n",
    "\n",
    "**Primero** empezamos con las variables que no sean numéricas"
   ]
  },
  {
   "cell_type": "code",
   "execution_count": 6,
   "id": "aa65b4a9-31f4-4e22-b250-a35882dab19a",
   "metadata": {},
   "outputs": [
    {
     "name": "stdout",
     "output_type": "stream",
     "text": [
      "hotel:\n",
      "\tCats: 2\n",
      "--------------------\n",
      "children:\n",
      "\tCats: 2\n",
      "--------------------\n",
      "meal:\n",
      "\tCats: 5\n",
      "--------------------\n",
      "country:\n",
      "\tCats: 156\n",
      "--------------------\n",
      "market_segment:\n",
      "\tCats: 7\n",
      "--------------------\n",
      "distribution_channel:\n",
      "\tCats: 5\n",
      "--------------------\n",
      "reserved_room_type:\n",
      "\tCats: 9\n",
      "--------------------\n",
      "assigned_room_type:\n",
      "\tCats: 10\n",
      "--------------------\n",
      "deposit_type:\n",
      "\tCats: 3\n",
      "--------------------\n",
      "customer_type:\n",
      "\tCats: 4\n",
      "--------------------\n",
      "required_car_parking_spaces:\n",
      "\tCats: 2\n",
      "--------------------\n",
      "arrival_month:\n",
      "\tCats: 12\n",
      "--------------------\n",
      "arrival_day:\n",
      "\tCats: 7\n",
      "--------------------\n"
     ]
    }
   ],
   "source": [
    "cat_vars = hoteles.dtypes[hoteles.dtypes == 'object'].keys()\n",
    "for var in cat_vars:\n",
    "    print(f\"{var}:\")\n",
    "    print(f\"\\tCats: {len(hoteles[var].unique())}\")\n",
    "    print(20*'-')"
   ]
  },
  {
   "cell_type": "markdown",
   "id": "57eea428-2e35-49cb-a5fa-3059275008ec",
   "metadata": {},
   "source": [
    "**Descartamos** las variables `country` y `arrival_date` de la lista de variables categóricas para efectos de visualización"
   ]
  },
  {
   "cell_type": "code",
   "execution_count": 7,
   "id": "5659a024-7f4a-4441-a748-c2c2bf7bad53",
   "metadata": {},
   "outputs": [
    {
     "name": "stdout",
     "output_type": "stream",
     "text": [
      "hotel:\n",
      "\tCats: ['Resort_Hotel' 'City_Hotel']\n",
      "--------------------\n",
      "children:\n",
      "\tCats: ['none' 'children']\n",
      "--------------------\n",
      "meal:\n",
      "\tCats: ['BB' 'FB' 'HB' 'SC' 'Undefined']\n",
      "--------------------\n",
      "market_segment:\n",
      "\tCats: ['Direct' 'Corporate' 'Online_TA' 'Offline_TA/TO' 'Complementary' 'Groups'\n",
      " 'Aviation']\n",
      "--------------------\n",
      "distribution_channel:\n",
      "\tCats: ['Direct' 'Corporate' 'TA/TO' 'Undefined' 'GDS']\n",
      "--------------------\n",
      "reserved_room_type:\n",
      "\tCats: ['C' 'A' 'D' 'G' 'E' 'F' 'H' 'L' 'B']\n",
      "--------------------\n",
      "assigned_room_type:\n",
      "\tCats: ['C' 'A' 'D' 'E' 'G' 'F' 'I' 'B' 'H' 'K']\n",
      "--------------------\n",
      "deposit_type:\n",
      "\tCats: ['No_Deposit' 'Refundable' 'Non_Refund']\n",
      "--------------------\n",
      "customer_type:\n",
      "\tCats: ['Transient' 'Contract' 'Transient-Party' 'Group']\n",
      "--------------------\n",
      "required_car_parking_spaces:\n",
      "\tCats: ['none' 'parking']\n",
      "--------------------\n",
      "arrival_month:\n",
      "\tCats: ['July' 'August' 'September' 'October' 'November' 'December' 'January'\n",
      " 'February' 'March' 'April' 'May' 'June']\n",
      "--------------------\n",
      "arrival_day:\n",
      "\tCats: ['Wednesday' 'Thursday' 'Friday' 'Saturday' 'Sunday' 'Monday' 'Tuesday']\n",
      "--------------------\n"
     ]
    }
   ],
   "source": [
    "cat_panel = cat_vars.to_list()\n",
    "cat_panel.remove('country')\n",
    "\n",
    "for var in cat_panel:\n",
    "    print(f\"{var}:\")\n",
    "    print(f\"\\tCats: {hoteles[var].unique()}\")\n",
    "    print(20*'-')"
   ]
  },
  {
   "cell_type": "markdown",
   "id": "485b83c3-5731-4906-a6d2-389bef2697e4",
   "metadata": {},
   "source": [
    "**Graficamos** variables categóricas"
   ]
  },
  {
   "cell_type": "code",
   "execution_count": 8,
   "id": "18e9230c-35d6-4afa-9c5c-991d868bc625",
   "metadata": {},
   "outputs": [
    {
     "data": {
      "image/png": "[encoded data removed]",
      "text/plain": [
       "<Figure size 1440x1080 with 12 Axes>"
      ]
     },
     "metadata": {
      "needs_background": "light"
     },
     "output_type": "display_data"
    }
   ],
   "source": [
    "fig = plt.figure(figsize=(20,15))\n",
    "spec = plt.GridSpec(ncols=4, nrows=3, wspace=0.25, hspace=0.5)\n",
    "\n",
    "#Páneles\n",
    "for i in range(len(cat_panel)):\n",
    "    #Especificaciones de figura\n",
    "    ax = fig.add_subplot(spec[i])\n",
    "    \n",
    "    #Contenido de figura\n",
    "    ax.bar(x=hoteles[cat_panel[i]].unique(), height=hoteles[cat_panel[i]].value_counts())\n",
    "    \n",
    "    #Anotaciones y estilo\n",
    "    ax.set_title(f\"{cat_panel[i]}\", fontsize=14, loc='left')\n",
    "    ax.tick_params(axis='x', labelrotation=60)\n",
    "    ax.grid(alpha=0.1)\n",
    "    # ax.legend()\n",
    "\n",
    "plt.show()"
   ]
  },
  {
   "cell_type": "markdown",
   "id": "58d4cf80-f3b7-40c7-a0a4-eb282518cdb9",
   "metadata": {},
   "source": [
    "**Observamos** que la variable `deposit_type` está fuertemente desbalanceada, la exploramos rápidamente para determinar la proporción de `children` contenida en aquellas reservaciones diferentes a _No_Deposit_ dentro de `deposit_type`"
   ]
  },
  {
   "cell_type": "code",
   "execution_count": 9,
   "id": "228520b6-b64c-41e0-97c8-a961b2c2be2b",
   "metadata": {},
   "outputs": [
    {
     "name": "stdout",
     "output_type": "stream",
     "text": [
      "Cuenta de children en deposite_type dado que no hubo depósito:\n",
      "none        214\n",
      "children      4\n",
      "Name: children, dtype: int64 \n",
      "\n",
      "Se descarta variable\n"
     ]
    }
   ],
   "source": [
    "print(\"Cuenta de children en deposite_type dado que no hubo depósito:\")\n",
    "print(hoteles.loc[hoteles['deposit_type'] != 'No_Deposit']['children'].value_counts(),'\\n')\n",
    "print(\"Se descarta variable\")"
   ]
  },
  {
   "cell_type": "markdown",
   "id": "16803d57-2df8-45f1-88e5-7d7d22dd999d",
   "metadata": {},
   "source": [
    "## País de procedencia"
   ]
  },
  {
   "cell_type": "markdown",
   "id": "26300243-5f61-4034-a029-1ab826fe5dd9",
   "metadata": {},
   "source": [
    "**Revisamos** las dos variables categóricas que descartamos del primer análisis, empezando por `country`.\n",
    "\n",
    "En la información de la base, nos percatamos que `country` es una variable incompleta, entonces:\n",
    ">**Paso 1**: Reemplazamos valores nulor por _OTH_: Other."
   ]
  },
  {
   "cell_type": "code",
   "execution_count": 10,
   "id": "c6882e11-9036-4afd-9e24-c330b72a2fae",
   "metadata": {},
   "outputs": [
    {
     "name": "stdout",
     "output_type": "stream",
     "text": [
      "Valores NaN en country: 0\n"
     ]
    }
   ],
   "source": [
    "hoteles['country'].fillna(value='OTH', inplace=True)\n",
    "\n",
    "#Recuento de nulos después de sustituir\n",
    "print(f\"Valores NaN en country: {hoteles['country'].isna().sum()}\")"
   ]
  },
  {
   "cell_type": "markdown",
   "id": "81e42457-b30e-4572-b5ad-0d2b18e7b311",
   "metadata": {},
   "source": [
    ">**Paso 2**: Observamos la distribución de reservaciones hechas por país."
   ]
  },
  {
   "cell_type": "code",
   "execution_count": 11,
   "id": "d0f944da-2620-4f77-b455-90f1e7a20b4a",
   "metadata": {},
   "outputs": [],
   "source": [
    "#Función para obtener el ordenamiento de los cuantiles\n",
    "def cuantiles_df(df, column):\n",
    "    ordenamiento = pd.DataFrame(df.sort_values(by=column)[column])\n",
    "    ordenamiento.reset_index(drop=True, inplace=True)\n",
    "    ordenamiento['orden'] = pd.Series(np.arange(1,ordenamiento.shape[0]+1))\n",
    "    ordenamiento['f'] = (ordenamiento['orden'] - 0.5)/len(ordenamiento)    \n",
    "    \n",
    "    return ordenamiento"
   ]
  },
  {
   "cell_type": "code",
   "execution_count": 12,
   "id": "783ed894-8eca-4407-8764-ff16cf13d6f7",
   "metadata": {},
   "outputs": [
    {
     "data": {
      "image/png": "[encoded data removed]",
      "text/plain": [
       "<Figure size 504x504 with 1 Axes>"
      ]
     },
     "metadata": {
      "needs_background": "light"
     },
     "output_type": "display_data"
    }
   ],
   "source": [
    "#Se obtiene el recuento de reservaciones por country\n",
    "books_by_country = hoteles.groupby(by='country').count()[['hotel']]\n",
    "bbc_cuantiles = cuantiles_df(books_by_country, 'hotel')\n",
    "\n",
    "#Tamaño de la figura\n",
    "plt.figure(figsize=(7,7))\n",
    "\n",
    "#Graficando para X1\n",
    "plt.scatter(x=bbc_cuantiles['f'], y=np.log(bbc_cuantiles['hotel']), c='red', alpha=0.25)\n",
    "\n",
    "#Styling\n",
    "plt.title('Recuento de reservaciones por país', fontsize=16)\n",
    "plt.xlabel('f', fontsize=14)\n",
    "plt.ylabel('Cuenta [ln]', fontsize=14)\n",
    "plt.yticks(ticks=np.arange(11))\n",
    "plt.grid(alpha=0.25)"
   ]
  },
  {
   "cell_type": "markdown",
   "id": "1990084f-6baa-4127-bb18-771d16d892fb",
   "metadata": {},
   "source": [
    "**Notamos** que al rededor del $80\\%$ de los paises se encuentran por debajo de ${ln}({cuenta}) = 5$, es decir, por debajo de $148$ reservaciones. Análisamos un poco más al respecto.\n",
    ">**Paso 3**: Filtramos aquellos países cuya cuenta de reservaciones esté por debajo de `148`, y observamos la proporción de `children` contenido en este subconjunto."
   ]
  },
  {
   "cell_type": "code",
   "execution_count": 13,
   "id": "073b8cd1-b5b4-4d6e-aeb8-018e0cd8575a",
   "metadata": {},
   "outputs": [],
   "source": [
    "#Se obtienen los países por debajo de 148 reservaciones.\n",
    "country_mask = books_by_country.loc[books_by_country['hotel'] <= 148].index.to_list()"
   ]
  },
  {
   "cell_type": "markdown",
   "id": "990bfa2b-1587-4a0d-9ee0-740492f81305",
   "metadata": {},
   "source": [
    ">**Paso 4**: Obtenemos la proporción de `children` contenidos en los países que filtramos"
   ]
  },
  {
   "cell_type": "code",
   "execution_count": 14,
   "id": "11ba7082-d812-481a-9b14-b46912fb4773",
   "metadata": {},
   "outputs": [
    {
     "name": "stdout",
     "output_type": "stream",
     "text": [
      "Cuenta de children en paises con menos de 148 reservaciones:\n",
      "none        2527\n",
      "children     256\n",
      "Name: children, dtype: int64 \n",
      "\n"
     ]
    }
   ],
   "source": [
    "print(\"Cuenta de children en paises con menos de 148 reservaciones:\")\n",
    "print(hoteles.loc[hoteles['country'].isin(country_mask)]['children'].value_counts(),'\\n')\n",
    "#print(\"Se descarta variable\")"
   ]
  },
  {
   "cell_type": "markdown",
   "id": "fc033d6f-2837-47e4-a999-13f05ae94d59",
   "metadata": {},
   "source": [
    "**Recordamos** la cuenta original de `children`"
   ]
  },
  {
   "cell_type": "code",
   "execution_count": 15,
   "id": "e5f2e899-495c-4fac-9044-11e748eee684",
   "metadata": {},
   "outputs": [
    {
     "data": {
      "text/plain": [
       "none        57344\n",
       "children     4625\n",
       "Name: children, dtype: int64"
      ]
     },
     "execution_count": 15,
     "metadata": {},
     "output_type": "execute_result"
    }
   ],
   "source": [
    "hoteles['children'].value_counts(normalize=False)"
   ]
  },
  {
   "cell_type": "markdown",
   "id": "0e3f6768-bf30-43bb-be31-d688ce21096f",
   "metadata": {},
   "source": [
    "**Observaciones**:\n",
    "* Vemos que de las $4,625$ reservaciones con niños, $256$ se hicieron por los paises que fueron filtrados, lo cual representa el $5.5\\%$ de las reservaciones totales con niños.\n",
    "* Como complemento, el $94.5\\%$ de las reservaciones con niños están contenidas en el $20\\%$ de los países. "
   ]
  },
  {
   "cell_type": "markdown",
   "id": "2ed33cdb-655b-4e9c-88ec-b3bc906aca7b",
   "metadata": {},
   "source": [
    ">**Paso 5**: Reemplazamos las etiquetas de paises cuya cuenta de reservaciones ${ln}({cuenta})\\leq 5$ por `OTH`: Other, y observamos la nueva distribución de paises."
   ]
  },
  {
   "cell_type": "code",
   "execution_count": 16,
   "id": "d2e7ddd6-e1ee-41f1-94c9-61ec7ef86d6e",
   "metadata": {},
   "outputs": [
    {
     "data": {
      "image/png": "[encoded data removed]",
      "text/plain": [
       "<Figure size 504x504 with 1 Axes>"
      ]
     },
     "metadata": {
      "needs_background": "light"
     },
     "output_type": "display_data"
    }
   ],
   "source": [
    "#Reemplazar etiquetas\n",
    "hoteles.loc[hoteles['country'].isin(country_mask), 'country'] = 'OTH'\n",
    "\n",
    "#Se obtiene el recuento de reservaciones por country\n",
    "books_by_country = hoteles.groupby(by='country').count()[['hotel']]\n",
    "bbc_cuantiles = cuantiles_df(books_by_country, 'hotel')\n",
    "\n",
    "#Tamaño de la figura\n",
    "plt.figure(figsize=(7,7))\n",
    "\n",
    "#Graficando para X1\n",
    "plt.scatter(x=bbc_cuantiles['f'], y=bbc_cuantiles['hotel'], c='red', alpha=0.25)\n",
    "\n",
    "#Styling\n",
    "plt.title('Recuento de reservaciones por país', fontsize=16)\n",
    "plt.xlabel('f', fontsize=14)\n",
    "plt.ylabel('Cuenta', fontsize=14)\n",
    "plt.grid(alpha=0.25)"
   ]
  },
  {
   "cell_type": "markdown",
   "id": "ed6ff48a-f59a-4b20-beef-577afb7fa628",
   "metadata": {},
   "source": [
    "**Observaciones**:\n",
    "* La distribución mejoró, pero continúa teniendo una cola extremadamente larga.\n",
    "\n",
    "**Revisamos** la cuenta de reservaciones con `children` por país de estas nuevas etiquetas"
   ]
  },
  {
   "cell_type": "code",
   "execution_count": 17,
   "id": "23d5069a-44b3-474d-b2a2-d438dbf1807e",
   "metadata": {},
   "outputs": [],
   "source": [
    "books_by_country = pd.merge(left=books_by_country,\n",
    "                            right=hoteles.loc[hoteles['children'] == 'children'].groupby(by=['country']).count()[['hotel']],\n",
    "                            on='country',\n",
    "                            suffixes=('', '_child'))\n",
    "books_by_country.sort_values(by='hotel', inplace=True)"
   ]
  },
  {
   "cell_type": "code",
   "execution_count": 18,
   "id": "f6c5b8da-4fcd-4c8d-85d1-ccde5ab30818",
   "metadata": {},
   "outputs": [
    {
     "data": {
      "image/png": "[encoded data removed]",
      "text/plain": [
       "<Figure size 1152x360 with 1 Axes>"
      ]
     },
     "metadata": {
      "needs_background": "light"
     },
     "output_type": "display_data"
    }
   ],
   "source": [
    "plt.figure(figsize=(16,5))\n",
    "\n",
    "#plt.plot(books_by_country.index, np.log(books_by_country['hotel'].values), linewidth=3, label='Total de reservaciones')\n",
    "#plt.plot(books_by_country.index, np.log(books_by_country['hotel_child'].values), linewidth=3, label='Reservaciones con hijos')\n",
    "plt.plot(books_by_country.index, books_by_country['hotel_child'].values/books_by_country['hotel'].values, linewidth=3, label='Proporción')\n",
    "\n",
    "#Anotaciones y estilo\n",
    "plt.title('Cuenta logarítmica de reservaciones: Total vs Con Hijos', fontsize=16)\n",
    "plt.xlabel('Country', fontsize=14)\n",
    "plt.ylabel('$ln$(Cuenta)', fontsize=14)\n",
    "plt.grid(alpha=0.2)\n",
    "plt.legend()\n",
    "\n",
    "plt.show()"
   ]
  },
  {
   "cell_type": "markdown",
   "id": "5f4a3d29-7317-4643-a312-9f0001e92684",
   "metadata": {},
   "source": [
    "**Vemos** que en general, a medida que un país tiene mayor número de reservaciones, la tendencia es que aumente el número de reservaciones con hijos, lo cual es una conclusión obvia. Dicho en otras palabra, "
   ]
  },
  {
   "cell_type": "markdown",
   "id": "263648c7-ec66-4392-868a-264bc9f62cb9",
   "metadata": {},
   "source": [
    "## Descartar variables"
   ]
  },
  {
   "cell_type": "code",
   "execution_count": 19,
   "id": "7495210c-c83c-4176-8ae5-58b0cf4fc971",
   "metadata": {},
   "outputs": [
    {
     "name": "stdout",
     "output_type": "stream",
     "text": [
      "<class 'pandas.core.frame.DataFrame'>\n",
      "RangeIndex: 61969 entries, 0 to 61968\n",
      "Data columns (total 21 columns):\n",
      " #   Column                          Non-Null Count  Dtype  \n",
      "---  ------                          --------------  -----  \n",
      " 0   hotel                           61969 non-null  object \n",
      " 1   lead_time                       61969 non-null  int64  \n",
      " 2   stays_in_weekend_nights         61969 non-null  int64  \n",
      " 3   stays_in_week_nights            61969 non-null  int64  \n",
      " 4   adults                          61969 non-null  int64  \n",
      " 5   children                        61969 non-null  object \n",
      " 6   meal                            61969 non-null  object \n",
      " 7   market_segment                  61969 non-null  object \n",
      " 8   distribution_channel            61969 non-null  object \n",
      " 9   is_repeated_guest               61969 non-null  int64  \n",
      " 10  previous_cancellations          61969 non-null  int64  \n",
      " 11  previous_bookings_not_canceled  61969 non-null  int64  \n",
      " 12  reserved_room_type              61969 non-null  object \n",
      " 13  assigned_room_type              61969 non-null  object \n",
      " 14  booking_changes                 61969 non-null  int64  \n",
      " 15  customer_type                   61969 non-null  object \n",
      " 16  average_daily_rate              61969 non-null  float64\n",
      " 17  required_car_parking_spaces     61969 non-null  object \n",
      " 18  total_of_special_requests       61969 non-null  int64  \n",
      " 19  arrival_month                   61969 non-null  object \n",
      " 20  arrival_day                     61969 non-null  object \n",
      "dtypes: float64(1), int64(9), object(11)\n",
      "memory usage: 9.9+ MB\n"
     ]
    }
   ],
   "source": [
    "cols_to_drop = ['deposit_type', 'days_in_waiting_list', 'company', 'agent', 'arrival_date', 'country']\n",
    "\n",
    "hoteles.drop(columns=cols_to_drop, inplace=True)\n",
    "hoteles.info()"
   ]
  },
  {
   "cell_type": "code",
   "execution_count": 20,
   "id": "7e1e0760-57ba-4e1b-aa22-802e86f5bba0",
   "metadata": {},
   "outputs": [
    {
     "data": {
      "text/html": [
       "<div>\n",
       "<style scoped>\n",
       "    .dataframe tbody tr th:only-of-type {\n",
       "        vertical-align: middle;\n",
       "    }\n",
       "\n",
       "    .dataframe tbody tr th {\n",
       "        vertical-align: top;\n",
       "    }\n",
       "\n",
       "    .dataframe thead th {\n",
       "        text-align: right;\n",
       "    }\n",
       "</style>\n",
       "<table border=\"1\" class=\"dataframe\">\n",
       "  <thead>\n",
       "    <tr style=\"text-align: right;\">\n",
       "      <th></th>\n",
       "      <th>hotel</th>\n",
       "      <th>lead_time</th>\n",
       "      <th>stays_in_weekend_nights</th>\n",
       "      <th>stays_in_week_nights</th>\n",
       "      <th>adults</th>\n",
       "      <th>children</th>\n",
       "      <th>meal</th>\n",
       "      <th>market_segment</th>\n",
       "      <th>distribution_channel</th>\n",
       "      <th>is_repeated_guest</th>\n",
       "      <th>previous_cancellations</th>\n",
       "      <th>previous_bookings_not_canceled</th>\n",
       "      <th>reserved_room_type</th>\n",
       "      <th>assigned_room_type</th>\n",
       "      <th>booking_changes</th>\n",
       "      <th>customer_type</th>\n",
       "      <th>average_daily_rate</th>\n",
       "      <th>required_car_parking_spaces</th>\n",
       "      <th>total_of_special_requests</th>\n",
       "      <th>arrival_month</th>\n",
       "      <th>arrival_day</th>\n",
       "    </tr>\n",
       "  </thead>\n",
       "  <tbody>\n",
       "    <tr>\n",
       "      <th>0</th>\n",
       "      <td>Resort_Hotel</td>\n",
       "      <td>342</td>\n",
       "      <td>0</td>\n",
       "      <td>0</td>\n",
       "      <td>2</td>\n",
       "      <td>0</td>\n",
       "      <td>BB</td>\n",
       "      <td>Direct</td>\n",
       "      <td>Direct</td>\n",
       "      <td>0</td>\n",
       "      <td>0</td>\n",
       "      <td>0</td>\n",
       "      <td>C</td>\n",
       "      <td>C</td>\n",
       "      <td>3</td>\n",
       "      <td>Transient</td>\n",
       "      <td>0.0</td>\n",
       "      <td>none</td>\n",
       "      <td>0</td>\n",
       "      <td>July</td>\n",
       "      <td>Wednesday</td>\n",
       "    </tr>\n",
       "    <tr>\n",
       "      <th>1</th>\n",
       "      <td>Resort_Hotel</td>\n",
       "      <td>737</td>\n",
       "      <td>0</td>\n",
       "      <td>0</td>\n",
       "      <td>2</td>\n",
       "      <td>0</td>\n",
       "      <td>BB</td>\n",
       "      <td>Direct</td>\n",
       "      <td>Direct</td>\n",
       "      <td>0</td>\n",
       "      <td>0</td>\n",
       "      <td>0</td>\n",
       "      <td>C</td>\n",
       "      <td>C</td>\n",
       "      <td>4</td>\n",
       "      <td>Transient</td>\n",
       "      <td>0.0</td>\n",
       "      <td>none</td>\n",
       "      <td>0</td>\n",
       "      <td>July</td>\n",
       "      <td>Wednesday</td>\n",
       "    </tr>\n",
       "    <tr>\n",
       "      <th>2</th>\n",
       "      <td>Resort_Hotel</td>\n",
       "      <td>7</td>\n",
       "      <td>0</td>\n",
       "      <td>1</td>\n",
       "      <td>1</td>\n",
       "      <td>0</td>\n",
       "      <td>BB</td>\n",
       "      <td>Direct</td>\n",
       "      <td>Direct</td>\n",
       "      <td>0</td>\n",
       "      <td>0</td>\n",
       "      <td>0</td>\n",
       "      <td>A</td>\n",
       "      <td>C</td>\n",
       "      <td>0</td>\n",
       "      <td>Transient</td>\n",
       "      <td>75.0</td>\n",
       "      <td>none</td>\n",
       "      <td>0</td>\n",
       "      <td>July</td>\n",
       "      <td>Wednesday</td>\n",
       "    </tr>\n",
       "    <tr>\n",
       "      <th>3</th>\n",
       "      <td>Resort_Hotel</td>\n",
       "      <td>13</td>\n",
       "      <td>0</td>\n",
       "      <td>1</td>\n",
       "      <td>1</td>\n",
       "      <td>0</td>\n",
       "      <td>BB</td>\n",
       "      <td>Corporate</td>\n",
       "      <td>Corporate</td>\n",
       "      <td>0</td>\n",
       "      <td>0</td>\n",
       "      <td>0</td>\n",
       "      <td>A</td>\n",
       "      <td>A</td>\n",
       "      <td>0</td>\n",
       "      <td>Transient</td>\n",
       "      <td>75.0</td>\n",
       "      <td>none</td>\n",
       "      <td>0</td>\n",
       "      <td>July</td>\n",
       "      <td>Wednesday</td>\n",
       "    </tr>\n",
       "    <tr>\n",
       "      <th>4</th>\n",
       "      <td>Resort_Hotel</td>\n",
       "      <td>14</td>\n",
       "      <td>0</td>\n",
       "      <td>2</td>\n",
       "      <td>2</td>\n",
       "      <td>0</td>\n",
       "      <td>BB</td>\n",
       "      <td>Online_TA</td>\n",
       "      <td>TA/TO</td>\n",
       "      <td>0</td>\n",
       "      <td>0</td>\n",
       "      <td>0</td>\n",
       "      <td>A</td>\n",
       "      <td>A</td>\n",
       "      <td>0</td>\n",
       "      <td>Transient</td>\n",
       "      <td>98.0</td>\n",
       "      <td>none</td>\n",
       "      <td>1</td>\n",
       "      <td>July</td>\n",
       "      <td>Wednesday</td>\n",
       "    </tr>\n",
       "  </tbody>\n",
       "</table>\n",
       "</div>"
      ],
      "text/plain": [
       "          hotel  lead_time  stays_in_weekend_nights  stays_in_week_nights  \\\n",
       "0  Resort_Hotel        342                        0                     0   \n",
       "1  Resort_Hotel        737                        0                     0   \n",
       "2  Resort_Hotel          7                        0                     1   \n",
       "3  Resort_Hotel         13                        0                     1   \n",
       "4  Resort_Hotel         14                        0                     2   \n",
       "\n",
       "   adults  children meal market_segment distribution_channel  \\\n",
       "0       2         0   BB         Direct               Direct   \n",
       "1       2         0   BB         Direct               Direct   \n",
       "2       1         0   BB         Direct               Direct   \n",
       "3       1         0   BB      Corporate            Corporate   \n",
       "4       2         0   BB      Online_TA                TA/TO   \n",
       "\n",
       "   is_repeated_guest  previous_cancellations  previous_bookings_not_canceled  \\\n",
       "0                  0                       0                               0   \n",
       "1                  0                       0                               0   \n",
       "2                  0                       0                               0   \n",
       "3                  0                       0                               0   \n",
       "4                  0                       0                               0   \n",
       "\n",
       "  reserved_room_type assigned_room_type  booking_changes customer_type  \\\n",
       "0                  C                  C                3     Transient   \n",
       "1                  C                  C                4     Transient   \n",
       "2                  A                  C                0     Transient   \n",
       "3                  A                  A                0     Transient   \n",
       "4                  A                  A                0     Transient   \n",
       "\n",
       "   average_daily_rate required_car_parking_spaces  total_of_special_requests  \\\n",
       "0                 0.0                        none                          0   \n",
       "1                 0.0                        none                          0   \n",
       "2                75.0                        none                          0   \n",
       "3                75.0                        none                          0   \n",
       "4                98.0                        none                          1   \n",
       "\n",
       "  arrival_month arrival_day  \n",
       "0          July   Wednesday  \n",
       "1          July   Wednesday  \n",
       "2          July   Wednesday  \n",
       "3          July   Wednesday  \n",
       "4          July   Wednesday  "
      ]
     },
     "execution_count": 20,
     "metadata": {},
     "output_type": "execute_result"
    }
   ],
   "source": [
    "hoteles['children'].replace(to_replace=['none','children'], value=[0,1], inplace=True)\n",
    "hoteles.head()"
   ]
  },
  {
   "cell_type": "markdown",
   "id": "b457dc76-ff19-4c18-9c87-48009eee4331",
   "metadata": {},
   "source": [
    "# Regresión logística \n",
    "\n",
    "Haciendo un primer modelo"
   ]
  },
  {
   "cell_type": "code",
   "execution_count": 21,
   "id": "bbec912e-eb1f-4682-904c-7d4bcef1a714",
   "metadata": {},
   "outputs": [],
   "source": [
    "from sklearn.model_selection import train_test_split, cross_validate, GridSearchCV\n",
    "from sklearn.preprocessing import OneHotEncoder, MinMaxScaler\n",
    "from sklearn.compose import ColumnTransformer, make_column_selector\n",
    "from sklearn.pipeline import Pipeline\n",
    "\n",
    "from sklearn.linear_model import LogisticRegression\n",
    "from sklearn.metrics import log_loss"
   ]
  },
  {
   "cell_type": "code",
   "execution_count": 22,
   "id": "0d020798-9792-46c2-805c-6b0f31747643",
   "metadata": {},
   "outputs": [],
   "source": [
    "#Partimos en train y test\n",
    "train, test = train_test_split(hoteles, test_size=0.2)\n",
    "\n",
    "#Se generan predictoras y respuestas desde el dataset de entrenamiento\n",
    "xtrain = train.drop('children', axis=1)\n",
    "ytrain = train['children']"
   ]
  },
  {
   "cell_type": "code",
   "execution_count": 23,
   "id": "f0b0e762-49b8-419a-bb29-c0aed7dc1b8d",
   "metadata": {},
   "outputs": [],
   "source": [
    "#Objeto de transformación de columnas\n",
    "column_selector = ColumnTransformer([\n",
    "    ('label_bin2', OneHotEncoder(sparse=True, handle_unknown='ignore'), make_column_selector(dtype_include='object')),\n",
    "    (\"scaler\", MinMaxScaler(), make_column_selector(dtype_include=['int', 'float']))\n",
    "])\n",
    "\n",
    "#Se genera un pipeline\n",
    "log_reg = Pipeline([\n",
    "    ('select_cols', column_selector),\n",
    "    ('log_reg', LogisticRegression(max_iter=500))\n",
    "])"
   ]
  },
  {
   "cell_type": "code",
   "execution_count": 24,
   "id": "833644e7-cba6-4104-a1dd-2fd63be81205",
   "metadata": {
    "tags": []
   },
   "outputs": [
    {
     "name": "stdout",
     "output_type": "stream",
     "text": [
      "Wall time: 1.12 s\n"
     ]
    },
    {
     "data": {
      "text/html": [
       "<style>#sk-container-id-1 {color: black;background-color: white;}#sk-container-id-1 pre{padding: 0;}#sk-container-id-1 div.sk-toggleable {background-color: white;}#sk-container-id-1 label.sk-toggleable__label {cursor: pointer;display: block;width: 100%;margin-bottom: 0;padding: 0.3em;box-sizing: border-box;text-align: center;}#sk-container-id-1 label.sk-toggleable__label-arrow:before {content: \"▸\";float: left;margin-right: 0.25em;color: #696969;}#sk-container-id-1 label.sk-toggleable__label-arrow:hover:before {color: black;}#sk-container-id-1 div.sk-estimator:hover label.sk-toggleable__label-arrow:before {color: black;}#sk-container-id-1 div.sk-toggleable__content {max-height: 0;max-width: 0;overflow: hidden;text-align: left;background-color: #f0f8ff;}#sk-container-id-1 div.sk-toggleable__content pre {margin: 0.2em;color: black;border-radius: 0.25em;background-color: #f0f8ff;}#sk-container-id-1 input.sk-toggleable__control:checked~div.sk-toggleable__content {max-height: 200px;max-width: 100%;overflow: auto;}#sk-container-id-1 input.sk-toggleable__control:checked~label.sk-toggleable__label-arrow:before {content: \"▾\";}#sk-container-id-1 div.sk-estimator input.sk-toggleable__control:checked~label.sk-toggleable__label {background-color: #d4ebff;}#sk-container-id-1 div.sk-label input.sk-toggleable__control:checked~label.sk-toggleable__label {background-color: #d4ebff;}#sk-container-id-1 input.sk-hidden--visually {border: 0;clip: rect(1px 1px 1px 1px);clip: rect(1px, 1px, 1px, 1px);height: 1px;margin: -1px;overflow: hidden;padding: 0;position: absolute;width: 1px;}#sk-container-id-1 div.sk-estimator {font-family: monospace;background-color: #f0f8ff;border: 1px dotted black;border-radius: 0.25em;box-sizing: border-box;margin-bottom: 0.5em;}#sk-container-id-1 div.sk-estimator:hover {background-color: #d4ebff;}#sk-container-id-1 div.sk-parallel-item::after {content: \"\";width: 100%;border-bottom: 1px solid gray;flex-grow: 1;}#sk-container-id-1 div.sk-label:hover label.sk-toggleable__label {background-color: #d4ebff;}#sk-container-id-1 div.sk-serial::before {content: \"\";position: absolute;border-left: 1px solid gray;box-sizing: border-box;top: 0;bottom: 0;left: 50%;z-index: 0;}#sk-container-id-1 div.sk-serial {display: flex;flex-direction: column;align-items: center;background-color: white;padding-right: 0.2em;padding-left: 0.2em;position: relative;}#sk-container-id-1 div.sk-item {position: relative;z-index: 1;}#sk-container-id-1 div.sk-parallel {display: flex;align-items: stretch;justify-content: center;background-color: white;position: relative;}#sk-container-id-1 div.sk-item::before, #sk-container-id-1 div.sk-parallel-item::before {content: \"\";position: absolute;border-left: 1px solid gray;box-sizing: border-box;top: 0;bottom: 0;left: 50%;z-index: -1;}#sk-container-id-1 div.sk-parallel-item {display: flex;flex-direction: column;z-index: 1;position: relative;background-color: white;}#sk-container-id-1 div.sk-parallel-item:first-child::after {align-self: flex-end;width: 50%;}#sk-container-id-1 div.sk-parallel-item:last-child::after {align-self: flex-start;width: 50%;}#sk-container-id-1 div.sk-parallel-item:only-child::after {width: 0;}#sk-container-id-1 div.sk-dashed-wrapped {border: 1px dashed gray;margin: 0 0.4em 0.5em 0.4em;box-sizing: border-box;padding-bottom: 0.4em;background-color: white;}#sk-container-id-1 div.sk-label label {font-family: monospace;font-weight: bold;display: inline-block;line-height: 1.2em;}#sk-container-id-1 div.sk-label-container {text-align: center;}#sk-container-id-1 div.sk-container {/* jupyter's `normalize.less` sets `[hidden] { display: none; }` but bootstrap.min.css set `[hidden] { display: none !important; }` so we also need the `!important` here to be able to override the default hidden behavior on the sphinx rendered scikit-learn.org. See: https://github.com/scikit-learn/scikit-learn/issues/21755 */display: inline-block !important;position: relative;}#sk-container-id-1 div.sk-text-repr-fallback {display: none;}</style><div id=\"sk-container-id-1\" class=\"sk-top-container\"><div class=\"sk-text-repr-fallback\"><pre>Pipeline(steps=[(&#x27;select_cols&#x27;,\n",
       "                 ColumnTransformer(transformers=[(&#x27;label_bin2&#x27;,\n",
       "                                                  OneHotEncoder(handle_unknown=&#x27;ignore&#x27;),\n",
       "                                                  &lt;sklearn.compose._column_transformer.make_column_selector object at 0x00000252F96CE970&gt;),\n",
       "                                                 (&#x27;scaler&#x27;, MinMaxScaler(),\n",
       "                                                  &lt;sklearn.compose._column_transformer.make_column_selector object at 0x00000252F9673D00&gt;)])),\n",
       "                (&#x27;log_reg&#x27;, LogisticRegression(max_iter=500))])</pre><b>In a Jupyter environment, please rerun this cell to show the HTML representation or trust the notebook. <br />On GitHub, the HTML representation is unable to render, please try loading this page with nbviewer.org.</b></div><div class=\"sk-container\" hidden><div class=\"sk-item sk-dashed-wrapped\"><div class=\"sk-label-container\"><div class=\"sk-label sk-toggleable\"><input class=\"sk-toggleable__control sk-hidden--visually\" id=\"sk-estimator-id-1\" type=\"checkbox\" ><label for=\"sk-estimator-id-1\" class=\"sk-toggleable__label sk-toggleable__label-arrow\">Pipeline</label><div class=\"sk-toggleable__content\"><pre>Pipeline(steps=[(&#x27;select_cols&#x27;,\n",
       "                 ColumnTransformer(transformers=[(&#x27;label_bin2&#x27;,\n",
       "                                                  OneHotEncoder(handle_unknown=&#x27;ignore&#x27;),\n",
       "                                                  &lt;sklearn.compose._column_transformer.make_column_selector object at 0x00000252F96CE970&gt;),\n",
       "                                                 (&#x27;scaler&#x27;, MinMaxScaler(),\n",
       "                                                  &lt;sklearn.compose._column_transformer.make_column_selector object at 0x00000252F9673D00&gt;)])),\n",
       "                (&#x27;log_reg&#x27;, LogisticRegression(max_iter=500))])</pre></div></div></div><div class=\"sk-serial\"><div class=\"sk-item sk-dashed-wrapped\"><div class=\"sk-label-container\"><div class=\"sk-label sk-toggleable\"><input class=\"sk-toggleable__control sk-hidden--visually\" id=\"sk-estimator-id-2\" type=\"checkbox\" ><label for=\"sk-estimator-id-2\" class=\"sk-toggleable__label sk-toggleable__label-arrow\">select_cols: ColumnTransformer</label><div class=\"sk-toggleable__content\"><pre>ColumnTransformer(transformers=[(&#x27;label_bin2&#x27;,\n",
       "                                 OneHotEncoder(handle_unknown=&#x27;ignore&#x27;),\n",
       "                                 &lt;sklearn.compose._column_transformer.make_column_selector object at 0x00000252F96CE970&gt;),\n",
       "                                (&#x27;scaler&#x27;, MinMaxScaler(),\n",
       "                                 &lt;sklearn.compose._column_transformer.make_column_selector object at 0x00000252F9673D00&gt;)])</pre></div></div></div><div class=\"sk-parallel\"><div class=\"sk-parallel-item\"><div class=\"sk-item\"><div class=\"sk-label-container\"><div class=\"sk-label sk-toggleable\"><input class=\"sk-toggleable__control sk-hidden--visually\" id=\"sk-estimator-id-3\" type=\"checkbox\" ><label for=\"sk-estimator-id-3\" class=\"sk-toggleable__label sk-toggleable__label-arrow\">label_bin2</label><div class=\"sk-toggleable__content\"><pre>&lt;sklearn.compose._column_transformer.make_column_selector object at 0x00000252F96CE970&gt;</pre></div></div></div><div class=\"sk-serial\"><div class=\"sk-item\"><div class=\"sk-estimator sk-toggleable\"><input class=\"sk-toggleable__control sk-hidden--visually\" id=\"sk-estimator-id-4\" type=\"checkbox\" ><label for=\"sk-estimator-id-4\" class=\"sk-toggleable__label sk-toggleable__label-arrow\">OneHotEncoder</label><div class=\"sk-toggleable__content\"><pre>OneHotEncoder(handle_unknown=&#x27;ignore&#x27;)</pre></div></div></div></div></div></div><div class=\"sk-parallel-item\"><div class=\"sk-item\"><div class=\"sk-label-container\"><div class=\"sk-label sk-toggleable\"><input class=\"sk-toggleable__control sk-hidden--visually\" id=\"sk-estimator-id-5\" type=\"checkbox\" ><label for=\"sk-estimator-id-5\" class=\"sk-toggleable__label sk-toggleable__label-arrow\">scaler</label><div class=\"sk-toggleable__content\"><pre>&lt;sklearn.compose._column_transformer.make_column_selector object at 0x00000252F9673D00&gt;</pre></div></div></div><div class=\"sk-serial\"><div class=\"sk-item\"><div class=\"sk-estimator sk-toggleable\"><input class=\"sk-toggleable__control sk-hidden--visually\" id=\"sk-estimator-id-6\" type=\"checkbox\" ><label for=\"sk-estimator-id-6\" class=\"sk-toggleable__label sk-toggleable__label-arrow\">MinMaxScaler</label><div class=\"sk-toggleable__content\"><pre>MinMaxScaler()</pre></div></div></div></div></div></div></div></div><div class=\"sk-item\"><div class=\"sk-estimator sk-toggleable\"><input class=\"sk-toggleable__control sk-hidden--visually\" id=\"sk-estimator-id-7\" type=\"checkbox\" ><label for=\"sk-estimator-id-7\" class=\"sk-toggleable__label sk-toggleable__label-arrow\">LogisticRegression</label><div class=\"sk-toggleable__content\"><pre>LogisticRegression(max_iter=500)</pre></div></div></div></div></div></div></div>"
      ],
      "text/plain": [
       "Pipeline(steps=[('select_cols',\n",
       "                 ColumnTransformer(transformers=[('label_bin2',\n",
       "                                                  OneHotEncoder(handle_unknown='ignore'),\n",
       "                                                  <sklearn.compose._column_transformer.make_column_selector object at 0x00000252F96CE970>),\n",
       "                                                 ('scaler', MinMaxScaler(),\n",
       "                                                  <sklearn.compose._column_transformer.make_column_selector object at 0x00000252F9673D00>)])),\n",
       "                ('log_reg', LogisticRegression(max_iter=500))])"
      ]
     },
     "execution_count": 24,
     "metadata": {},
     "output_type": "execute_result"
    }
   ],
   "source": [
    "%%time\n",
    "\n",
    "#Entrenamiento\n",
    "log_reg.fit(xtrain, ytrain)"
   ]
  },
  {
   "cell_type": "code",
   "execution_count": 25,
   "id": "89c4a288-9ed4-4293-bd77-57e1178e05e9",
   "metadata": {},
   "outputs": [
    {
     "name": "stdout",
     "output_type": "stream",
     "text": [
      "Wall time: 10 s\n"
     ]
    },
    {
     "data": {
      "text/plain": [
       "{'fit_time': array([1.12749505, 0.99066329, 0.97697663, 1.00270176, 0.98074651,\n",
       "        0.97340751, 0.89789748, 0.91173458, 0.94776773, 0.97045255]),\n",
       " 'score_time': array([0.02220225, 0.01898885, 0.01898766, 0.01799583, 0.01897359,\n",
       "        0.01800418, 0.01898766, 0.01897931, 0.01802421, 0.02417445]),\n",
       " 'test_score': array([-0.17224302, -0.17890167, -0.1708953 , -0.16944839, -0.16960787,\n",
       "        -0.17323739, -0.17344734, -0.18068489, -0.17750445, -0.1809332 ])}"
      ]
     },
     "execution_count": 25,
     "metadata": {},
     "output_type": "execute_result"
    }
   ],
   "source": [
    "%%time\n",
    "\n",
    "cvscore = cross_validate(log_reg, xtrain, ytrain, cv=10, scoring='neg_log_loss')\n",
    "cvscore"
   ]
  },
  {
   "cell_type": "code",
   "execution_count": 26,
   "id": "cd73e8f2-7771-4c45-a38b-d8e4074be9b9",
   "metadata": {},
   "outputs": [
    {
     "data": {
      "text/plain": [
       "0.17469035143886308"
      ]
     },
     "execution_count": 26,
     "metadata": {},
     "output_type": "execute_result"
    }
   ],
   "source": [
    "-cvscore['test_score'].mean()"
   ]
  },
  {
   "cell_type": "markdown",
   "id": "f4b95d08-f743-448c-9f34-207223eaf2c8",
   "metadata": {},
   "source": [
    "## Evaluando con datos de validación"
   ]
  },
  {
   "cell_type": "code",
   "execution_count": 27,
   "id": "c43a788e-68b5-4a3c-a89c-2f479d4e34f3",
   "metadata": {},
   "outputs": [],
   "source": [
    "#Se generan predictoras y respuestas desde el dataset de entrenamiento\n",
    "xval = test.drop('children', axis=1)\n",
    "yval = test['children']"
   ]
  },
  {
   "cell_type": "code",
   "execution_count": 28,
   "id": "740bb861-93a4-45c2-b6da-1767ddb89946",
   "metadata": {},
   "outputs": [
    {
     "data": {
      "text/plain": [
       "0.17739630712109664"
      ]
     },
     "execution_count": 28,
     "metadata": {},
     "output_type": "execute_result"
    }
   ],
   "source": [
    "log_loss(y_true=yval, y_pred=log_reg.predict_proba(xval))"
   ]
  },
  {
   "cell_type": "markdown",
   "id": "f0ee632d-1e65-411a-a2df-7edcfa4dcf2d",
   "metadata": {},
   "source": [
    "# Regresión Logística - GridSearch"
   ]
  },
  {
   "cell_type": "markdown",
   "id": "87c03804-9e30-4d42-bafe-fb653879a682",
   "metadata": {},
   "source": [
    "Encontrando mejores estimadores"
   ]
  },
  {
   "cell_type": "code",
   "execution_count": 33,
   "id": "1753f859-a847-4b0b-a7cb-cbe55828d0c9",
   "metadata": {},
   "outputs": [],
   "source": [
    "#Objeto de transformación de columnas\n",
    "column_selector = ColumnTransformer([\n",
    "    ('label_bin2', OneHotEncoder(sparse=True, handle_unknown='ignore'), make_column_selector(dtype_include='object')),\n",
    "    (\"scaler\", MinMaxScaler(), make_column_selector(dtype_include=['int', 'float']))\n",
    "])\n",
    "\n",
    "#Se genera un pipeline\n",
    "log_reg = Pipeline([\n",
    "    ('select_cols', column_selector),\n",
    "    ('log_reg', LogisticRegression(penalty='l2',\n",
    "                                   C=1,\n",
    "                                   class_weight=None,\n",
    "                                   solver='saga',\n",
    "                                   max_iter=500,\n",
    "                                   n_jobs=-1))\n",
    "])\n",
    "\n",
    "#key format: 'modelo__hiperparámetro'\n",
    "grid = {'log_reg__penalty': ['l1', 'l2'],\n",
    "        'log_reg__C': [1, 1e-1, 1e-2],\n",
    "        'log_reg__class_weight': [None, 'balanced']}"
   ]
  },
  {
   "cell_type": "code",
   "execution_count": 34,
   "id": "bdd868d8-644d-4ff8-aadf-79f0a453884b",
   "metadata": {},
   "outputs": [
    {
     "name": "stdout",
     "output_type": "stream",
     "text": [
      "Fitting 5 folds for each of 12 candidates, totalling 60 fits\n",
      "Wall time: 1min 11s\n"
     ]
    },
    {
     "data": {
      "text/html": [
       "<style>#sk-container-id-2 {color: black;background-color: white;}#sk-container-id-2 pre{padding: 0;}#sk-container-id-2 div.sk-toggleable {background-color: white;}#sk-container-id-2 label.sk-toggleable__label {cursor: pointer;display: block;width: 100%;margin-bottom: 0;padding: 0.3em;box-sizing: border-box;text-align: center;}#sk-container-id-2 label.sk-toggleable__label-arrow:before {content: \"▸\";float: left;margin-right: 0.25em;color: #696969;}#sk-container-id-2 label.sk-toggleable__label-arrow:hover:before {color: black;}#sk-container-id-2 div.sk-estimator:hover label.sk-toggleable__label-arrow:before {color: black;}#sk-container-id-2 div.sk-toggleable__content {max-height: 0;max-width: 0;overflow: hidden;text-align: left;background-color: #f0f8ff;}#sk-container-id-2 div.sk-toggleable__content pre {margin: 0.2em;color: black;border-radius: 0.25em;background-color: #f0f8ff;}#sk-container-id-2 input.sk-toggleable__control:checked~div.sk-toggleable__content {max-height: 200px;max-width: 100%;overflow: auto;}#sk-container-id-2 input.sk-toggleable__control:checked~label.sk-toggleable__label-arrow:before {content: \"▾\";}#sk-container-id-2 div.sk-estimator input.sk-toggleable__control:checked~label.sk-toggleable__label {background-color: #d4ebff;}#sk-container-id-2 div.sk-label input.sk-toggleable__control:checked~label.sk-toggleable__label {background-color: #d4ebff;}#sk-container-id-2 input.sk-hidden--visually {border: 0;clip: rect(1px 1px 1px 1px);clip: rect(1px, 1px, 1px, 1px);height: 1px;margin: -1px;overflow: hidden;padding: 0;position: absolute;width: 1px;}#sk-container-id-2 div.sk-estimator {font-family: monospace;background-color: #f0f8ff;border: 1px dotted black;border-radius: 0.25em;box-sizing: border-box;margin-bottom: 0.5em;}#sk-container-id-2 div.sk-estimator:hover {background-color: #d4ebff;}#sk-container-id-2 div.sk-parallel-item::after {content: \"\";width: 100%;border-bottom: 1px solid gray;flex-grow: 1;}#sk-container-id-2 div.sk-label:hover label.sk-toggleable__label {background-color: #d4ebff;}#sk-container-id-2 div.sk-serial::before {content: \"\";position: absolute;border-left: 1px solid gray;box-sizing: border-box;top: 0;bottom: 0;left: 50%;z-index: 0;}#sk-container-id-2 div.sk-serial {display: flex;flex-direction: column;align-items: center;background-color: white;padding-right: 0.2em;padding-left: 0.2em;position: relative;}#sk-container-id-2 div.sk-item {position: relative;z-index: 1;}#sk-container-id-2 div.sk-parallel {display: flex;align-items: stretch;justify-content: center;background-color: white;position: relative;}#sk-container-id-2 div.sk-item::before, #sk-container-id-2 div.sk-parallel-item::before {content: \"\";position: absolute;border-left: 1px solid gray;box-sizing: border-box;top: 0;bottom: 0;left: 50%;z-index: -1;}#sk-container-id-2 div.sk-parallel-item {display: flex;flex-direction: column;z-index: 1;position: relative;background-color: white;}#sk-container-id-2 div.sk-parallel-item:first-child::after {align-self: flex-end;width: 50%;}#sk-container-id-2 div.sk-parallel-item:last-child::after {align-self: flex-start;width: 50%;}#sk-container-id-2 div.sk-parallel-item:only-child::after {width: 0;}#sk-container-id-2 div.sk-dashed-wrapped {border: 1px dashed gray;margin: 0 0.4em 0.5em 0.4em;box-sizing: border-box;padding-bottom: 0.4em;background-color: white;}#sk-container-id-2 div.sk-label label {font-family: monospace;font-weight: bold;display: inline-block;line-height: 1.2em;}#sk-container-id-2 div.sk-label-container {text-align: center;}#sk-container-id-2 div.sk-container {/* jupyter's `normalize.less` sets `[hidden] { display: none; }` but bootstrap.min.css set `[hidden] { display: none !important; }` so we also need the `!important` here to be able to override the default hidden behavior on the sphinx rendered scikit-learn.org. See: https://github.com/scikit-learn/scikit-learn/issues/21755 */display: inline-block !important;position: relative;}#sk-container-id-2 div.sk-text-repr-fallback {display: none;}</style><div id=\"sk-container-id-2\" class=\"sk-top-container\"><div class=\"sk-text-repr-fallback\"><pre>GridSearchCV(cv=5,\n",
       "             estimator=Pipeline(steps=[(&#x27;select_cols&#x27;,\n",
       "                                        ColumnTransformer(transformers=[(&#x27;label_bin2&#x27;,\n",
       "                                                                         OneHotEncoder(handle_unknown=&#x27;ignore&#x27;),\n",
       "                                                                         &lt;sklearn.compose._column_transformer.make_column_selector object at 0x0000025408A3A1C0&gt;),\n",
       "                                                                        (&#x27;scaler&#x27;,\n",
       "                                                                         MinMaxScaler(),\n",
       "                                                                         &lt;sklearn.compose._column_transformer.make_column_selector object at 0x0000025408A3A310&gt;)])),\n",
       "                                       (&#x27;log_reg&#x27;,\n",
       "                                        LogisticRegression(C=1, max_iter=500,\n",
       "                                                           n_jobs=-1,\n",
       "                                                           solver=&#x27;saga&#x27;))]),\n",
       "             n_jobs=-1,\n",
       "             param_grid={&#x27;log_reg__C&#x27;: [1, 0.1, 0.01],\n",
       "                         &#x27;log_reg__class_weight&#x27;: [None, &#x27;balanced&#x27;],\n",
       "                         &#x27;log_reg__penalty&#x27;: [&#x27;l1&#x27;, &#x27;l2&#x27;]},\n",
       "             return_train_score=True, scoring=&#x27;neg_log_loss&#x27;, verbose=1)</pre><b>In a Jupyter environment, please rerun this cell to show the HTML representation or trust the notebook. <br />On GitHub, the HTML representation is unable to render, please try loading this page with nbviewer.org.</b></div><div class=\"sk-container\" hidden><div class=\"sk-item sk-dashed-wrapped\"><div class=\"sk-label-container\"><div class=\"sk-label sk-toggleable\"><input class=\"sk-toggleable__control sk-hidden--visually\" id=\"sk-estimator-id-8\" type=\"checkbox\" ><label for=\"sk-estimator-id-8\" class=\"sk-toggleable__label sk-toggleable__label-arrow\">GridSearchCV</label><div class=\"sk-toggleable__content\"><pre>GridSearchCV(cv=5,\n",
       "             estimator=Pipeline(steps=[(&#x27;select_cols&#x27;,\n",
       "                                        ColumnTransformer(transformers=[(&#x27;label_bin2&#x27;,\n",
       "                                                                         OneHotEncoder(handle_unknown=&#x27;ignore&#x27;),\n",
       "                                                                         &lt;sklearn.compose._column_transformer.make_column_selector object at 0x0000025408A3A1C0&gt;),\n",
       "                                                                        (&#x27;scaler&#x27;,\n",
       "                                                                         MinMaxScaler(),\n",
       "                                                                         &lt;sklearn.compose._column_transformer.make_column_selector object at 0x0000025408A3A310&gt;)])),\n",
       "                                       (&#x27;log_reg&#x27;,\n",
       "                                        LogisticRegression(C=1, max_iter=500,\n",
       "                                                           n_jobs=-1,\n",
       "                                                           solver=&#x27;saga&#x27;))]),\n",
       "             n_jobs=-1,\n",
       "             param_grid={&#x27;log_reg__C&#x27;: [1, 0.1, 0.01],\n",
       "                         &#x27;log_reg__class_weight&#x27;: [None, &#x27;balanced&#x27;],\n",
       "                         &#x27;log_reg__penalty&#x27;: [&#x27;l1&#x27;, &#x27;l2&#x27;]},\n",
       "             return_train_score=True, scoring=&#x27;neg_log_loss&#x27;, verbose=1)</pre></div></div></div><div class=\"sk-parallel\"><div class=\"sk-parallel-item\"><div class=\"sk-item\"><div class=\"sk-label-container\"><div class=\"sk-label sk-toggleable\"><input class=\"sk-toggleable__control sk-hidden--visually\" id=\"sk-estimator-id-9\" type=\"checkbox\" ><label for=\"sk-estimator-id-9\" class=\"sk-toggleable__label sk-toggleable__label-arrow\">estimator: Pipeline</label><div class=\"sk-toggleable__content\"><pre>Pipeline(steps=[(&#x27;select_cols&#x27;,\n",
       "                 ColumnTransformer(transformers=[(&#x27;label_bin2&#x27;,\n",
       "                                                  OneHotEncoder(handle_unknown=&#x27;ignore&#x27;),\n",
       "                                                  &lt;sklearn.compose._column_transformer.make_column_selector object at 0x0000025408A3A1C0&gt;),\n",
       "                                                 (&#x27;scaler&#x27;, MinMaxScaler(),\n",
       "                                                  &lt;sklearn.compose._column_transformer.make_column_selector object at 0x0000025408A3A310&gt;)])),\n",
       "                (&#x27;log_reg&#x27;,\n",
       "                 LogisticRegression(C=1, max_iter=500, n_jobs=-1,\n",
       "                                    solver=&#x27;saga&#x27;))])</pre></div></div></div><div class=\"sk-serial\"><div class=\"sk-item\"><div class=\"sk-serial\"><div class=\"sk-item sk-dashed-wrapped\"><div class=\"sk-label-container\"><div class=\"sk-label sk-toggleable\"><input class=\"sk-toggleable__control sk-hidden--visually\" id=\"sk-estimator-id-10\" type=\"checkbox\" ><label for=\"sk-estimator-id-10\" class=\"sk-toggleable__label sk-toggleable__label-arrow\">select_cols: ColumnTransformer</label><div class=\"sk-toggleable__content\"><pre>ColumnTransformer(transformers=[(&#x27;label_bin2&#x27;,\n",
       "                                 OneHotEncoder(handle_unknown=&#x27;ignore&#x27;),\n",
       "                                 &lt;sklearn.compose._column_transformer.make_column_selector object at 0x0000025408A3A1C0&gt;),\n",
       "                                (&#x27;scaler&#x27;, MinMaxScaler(),\n",
       "                                 &lt;sklearn.compose._column_transformer.make_column_selector object at 0x0000025408A3A310&gt;)])</pre></div></div></div><div class=\"sk-parallel\"><div class=\"sk-parallel-item\"><div class=\"sk-item\"><div class=\"sk-label-container\"><div class=\"sk-label sk-toggleable\"><input class=\"sk-toggleable__control sk-hidden--visually\" id=\"sk-estimator-id-11\" type=\"checkbox\" ><label for=\"sk-estimator-id-11\" class=\"sk-toggleable__label sk-toggleable__label-arrow\">label_bin2</label><div class=\"sk-toggleable__content\"><pre>&lt;sklearn.compose._column_transformer.make_column_selector object at 0x0000025408A3A1C0&gt;</pre></div></div></div><div class=\"sk-serial\"><div class=\"sk-item\"><div class=\"sk-estimator sk-toggleable\"><input class=\"sk-toggleable__control sk-hidden--visually\" id=\"sk-estimator-id-12\" type=\"checkbox\" ><label for=\"sk-estimator-id-12\" class=\"sk-toggleable__label sk-toggleable__label-arrow\">OneHotEncoder</label><div class=\"sk-toggleable__content\"><pre>OneHotEncoder(handle_unknown=&#x27;ignore&#x27;)</pre></div></div></div></div></div></div><div class=\"sk-parallel-item\"><div class=\"sk-item\"><div class=\"sk-label-container\"><div class=\"sk-label sk-toggleable\"><input class=\"sk-toggleable__control sk-hidden--visually\" id=\"sk-estimator-id-13\" type=\"checkbox\" ><label for=\"sk-estimator-id-13\" class=\"sk-toggleable__label sk-toggleable__label-arrow\">scaler</label><div class=\"sk-toggleable__content\"><pre>&lt;sklearn.compose._column_transformer.make_column_selector object at 0x0000025408A3A310&gt;</pre></div></div></div><div class=\"sk-serial\"><div class=\"sk-item\"><div class=\"sk-estimator sk-toggleable\"><input class=\"sk-toggleable__control sk-hidden--visually\" id=\"sk-estimator-id-14\" type=\"checkbox\" ><label for=\"sk-estimator-id-14\" class=\"sk-toggleable__label sk-toggleable__label-arrow\">MinMaxScaler</label><div class=\"sk-toggleable__content\"><pre>MinMaxScaler()</pre></div></div></div></div></div></div></div></div><div class=\"sk-item\"><div class=\"sk-estimator sk-toggleable\"><input class=\"sk-toggleable__control sk-hidden--visually\" id=\"sk-estimator-id-15\" type=\"checkbox\" ><label for=\"sk-estimator-id-15\" class=\"sk-toggleable__label sk-toggleable__label-arrow\">LogisticRegression</label><div class=\"sk-toggleable__content\"><pre>LogisticRegression(C=1, max_iter=500, n_jobs=-1, solver=&#x27;saga&#x27;)</pre></div></div></div></div></div></div></div></div></div></div></div></div>"
      ],
      "text/plain": [
       "GridSearchCV(cv=5,\n",
       "             estimator=Pipeline(steps=[('select_cols',\n",
       "                                        ColumnTransformer(transformers=[('label_bin2',\n",
       "                                                                         OneHotEncoder(handle_unknown='ignore'),\n",
       "                                                                         <sklearn.compose._column_transformer.make_column_selector object at 0x0000025408A3A1C0>),\n",
       "                                                                        ('scaler',\n",
       "                                                                         MinMaxScaler(),\n",
       "                                                                         <sklearn.compose._column_transformer.make_column_selector object at 0x0000025408A3A310>)])),\n",
       "                                       ('log_reg',\n",
       "                                        LogisticRegression(C=1, max_iter=500,\n",
       "                                                           n_jobs=-1,\n",
       "                                                           solver='saga'))]),\n",
       "             n_jobs=-1,\n",
       "             param_grid={'log_reg__C': [1, 0.1, 0.01],\n",
       "                         'log_reg__class_weight': [None, 'balanced'],\n",
       "                         'log_reg__penalty': ['l1', 'l2']},\n",
       "             return_train_score=True, scoring='neg_log_loss', verbose=1)"
      ]
     },
     "execution_count": 34,
     "metadata": {},
     "output_type": "execute_result"
    }
   ],
   "source": [
    "%%time\n",
    "\n",
    "#Se inicia objeto GridSerachCV con Pipeline previo, para todos los params en grid\n",
    "gsearch = GridSearchCV(estimator=log_reg,\n",
    "                       param_grid=grid,\n",
    "                       scoring='neg_log_loss',\n",
    "                       n_jobs=-1,\n",
    "                       cv=5,\n",
    "                       verbose=1,\n",
    "                       return_train_score=True)\n",
    "\n",
    "gsearch.fit(xtrain, ytrain)"
   ]
  },
  {
   "cell_type": "code",
   "execution_count": 35,
   "id": "bd9ca8a4-7b68-4dec-8628-c878e5250721",
   "metadata": {},
   "outputs": [
    {
     "data": {
      "text/plain": [
       "{'log_reg__C': 1, 'log_reg__class_weight': None, 'log_reg__penalty': 'l1'}"
      ]
     },
     "execution_count": 35,
     "metadata": {},
     "output_type": "execute_result"
    }
   ],
   "source": [
    "gsearch.best_params_"
   ]
  },
  {
   "cell_type": "markdown",
   "id": "abe06ab0-1d2d-4420-8f52-2ee2842cf75b",
   "metadata": {},
   "source": [
    "**Validación cruzada** con el mejor modelo"
   ]
  },
  {
   "cell_type": "code",
   "execution_count": 31,
   "id": "d1cdf335-efb9-4568-88f5-dfbc41197112",
   "metadata": {},
   "outputs": [
    {
     "data": {
      "text/plain": [
       "0.17459249807997346"
      ]
     },
     "execution_count": 31,
     "metadata": {},
     "output_type": "execute_result"
    }
   ],
   "source": [
    "#Objeto de transformación de columnas\n",
    "column_selector = ColumnTransformer([\n",
    "    ('label_bin2', OneHotEncoder(sparse=True, handle_unknown='ignore'), make_column_selector(dtype_include='object')),\n",
    "    (\"scaler\", MinMaxScaler(), make_column_selector(dtype_include=['int', 'float']))\n",
    "])\n",
    "\n",
    "#Se genera un pipeline\n",
    "log_reg = Pipeline([\n",
    "    ('select_cols', column_selector),\n",
    "    ('log_reg', LogisticRegression(penalty='l1', solver='saga', max_iter=500, n_jobs=-1))\n",
    "])\n",
    "\n",
    "#Entrenamiento\n",
    "log_reg.fit(xtrain, ytrain)\n",
    "\n",
    "#Validación cruzada\n",
    "cvscore = cross_validate(log_reg, xtrain, ytrain, cv=10, scoring='neg_log_loss', n_jobs=-1)\n",
    "-cvscore['test_score'].mean()"
   ]
  },
  {
   "cell_type": "markdown",
   "id": "6bcec903-21a4-4b41-9c74-fb1a9305d430",
   "metadata": {},
   "source": [
    "## Evaluando con datos de validación"
   ]
  },
  {
   "cell_type": "code",
   "execution_count": 32,
   "id": "9f1ab649-c1ce-4472-b1c7-f4ac525b474a",
   "metadata": {},
   "outputs": [
    {
     "data": {
      "text/plain": [
       "array([0, 0, 0, ..., 0, 0, 0], dtype=int64)"
      ]
     },
     "execution_count": 32,
     "metadata": {},
     "output_type": "execute_result"
    }
   ],
   "source": [
    "log_reg.predict(xval)"
   ]
  },
  {
   "cell_type": "code",
   "execution_count": 33,
   "id": "ecf9579d-797d-4b30-8796-6a0484822621",
   "metadata": {},
   "outputs": [
    {
     "data": {
      "text/plain": [
       "0.17740288811251073"
      ]
     },
     "execution_count": 33,
     "metadata": {},
     "output_type": "execute_result"
    }
   ],
   "source": [
    "log_loss(y_true=yval, y_pred=log_reg.predict_proba(xval))"
   ]
  },
  {
   "cell_type": "markdown",
   "id": "5884867c-d6b3-41d4-94c2-a0e2e8d13ace",
   "metadata": {},
   "source": [
    "**Ganancia** mínima"
   ]
  },
  {
   "cell_type": "markdown",
   "id": "2607f561-ac9b-41dd-a7d2-b61a6714ec46",
   "metadata": {},
   "source": [
    "# Evaluando con datos de prueba"
   ]
  },
  {
   "cell_type": "code",
   "execution_count": 35,
   "id": "31703c17-52bb-4e58-841d-ff394ee26746",
   "metadata": {},
   "outputs": [
    {
     "data": {
      "text/html": [
       "<div>\n",
       "<style scoped>\n",
       "    .dataframe tbody tr th:only-of-type {\n",
       "        vertical-align: middle;\n",
       "    }\n",
       "\n",
       "    .dataframe tbody tr th {\n",
       "        vertical-align: top;\n",
       "    }\n",
       "\n",
       "    .dataframe thead th {\n",
       "        text-align: right;\n",
       "    }\n",
       "</style>\n",
       "<table border=\"1\" class=\"dataframe\">\n",
       "  <thead>\n",
       "    <tr style=\"text-align: right;\">\n",
       "      <th></th>\n",
       "      <th>hotel</th>\n",
       "      <th>lead_time</th>\n",
       "      <th>stays_in_weekend_nights</th>\n",
       "      <th>stays_in_week_nights</th>\n",
       "      <th>adults</th>\n",
       "      <th>meal</th>\n",
       "      <th>market_segment</th>\n",
       "      <th>distribution_channel</th>\n",
       "      <th>is_repeated_guest</th>\n",
       "      <th>previous_cancellations</th>\n",
       "      <th>previous_bookings_not_canceled</th>\n",
       "      <th>reserved_room_type</th>\n",
       "      <th>assigned_room_type</th>\n",
       "      <th>booking_changes</th>\n",
       "      <th>customer_type</th>\n",
       "      <th>average_daily_rate</th>\n",
       "      <th>required_car_parking_spaces</th>\n",
       "      <th>total_of_special_requests</th>\n",
       "      <th>arrival_month</th>\n",
       "      <th>arrival_day</th>\n",
       "    </tr>\n",
       "    <tr>\n",
       "      <th>id</th>\n",
       "      <th></th>\n",
       "      <th></th>\n",
       "      <th></th>\n",
       "      <th></th>\n",
       "      <th></th>\n",
       "      <th></th>\n",
       "      <th></th>\n",
       "      <th></th>\n",
       "      <th></th>\n",
       "      <th></th>\n",
       "      <th></th>\n",
       "      <th></th>\n",
       "      <th></th>\n",
       "      <th></th>\n",
       "      <th></th>\n",
       "      <th></th>\n",
       "      <th></th>\n",
       "      <th></th>\n",
       "      <th></th>\n",
       "      <th></th>\n",
       "    </tr>\n",
       "  </thead>\n",
       "  <tbody>\n",
       "    <tr>\n",
       "      <th>1</th>\n",
       "      <td>Resort_Hotel</td>\n",
       "      <td>3</td>\n",
       "      <td>1</td>\n",
       "      <td>0</td>\n",
       "      <td>1</td>\n",
       "      <td>SC</td>\n",
       "      <td>Corporate</td>\n",
       "      <td>Corporate</td>\n",
       "      <td>0</td>\n",
       "      <td>0</td>\n",
       "      <td>0</td>\n",
       "      <td>A</td>\n",
       "      <td>I</td>\n",
       "      <td>0</td>\n",
       "      <td>Transient</td>\n",
       "      <td>0.0</td>\n",
       "      <td>none</td>\n",
       "      <td>0</td>\n",
       "      <td>May</td>\n",
       "      <td>Monday</td>\n",
       "    </tr>\n",
       "    <tr>\n",
       "      <th>2</th>\n",
       "      <td>Resort_Hotel</td>\n",
       "      <td>3</td>\n",
       "      <td>0</td>\n",
       "      <td>1</td>\n",
       "      <td>1</td>\n",
       "      <td>BB</td>\n",
       "      <td>Corporate</td>\n",
       "      <td>Corporate</td>\n",
       "      <td>0</td>\n",
       "      <td>0</td>\n",
       "      <td>0</td>\n",
       "      <td>A</td>\n",
       "      <td>A</td>\n",
       "      <td>0</td>\n",
       "      <td>Transient</td>\n",
       "      <td>135.0</td>\n",
       "      <td>none</td>\n",
       "      <td>0</td>\n",
       "      <td>August</td>\n",
       "      <td>Thursday</td>\n",
       "    </tr>\n",
       "    <tr>\n",
       "      <th>3</th>\n",
       "      <td>Resort_Hotel</td>\n",
       "      <td>4</td>\n",
       "      <td>0</td>\n",
       "      <td>1</td>\n",
       "      <td>1</td>\n",
       "      <td>BB</td>\n",
       "      <td>Corporate</td>\n",
       "      <td>Corporate</td>\n",
       "      <td>0</td>\n",
       "      <td>0</td>\n",
       "      <td>2</td>\n",
       "      <td>A</td>\n",
       "      <td>D</td>\n",
       "      <td>0</td>\n",
       "      <td>Transient</td>\n",
       "      <td>135.0</td>\n",
       "      <td>none</td>\n",
       "      <td>0</td>\n",
       "      <td>August</td>\n",
       "      <td>Tuesday</td>\n",
       "    </tr>\n",
       "    <tr>\n",
       "      <th>4</th>\n",
       "      <td>Resort_Hotel</td>\n",
       "      <td>4</td>\n",
       "      <td>0</td>\n",
       "      <td>1</td>\n",
       "      <td>1</td>\n",
       "      <td>BB</td>\n",
       "      <td>Corporate</td>\n",
       "      <td>Corporate</td>\n",
       "      <td>0</td>\n",
       "      <td>0</td>\n",
       "      <td>3</td>\n",
       "      <td>A</td>\n",
       "      <td>A</td>\n",
       "      <td>1</td>\n",
       "      <td>Transient</td>\n",
       "      <td>142.0</td>\n",
       "      <td>parking</td>\n",
       "      <td>0</td>\n",
       "      <td>July</td>\n",
       "      <td>Tuesday</td>\n",
       "    </tr>\n",
       "    <tr>\n",
       "      <th>5</th>\n",
       "      <td>Resort_Hotel</td>\n",
       "      <td>186</td>\n",
       "      <td>4</td>\n",
       "      <td>6</td>\n",
       "      <td>3</td>\n",
       "      <td>HB</td>\n",
       "      <td>Direct</td>\n",
       "      <td>Direct</td>\n",
       "      <td>0</td>\n",
       "      <td>0</td>\n",
       "      <td>1</td>\n",
       "      <td>E</td>\n",
       "      <td>E</td>\n",
       "      <td>0</td>\n",
       "      <td>Transient</td>\n",
       "      <td>248.1</td>\n",
       "      <td>parking</td>\n",
       "      <td>1</td>\n",
       "      <td>July</td>\n",
       "      <td>Saturday</td>\n",
       "    </tr>\n",
       "  </tbody>\n",
       "</table>\n",
       "</div>"
      ],
      "text/plain": [
       "           hotel  lead_time  stays_in_weekend_nights  stays_in_week_nights  \\\n",
       "id                                                                           \n",
       "1   Resort_Hotel          3                        1                     0   \n",
       "2   Resort_Hotel          3                        0                     1   \n",
       "3   Resort_Hotel          4                        0                     1   \n",
       "4   Resort_Hotel          4                        0                     1   \n",
       "5   Resort_Hotel        186                        4                     6   \n",
       "\n",
       "    adults meal market_segment distribution_channel  is_repeated_guest  \\\n",
       "id                                                                       \n",
       "1        1   SC      Corporate            Corporate                  0   \n",
       "2        1   BB      Corporate            Corporate                  0   \n",
       "3        1   BB      Corporate            Corporate                  0   \n",
       "4        1   BB      Corporate            Corporate                  0   \n",
       "5        3   HB         Direct               Direct                  0   \n",
       "\n",
       "    previous_cancellations  previous_bookings_not_canceled reserved_room_type  \\\n",
       "id                                                                              \n",
       "1                        0                               0                  A   \n",
       "2                        0                               0                  A   \n",
       "3                        0                               2                  A   \n",
       "4                        0                               3                  A   \n",
       "5                        0                               1                  E   \n",
       "\n",
       "   assigned_room_type  booking_changes customer_type  average_daily_rate  \\\n",
       "id                                                                         \n",
       "1                   I                0     Transient                 0.0   \n",
       "2                   A                0     Transient               135.0   \n",
       "3                   D                0     Transient               135.0   \n",
       "4                   A                1     Transient               142.0   \n",
       "5                   E                0     Transient               248.1   \n",
       "\n",
       "   required_car_parking_spaces  total_of_special_requests arrival_month  \\\n",
       "id                                                                        \n",
       "1                         none                          0           May   \n",
       "2                         none                          0        August   \n",
       "3                         none                          0        August   \n",
       "4                      parking                          0          July   \n",
       "5                      parking                          1          July   \n",
       "\n",
       "   arrival_day  \n",
       "id              \n",
       "1       Monday  \n",
       "2     Thursday  \n",
       "3      Tuesday  \n",
       "4      Tuesday  \n",
       "5     Saturday  "
      ]
     },
     "execution_count": 35,
     "metadata": {},
     "output_type": "execute_result"
    }
   ],
   "source": [
    "# Se carga el dataset\n",
    "hoteles_prueba = pd.read_csv(\"hoteles-prueba.csv\", index_col='id')\n",
    "hoteles_prueba['arrival_date'] = pd.to_datetime(hoteles_prueba['arrival_date'])\n",
    "hoteles_prueba['arrival_month'] = hoteles_prueba['arrival_date'].dt.month_name()\n",
    "hoteles_prueba['arrival_day'] = hoteles_prueba['arrival_date'].dt.day_name()\n",
    "\n",
    "#Columnas por descartar\n",
    "cols_to_drop = ['deposit_type', 'days_in_waiting_list', 'company', 'agent', 'arrival_date', 'country']\n",
    "hoteles_prueba.drop(columns=cols_to_drop, inplace=True)\n",
    "\n",
    "hoteles_prueba.head()"
   ]
  },
  {
   "cell_type": "markdown",
   "id": "51da710b-f806-4eea-929c-c95693995336",
   "metadata": {},
   "source": [
    "**Predicción** de valores"
   ]
  },
  {
   "cell_type": "code",
   "execution_count": 36,
   "id": "ff2c2c35-a365-476e-8ea3-679a09e56e05",
   "metadata": {},
   "outputs": [
    {
     "data": {
      "text/plain": [
       "array([0, 0, 0, ..., 0, 0, 0], dtype=int64)"
      ]
     },
     "execution_count": 36,
     "metadata": {},
     "output_type": "execute_result"
    }
   ],
   "source": [
    "log_reg.predict(hoteles_prueba)"
   ]
  },
  {
   "cell_type": "code",
   "execution_count": 39,
   "id": "4dc603ee-97da-4f25-ad83-3b1b899c6485",
   "metadata": {},
   "outputs": [
    {
     "data": {
      "text/html": [
       "<div>\n",
       "<style scoped>\n",
       "    .dataframe tbody tr th:only-of-type {\n",
       "        vertical-align: middle;\n",
       "    }\n",
       "\n",
       "    .dataframe tbody tr th {\n",
       "        vertical-align: top;\n",
       "    }\n",
       "\n",
       "    .dataframe thead th {\n",
       "        text-align: right;\n",
       "    }\n",
       "</style>\n",
       "<table border=\"1\" class=\"dataframe\">\n",
       "  <thead>\n",
       "    <tr style=\"text-align: right;\">\n",
       "      <th></th>\n",
       "      <th>hotel</th>\n",
       "      <th>lead_time</th>\n",
       "      <th>stays_in_weekend_nights</th>\n",
       "      <th>stays_in_week_nights</th>\n",
       "      <th>adults</th>\n",
       "      <th>meal</th>\n",
       "      <th>market_segment</th>\n",
       "      <th>distribution_channel</th>\n",
       "      <th>is_repeated_guest</th>\n",
       "      <th>previous_cancellations</th>\n",
       "      <th>previous_bookings_not_canceled</th>\n",
       "      <th>reserved_room_type</th>\n",
       "      <th>assigned_room_type</th>\n",
       "      <th>booking_changes</th>\n",
       "      <th>customer_type</th>\n",
       "      <th>average_daily_rate</th>\n",
       "      <th>required_car_parking_spaces</th>\n",
       "      <th>total_of_special_requests</th>\n",
       "      <th>arrival_month</th>\n",
       "      <th>arrival_day</th>\n",
       "      <th>prob</th>\n",
       "    </tr>\n",
       "    <tr>\n",
       "      <th>id</th>\n",
       "      <th></th>\n",
       "      <th></th>\n",
       "      <th></th>\n",
       "      <th></th>\n",
       "      <th></th>\n",
       "      <th></th>\n",
       "      <th></th>\n",
       "      <th></th>\n",
       "      <th></th>\n",
       "      <th></th>\n",
       "      <th></th>\n",
       "      <th></th>\n",
       "      <th></th>\n",
       "      <th></th>\n",
       "      <th></th>\n",
       "      <th></th>\n",
       "      <th></th>\n",
       "      <th></th>\n",
       "      <th></th>\n",
       "      <th></th>\n",
       "      <th></th>\n",
       "    </tr>\n",
       "  </thead>\n",
       "  <tbody>\n",
       "    <tr>\n",
       "      <th>1</th>\n",
       "      <td>Resort_Hotel</td>\n",
       "      <td>3</td>\n",
       "      <td>1</td>\n",
       "      <td>0</td>\n",
       "      <td>1</td>\n",
       "      <td>SC</td>\n",
       "      <td>Corporate</td>\n",
       "      <td>Corporate</td>\n",
       "      <td>0</td>\n",
       "      <td>0</td>\n",
       "      <td>0</td>\n",
       "      <td>A</td>\n",
       "      <td>I</td>\n",
       "      <td>0</td>\n",
       "      <td>Transient</td>\n",
       "      <td>0.00</td>\n",
       "      <td>none</td>\n",
       "      <td>0</td>\n",
       "      <td>May</td>\n",
       "      <td>Monday</td>\n",
       "      <td>0.004233</td>\n",
       "    </tr>\n",
       "    <tr>\n",
       "      <th>2</th>\n",
       "      <td>Resort_Hotel</td>\n",
       "      <td>3</td>\n",
       "      <td>0</td>\n",
       "      <td>1</td>\n",
       "      <td>1</td>\n",
       "      <td>BB</td>\n",
       "      <td>Corporate</td>\n",
       "      <td>Corporate</td>\n",
       "      <td>0</td>\n",
       "      <td>0</td>\n",
       "      <td>0</td>\n",
       "      <td>A</td>\n",
       "      <td>A</td>\n",
       "      <td>0</td>\n",
       "      <td>Transient</td>\n",
       "      <td>135.00</td>\n",
       "      <td>none</td>\n",
       "      <td>0</td>\n",
       "      <td>August</td>\n",
       "      <td>Thursday</td>\n",
       "      <td>0.008750</td>\n",
       "    </tr>\n",
       "    <tr>\n",
       "      <th>3</th>\n",
       "      <td>Resort_Hotel</td>\n",
       "      <td>4</td>\n",
       "      <td>0</td>\n",
       "      <td>1</td>\n",
       "      <td>1</td>\n",
       "      <td>BB</td>\n",
       "      <td>Corporate</td>\n",
       "      <td>Corporate</td>\n",
       "      <td>0</td>\n",
       "      <td>0</td>\n",
       "      <td>2</td>\n",
       "      <td>A</td>\n",
       "      <td>D</td>\n",
       "      <td>0</td>\n",
       "      <td>Transient</td>\n",
       "      <td>135.00</td>\n",
       "      <td>none</td>\n",
       "      <td>0</td>\n",
       "      <td>August</td>\n",
       "      <td>Tuesday</td>\n",
       "      <td>0.028683</td>\n",
       "    </tr>\n",
       "    <tr>\n",
       "      <th>4</th>\n",
       "      <td>Resort_Hotel</td>\n",
       "      <td>4</td>\n",
       "      <td>0</td>\n",
       "      <td>1</td>\n",
       "      <td>1</td>\n",
       "      <td>BB</td>\n",
       "      <td>Corporate</td>\n",
       "      <td>Corporate</td>\n",
       "      <td>0</td>\n",
       "      <td>0</td>\n",
       "      <td>3</td>\n",
       "      <td>A</td>\n",
       "      <td>A</td>\n",
       "      <td>1</td>\n",
       "      <td>Transient</td>\n",
       "      <td>142.00</td>\n",
       "      <td>parking</td>\n",
       "      <td>0</td>\n",
       "      <td>July</td>\n",
       "      <td>Tuesday</td>\n",
       "      <td>0.011598</td>\n",
       "    </tr>\n",
       "    <tr>\n",
       "      <th>5</th>\n",
       "      <td>Resort_Hotel</td>\n",
       "      <td>186</td>\n",
       "      <td>4</td>\n",
       "      <td>6</td>\n",
       "      <td>3</td>\n",
       "      <td>HB</td>\n",
       "      <td>Direct</td>\n",
       "      <td>Direct</td>\n",
       "      <td>0</td>\n",
       "      <td>0</td>\n",
       "      <td>1</td>\n",
       "      <td>E</td>\n",
       "      <td>E</td>\n",
       "      <td>0</td>\n",
       "      <td>Transient</td>\n",
       "      <td>248.10</td>\n",
       "      <td>parking</td>\n",
       "      <td>1</td>\n",
       "      <td>July</td>\n",
       "      <td>Saturday</td>\n",
       "      <td>0.205925</td>\n",
       "    </tr>\n",
       "    <tr>\n",
       "      <th>...</th>\n",
       "      <td>...</td>\n",
       "      <td>...</td>\n",
       "      <td>...</td>\n",
       "      <td>...</td>\n",
       "      <td>...</td>\n",
       "      <td>...</td>\n",
       "      <td>...</td>\n",
       "      <td>...</td>\n",
       "      <td>...</td>\n",
       "      <td>...</td>\n",
       "      <td>...</td>\n",
       "      <td>...</td>\n",
       "      <td>...</td>\n",
       "      <td>...</td>\n",
       "      <td>...</td>\n",
       "      <td>...</td>\n",
       "      <td>...</td>\n",
       "      <td>...</td>\n",
       "      <td>...</td>\n",
       "      <td>...</td>\n",
       "      <td>...</td>\n",
       "    </tr>\n",
       "    <tr>\n",
       "      <th>13193</th>\n",
       "      <td>City_Hotel</td>\n",
       "      <td>23</td>\n",
       "      <td>2</td>\n",
       "      <td>5</td>\n",
       "      <td>2</td>\n",
       "      <td>BB</td>\n",
       "      <td>Offline_TA/TO</td>\n",
       "      <td>TA/TO</td>\n",
       "      <td>0</td>\n",
       "      <td>0</td>\n",
       "      <td>0</td>\n",
       "      <td>A</td>\n",
       "      <td>A</td>\n",
       "      <td>0</td>\n",
       "      <td>Transient</td>\n",
       "      <td>96.14</td>\n",
       "      <td>none</td>\n",
       "      <td>0</td>\n",
       "      <td>August</td>\n",
       "      <td>Wednesday</td>\n",
       "      <td>0.027917</td>\n",
       "    </tr>\n",
       "    <tr>\n",
       "      <th>13194</th>\n",
       "      <td>City_Hotel</td>\n",
       "      <td>102</td>\n",
       "      <td>2</td>\n",
       "      <td>5</td>\n",
       "      <td>3</td>\n",
       "      <td>BB</td>\n",
       "      <td>Online_TA</td>\n",
       "      <td>TA/TO</td>\n",
       "      <td>0</td>\n",
       "      <td>0</td>\n",
       "      <td>0</td>\n",
       "      <td>E</td>\n",
       "      <td>E</td>\n",
       "      <td>0</td>\n",
       "      <td>Transient</td>\n",
       "      <td>225.43</td>\n",
       "      <td>none</td>\n",
       "      <td>2</td>\n",
       "      <td>August</td>\n",
       "      <td>Thursday</td>\n",
       "      <td>0.350925</td>\n",
       "    </tr>\n",
       "    <tr>\n",
       "      <th>13195</th>\n",
       "      <td>City_Hotel</td>\n",
       "      <td>34</td>\n",
       "      <td>2</td>\n",
       "      <td>5</td>\n",
       "      <td>2</td>\n",
       "      <td>BB</td>\n",
       "      <td>Online_TA</td>\n",
       "      <td>TA/TO</td>\n",
       "      <td>0</td>\n",
       "      <td>0</td>\n",
       "      <td>0</td>\n",
       "      <td>D</td>\n",
       "      <td>D</td>\n",
       "      <td>0</td>\n",
       "      <td>Transient</td>\n",
       "      <td>157.71</td>\n",
       "      <td>none</td>\n",
       "      <td>4</td>\n",
       "      <td>August</td>\n",
       "      <td>Thursday</td>\n",
       "      <td>0.416419</td>\n",
       "    </tr>\n",
       "    <tr>\n",
       "      <th>13196</th>\n",
       "      <td>City_Hotel</td>\n",
       "      <td>109</td>\n",
       "      <td>2</td>\n",
       "      <td>5</td>\n",
       "      <td>2</td>\n",
       "      <td>BB</td>\n",
       "      <td>Online_TA</td>\n",
       "      <td>TA/TO</td>\n",
       "      <td>0</td>\n",
       "      <td>0</td>\n",
       "      <td>0</td>\n",
       "      <td>A</td>\n",
       "      <td>A</td>\n",
       "      <td>0</td>\n",
       "      <td>Transient</td>\n",
       "      <td>104.40</td>\n",
       "      <td>none</td>\n",
       "      <td>0</td>\n",
       "      <td>August</td>\n",
       "      <td>Thursday</td>\n",
       "      <td>0.038088</td>\n",
       "    </tr>\n",
       "    <tr>\n",
       "      <th>13197</th>\n",
       "      <td>City_Hotel</td>\n",
       "      <td>205</td>\n",
       "      <td>2</td>\n",
       "      <td>7</td>\n",
       "      <td>2</td>\n",
       "      <td>HB</td>\n",
       "      <td>Online_TA</td>\n",
       "      <td>TA/TO</td>\n",
       "      <td>0</td>\n",
       "      <td>0</td>\n",
       "      <td>0</td>\n",
       "      <td>A</td>\n",
       "      <td>A</td>\n",
       "      <td>0</td>\n",
       "      <td>Transient</td>\n",
       "      <td>151.20</td>\n",
       "      <td>none</td>\n",
       "      <td>2</td>\n",
       "      <td>August</td>\n",
       "      <td>Tuesday</td>\n",
       "      <td>0.190286</td>\n",
       "    </tr>\n",
       "  </tbody>\n",
       "</table>\n",
       "<p>13197 rows × 21 columns</p>\n",
       "</div>"
      ],
      "text/plain": [
       "              hotel  lead_time  stays_in_weekend_nights  stays_in_week_nights  \\\n",
       "id                                                                              \n",
       "1      Resort_Hotel          3                        1                     0   \n",
       "2      Resort_Hotel          3                        0                     1   \n",
       "3      Resort_Hotel          4                        0                     1   \n",
       "4      Resort_Hotel          4                        0                     1   \n",
       "5      Resort_Hotel        186                        4                     6   \n",
       "...             ...        ...                      ...                   ...   \n",
       "13193    City_Hotel         23                        2                     5   \n",
       "13194    City_Hotel        102                        2                     5   \n",
       "13195    City_Hotel         34                        2                     5   \n",
       "13196    City_Hotel        109                        2                     5   \n",
       "13197    City_Hotel        205                        2                     7   \n",
       "\n",
       "       adults meal market_segment distribution_channel  is_repeated_guest  \\\n",
       "id                                                                          \n",
       "1           1   SC      Corporate            Corporate                  0   \n",
       "2           1   BB      Corporate            Corporate                  0   \n",
       "3           1   BB      Corporate            Corporate                  0   \n",
       "4           1   BB      Corporate            Corporate                  0   \n",
       "5           3   HB         Direct               Direct                  0   \n",
       "...       ...  ...            ...                  ...                ...   \n",
       "13193       2   BB  Offline_TA/TO                TA/TO                  0   \n",
       "13194       3   BB      Online_TA                TA/TO                  0   \n",
       "13195       2   BB      Online_TA                TA/TO                  0   \n",
       "13196       2   BB      Online_TA                TA/TO                  0   \n",
       "13197       2   HB      Online_TA                TA/TO                  0   \n",
       "\n",
       "       previous_cancellations  previous_bookings_not_canceled  \\\n",
       "id                                                              \n",
       "1                           0                               0   \n",
       "2                           0                               0   \n",
       "3                           0                               2   \n",
       "4                           0                               3   \n",
       "5                           0                               1   \n",
       "...                       ...                             ...   \n",
       "13193                       0                               0   \n",
       "13194                       0                               0   \n",
       "13195                       0                               0   \n",
       "13196                       0                               0   \n",
       "13197                       0                               0   \n",
       "\n",
       "      reserved_room_type assigned_room_type  booking_changes customer_type  \\\n",
       "id                                                                           \n",
       "1                      A                  I                0     Transient   \n",
       "2                      A                  A                0     Transient   \n",
       "3                      A                  D                0     Transient   \n",
       "4                      A                  A                1     Transient   \n",
       "5                      E                  E                0     Transient   \n",
       "...                  ...                ...              ...           ...   \n",
       "13193                  A                  A                0     Transient   \n",
       "13194                  E                  E                0     Transient   \n",
       "13195                  D                  D                0     Transient   \n",
       "13196                  A                  A                0     Transient   \n",
       "13197                  A                  A                0     Transient   \n",
       "\n",
       "       average_daily_rate required_car_parking_spaces  \\\n",
       "id                                                      \n",
       "1                    0.00                        none   \n",
       "2                  135.00                        none   \n",
       "3                  135.00                        none   \n",
       "4                  142.00                     parking   \n",
       "5                  248.10                     parking   \n",
       "...                   ...                         ...   \n",
       "13193               96.14                        none   \n",
       "13194              225.43                        none   \n",
       "13195              157.71                        none   \n",
       "13196              104.40                        none   \n",
       "13197              151.20                        none   \n",
       "\n",
       "       total_of_special_requests arrival_month arrival_day      prob  \n",
       "id                                                                    \n",
       "1                              0           May      Monday  0.004233  \n",
       "2                              0        August    Thursday  0.008750  \n",
       "3                              0        August     Tuesday  0.028683  \n",
       "4                              0          July     Tuesday  0.011598  \n",
       "5                              1          July    Saturday  0.205925  \n",
       "...                          ...           ...         ...       ...  \n",
       "13193                          0        August   Wednesday  0.027917  \n",
       "13194                          2        August    Thursday  0.350925  \n",
       "13195                          4        August    Thursday  0.416419  \n",
       "13196                          0        August    Thursday  0.038088  \n",
       "13197                          2        August     Tuesday  0.190286  \n",
       "\n",
       "[13197 rows x 21 columns]"
      ]
     },
     "execution_count": 39,
     "metadata": {},
     "output_type": "execute_result"
    }
   ],
   "source": [
    "hoteles_prueba['prob'] = log_reg.predict_proba(hoteles_prueba)[:,1]\n",
    "hoteles_prueba"
   ]
  },
  {
   "cell_type": "code",
   "execution_count": 40,
   "id": "25c0078c-fe21-4670-9eab-7f0d2a6dcb5b",
   "metadata": {},
   "outputs": [],
   "source": [
    "hoteles_prueba[['prob']].to_csv('results.csv')"
   ]
  },
  {
   "cell_type": "markdown",
   "id": "a1b6e4bb-46fe-47ab-9498-75fdae1ef34e",
   "metadata": {},
   "source": [
    "# Limpieza"
   ]
  },
  {
   "cell_type": "code",
   "execution_count": null,
   "id": "585a2e3e-a32f-4bb0-859c-26aae028dca6",
   "metadata": {},
   "outputs": [],
   "source": [
    "df.info()"
   ]
  },
  {
   "cell_type": "code",
   "execution_count": null,
   "id": "653a7e79-6da2-444d-baac-4a9a11521690",
   "metadata": {},
   "outputs": [],
   "source": [
    "# Nos deshacemos de variables\n",
    "df.drop(['arrival_date','deposit_type','agent','company','booking_changes','distribution_channel','country'],axis=1, inplace=True)"
   ]
  },
  {
   "cell_type": "code",
   "execution_count": null,
   "id": "995e5c29-b9c6-467d-8567-4806313823a2",
   "metadata": {},
   "outputs": [],
   "source": [
    "# Cambiamos de variables caegoricas a numericas\n",
    "df[\"required_car_parking_spaces\"] = df[\"required_car_parking_spaces\"].astype('category').cat.codes\n",
    "df[\"hotel\"] = df[\"hotel\"].astype('category').cat.codes\n",
    "df[\"children\"] = df[\"children\"].astype('category').cat.codes"
   ]
  },
  {
   "cell_type": "code",
   "execution_count": null,
   "id": "58ef863e-d365-49aa-9bfe-cc2c880e8dc4",
   "metadata": {},
   "outputs": [],
   "source": [
    "# Creamos one-hot encoding para las siguientes variables:\n",
    "df = pd.concat([df, pd.get_dummies(df.meal)], axis=1)\n",
    "df.drop(['meal'], axis=1, inplace=True)\n",
    "df = pd.concat([df, pd.get_dummies(df.market_segment)], axis=1)\n",
    "df.drop(['market_segment'], axis=1, inplace=True)\n",
    "df = pd.concat([df, pd.get_dummies(df.reserved_room_type)], axis=1)\n",
    "df.drop(['reserved_room_type'], axis=1, inplace=True)\n",
    "df = pd.concat([df, pd.get_dummies(df.assigned_room_type)], axis=1)\n",
    "df.drop(['assigned_room_type'], axis=1, inplace=True)\n",
    "df = pd.concat([df, pd.get_dummies(df.customer_type)], axis=1)\n",
    "df.drop(['customer_type'], axis=1, inplace=True)"
   ]
  },
  {
   "cell_type": "code",
   "execution_count": null,
   "id": "094c169e-b961-4665-a046-98697eb8f7db",
   "metadata": {},
   "outputs": [],
   "source": [
    "df.info()"
   ]
  },
  {
   "cell_type": "code",
   "execution_count": null,
   "id": "2c50d777-bf2c-4684-9dbb-fa1ff67d81b6",
   "metadata": {},
   "outputs": [],
   "source": [
    "# Distribuciones"
   ]
  },
  {
   "cell_type": "code",
   "execution_count": null,
   "id": "199352a2-8b1e-46fc-9241-03f250fa58aa",
   "metadata": {},
   "outputs": [],
   "source": [
    "# First target variable alone\n",
    "sns.countplot(x='children', data=df)\n",
    "plt.show()"
   ]
  },
  {
   "cell_type": "code",
   "execution_count": null,
   "id": "bf34fbaf-564f-4aec-b8ba-086050133120",
   "metadata": {},
   "outputs": [],
   "source": [
    "# Let's explore correlations between pairs of variables\n",
    "corrmat = df.corr()\n",
    "\n",
    "sns.heatmap(corrmat, center=0, cmap='jet', square=True, linewidths=.5, cbar_kws={\"shrink\": .5})\n",
    "plt.show()\n",
    "\n",
    "print(corrmat['children'])"
   ]
  },
  {
   "cell_type": "markdown",
   "id": "c7ba1dc8-aa02-419b-9c1e-add0b81492f3",
   "metadata": {},
   "source": [
    "# Separacion"
   ]
  },
  {
   "cell_type": "code",
   "execution_count": null,
   "id": "7f39317d-5c5e-4a77-a2ea-121f6f5a9649",
   "metadata": {},
   "outputs": [],
   "source": [
    "from sklearn.model_selection import train_test_split\n",
    "\n",
    "df_train,df_test = train_test_split(df,test_size=0.2)\n",
    "print(df_train.shape)\n",
    "print(df_test.shape)\n",
    "\n",
    "#x_train=df_train.drop('children',axis = 1)\n",
    "#y_train = df_train[['children']]\n",
    "#print(x_train.shape)\n",
    "#print(y_train.shape)\n",
    "\n",
    "#x_test=df_test.drop('children',axis = 1)\n",
    "#y_test = df_test[['children']]\n",
    "#print(x_test.shape)\n",
    "#print(y_test.shape)"
   ]
  },
  {
   "cell_type": "code",
   "execution_count": null,
   "id": "8721279d-e51f-479b-a1f8-b2a003814c7a",
   "metadata": {},
   "outputs": [],
   "source": [
    "plt.figure(figsize=(18, 5))\n",
    "plt.subplot(1, 2, 1)\n",
    "sns.countplot(x='children', data=df_train)\n",
    "plt.subplot(1, 2, 2)\n",
    "sns.countplot(x='children', data=df_test)\n",
    "plt.show()"
   ]
  },
  {
   "cell_type": "markdown",
   "id": "757fed02-d734-466d-9e02-c644b7aa74a4",
   "metadata": {},
   "source": [
    "# Entrenar"
   ]
  },
  {
   "cell_type": "code",
   "execution_count": null,
   "id": "8bbad83d-57ea-43bb-ada8-b396db82052c",
   "metadata": {},
   "outputs": [],
   "source": [
    "x_train=df_train.drop('children',axis = 1).to_numpy()\n",
    "y_train = df_train[['children']].to_numpy()\n",
    "print(x_train.shape)\n",
    "print(y_train.shape)\n",
    "\n",
    "x_test=df_test.drop('children',axis = 1).to_numpy()\n",
    "y_test = df_test[['children']].to_numpy()\n",
    "print(x_test.shape)\n",
    "print(y_test.shape)"
   ]
  },
  {
   "cell_type": "code",
   "execution_count": null,
   "id": "fff5a535-883b-4dcf-83d7-73bc059f0a13",
   "metadata": {},
   "outputs": [],
   "source": [
    "from warnings import filterwarnings\n",
    "filterwarnings('ignore')"
   ]
  },
  {
   "cell_type": "code",
   "execution_count": null,
   "id": "d9814e45-e547-4f44-92e1-7330b1e1b0a0",
   "metadata": {},
   "outputs": [],
   "source": [
    "# Train a regressor to approximate missing value\n",
    "from sklearn.linear_model import LogisticRegression\n",
    "from sklearn.model_selection import GridSearchCV\n",
    "\n",
    "grid_hyp_params = {'penalty': ['l1', 'l2', 'elastic', 'None'],\n",
    "                   'C': np.logspace(-7, 4, 6),\n",
    "                   'l1_ratio': np.arange(0., 1.1, 0.5),\n",
    "                   'class_weight': ['balanced', 'None']\n",
    "                  }\n",
    "gs = GridSearchCV(LogisticRegression(solver='saga'), grid_hyp_params)\n",
    "\n",
    "gs.fit(x_train, y_train)\n",
    "\n",
    "print(f\"Best score: {gs.best_score_:.3f}\")\n",
    "print(f\"Best params: {gs.best_params_}\")"
   ]
  },
  {
   "cell_type": "code",
   "execution_count": null,
   "id": "e4d235c6-00d9-45ad-8e2a-47c531fdf517",
   "metadata": {},
   "outputs": [],
   "source": [
    "np.arange(0,1.1,0.5)"
   ]
  },
  {
   "cell_type": "code",
   "execution_count": null,
   "id": "33a62eae-ab53-47e6-9540-c8de06fed873",
   "metadata": {},
   "outputs": [],
   "source": [
    "from sklearn.metrics import accuracy_score as acc\n",
    "print(f\"Accuracy on the test set: {acc(gs.best_estimator_.predict(x_test), y_test):.3f}\")"
   ]
  },
  {
   "cell_type": "code",
   "execution_count": null,
   "id": "b20e5d2b-fea8-450d-a4b8-5717ab495cf9",
   "metadata": {},
   "outputs": [],
   "source": [
    "predicciones=gs.best_estimator_.predict_proba(x_test)\n",
    "pd.DataFrame(predicciones)"
   ]
  },
  {
   "cell_type": "markdown",
   "id": "5864e176-f5bc-4817-8916-11e383694233",
   "metadata": {},
   "source": [
    "# Datos prueba "
   ]
  },
  {
   "cell_type": "code",
   "execution_count": null,
   "id": "7b6cf455-f422-4ef3-ac9a-713faf5f76f1",
   "metadata": {},
   "outputs": [],
   "source": [
    "prueba = pd.read_csv(\"hoteles-prueba.csv\")"
   ]
  },
  {
   "cell_type": "code",
   "execution_count": null,
   "id": "4d6d3cd5-93c1-48a7-92dc-76a1bbc451f9",
   "metadata": {},
   "outputs": [],
   "source": [
    "# Nos deshacemos de variables\n",
    "prueba.drop(['arrival_date','deposit_type','agent','company','booking_changes','distribution_channel','country'],axis=1, inplace=True)"
   ]
  },
  {
   "cell_type": "code",
   "execution_count": null,
   "id": "3abbbd32-2134-4272-9f67-1470d096c543",
   "metadata": {},
   "outputs": [],
   "source": [
    "# Cambiamos de variables caegoricas a numericas\n",
    "prueba[\"required_car_parking_spaces\"] = prueba[\"required_car_parking_spaces\"].astype('category').cat.codes\n",
    "prueba[\"hotel\"] = prueba[\"hotel\"].astype('category').cat.codes\n"
   ]
  },
  {
   "cell_type": "code",
   "execution_count": null,
   "id": "bf0d5118-7d44-455c-a47e-8ea7e44990da",
   "metadata": {},
   "outputs": [],
   "source": [
    "# Creamos one-hot encoding para las siguientes variables:\n",
    "prueba = pd.concat([prueba, pd.get_dummies(prueba.meal)], axis=1)\n",
    "prueba.drop(['meal'], axis=1, inplace=True)\n",
    "prueba = pd.concat([prueba, pd.get_dummies(prueba.market_segment)], axis=1)\n",
    "prueba.drop(['market_segment'], axis=1, inplace=True)\n",
    "prueba = pd.concat([prueba, pd.get_dummies(prueba.reserved_room_type)], axis=1)\n",
    "prueba.drop(['reserved_room_type'], axis=1, inplace=True)\n",
    "prueba = pd.concat([prueba, pd.get_dummies(prueba.assigned_room_type)], axis=1)\n",
    "prueba.drop(['assigned_room_type'], axis=1, inplace=True)\n",
    "prueba = pd.concat([prueba, pd.get_dummies(prueba.customer_type)], axis=1)\n",
    "prueba.drop(['customer_type'], axis=1, inplace=True)"
   ]
  },
  {
   "cell_type": "code",
   "execution_count": null,
   "id": "d33146ea-7cae-42f9-8a11-ffef3107ec0b",
   "metadata": {},
   "outputs": [],
   "source": [
    "predicciones_prueba=gs.best_estimator_.predict_proba(prueba)\n",
    "pd.DataFrame(predicciones_prueba)"
   ]
  },
  {
   "cell_type": "code",
   "execution_count": null,
   "id": "182b75ab-2884-421c-b528-b4f8dfb074dd",
   "metadata": {},
   "outputs": [],
   "source": []
  }
 ],
 "metadata": {
  "kernelspec": {
   "display_name": "Python 3 (ipykernel)",
   "language": "python",
   "name": "python3"
  },
  "language_info": {
   "codemirror_mode": {
    "name": "ipython",
    "version": 3
   },
   "file_extension": ".py",
   "mimetype": "text/x-python",
   "name": "python",
   "nbconvert_exporter": "python",
   "pygments_lexer": "ipython3",
   "version": "3.9.6"
  }
 },
 "nbformat": 4,
 "nbformat_minor": 5
}
