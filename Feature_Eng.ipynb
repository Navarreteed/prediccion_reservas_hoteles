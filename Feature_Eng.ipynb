{
 "cells": [
  {
   "cell_type": "code",
   "execution_count": 1,
   "id": "bf20e309-c93b-4d46-9953-e1367de8a83d",
   "metadata": {},
   "outputs": [],
   "source": [
    "import numpy as np\n",
    "import pandas as pd\n",
    "import matplotlib.pyplot as plt\n",
    "\n",
    "pd.set_option('display.max_columns', None)"
   ]
  },
  {
   "cell_type": "markdown",
   "id": "acd0d866-05fb-47e2-b543-f0dd869bcfbe",
   "metadata": {},
   "source": [
    "# Carga de datos\n",
    "\n",
    "**Cargamos** la tabla completa de datos"
   ]
  },
  {
   "cell_type": "code",
   "execution_count": 2,
   "id": "476dbe05-c63e-4844-8962-3879f02b3c6b",
   "metadata": {},
   "outputs": [
    {
     "data": {
      "text/html": [
       "<div>\n",
       "<style scoped>\n",
       "    .dataframe tbody tr th:only-of-type {\n",
       "        vertical-align: middle;\n",
       "    }\n",
       "\n",
       "    .dataframe tbody tr th {\n",
       "        vertical-align: top;\n",
       "    }\n",
       "\n",
       "    .dataframe thead th {\n",
       "        text-align: right;\n",
       "    }\n",
       "</style>\n",
       "<table border=\"1\" class=\"dataframe\">\n",
       "  <thead>\n",
       "    <tr style=\"text-align: right;\">\n",
       "      <th></th>\n",
       "      <th>hotel</th>\n",
       "      <th>lead_time</th>\n",
       "      <th>stays_in_weekend_nights</th>\n",
       "      <th>stays_in_week_nights</th>\n",
       "      <th>adults</th>\n",
       "      <th>children</th>\n",
       "      <th>meal</th>\n",
       "      <th>country</th>\n",
       "      <th>market_segment</th>\n",
       "      <th>distribution_channel</th>\n",
       "      <th>is_repeated_guest</th>\n",
       "      <th>previous_cancellations</th>\n",
       "      <th>previous_bookings_not_canceled</th>\n",
       "      <th>reserved_room_type</th>\n",
       "      <th>assigned_room_type</th>\n",
       "      <th>booking_changes</th>\n",
       "      <th>deposit_type</th>\n",
       "      <th>agent</th>\n",
       "      <th>company</th>\n",
       "      <th>days_in_waiting_list</th>\n",
       "      <th>customer_type</th>\n",
       "      <th>average_daily_rate</th>\n",
       "      <th>required_car_parking_spaces</th>\n",
       "      <th>total_of_special_requests</th>\n",
       "      <th>arrival_date</th>\n",
       "      <th>arrival_month</th>\n",
       "      <th>arrival_day</th>\n",
       "    </tr>\n",
       "  </thead>\n",
       "  <tbody>\n",
       "    <tr>\n",
       "      <th>0</th>\n",
       "      <td>Resort_Hotel</td>\n",
       "      <td>342</td>\n",
       "      <td>0</td>\n",
       "      <td>0</td>\n",
       "      <td>2</td>\n",
       "      <td>none</td>\n",
       "      <td>BB</td>\n",
       "      <td>PRT</td>\n",
       "      <td>Direct</td>\n",
       "      <td>Direct</td>\n",
       "      <td>0</td>\n",
       "      <td>0</td>\n",
       "      <td>0</td>\n",
       "      <td>C</td>\n",
       "      <td>C</td>\n",
       "      <td>3</td>\n",
       "      <td>No_Deposit</td>\n",
       "      <td>-1.0</td>\n",
       "      <td>-1.0</td>\n",
       "      <td>0</td>\n",
       "      <td>Transient</td>\n",
       "      <td>0.0</td>\n",
       "      <td>none</td>\n",
       "      <td>0</td>\n",
       "      <td>2015-07-01</td>\n",
       "      <td>July</td>\n",
       "      <td>Wednesday</td>\n",
       "    </tr>\n",
       "    <tr>\n",
       "      <th>1</th>\n",
       "      <td>Resort_Hotel</td>\n",
       "      <td>737</td>\n",
       "      <td>0</td>\n",
       "      <td>0</td>\n",
       "      <td>2</td>\n",
       "      <td>none</td>\n",
       "      <td>BB</td>\n",
       "      <td>PRT</td>\n",
       "      <td>Direct</td>\n",
       "      <td>Direct</td>\n",
       "      <td>0</td>\n",
       "      <td>0</td>\n",
       "      <td>0</td>\n",
       "      <td>C</td>\n",
       "      <td>C</td>\n",
       "      <td>4</td>\n",
       "      <td>No_Deposit</td>\n",
       "      <td>-1.0</td>\n",
       "      <td>-1.0</td>\n",
       "      <td>0</td>\n",
       "      <td>Transient</td>\n",
       "      <td>0.0</td>\n",
       "      <td>none</td>\n",
       "      <td>0</td>\n",
       "      <td>2015-07-01</td>\n",
       "      <td>July</td>\n",
       "      <td>Wednesday</td>\n",
       "    </tr>\n",
       "    <tr>\n",
       "      <th>2</th>\n",
       "      <td>Resort_Hotel</td>\n",
       "      <td>7</td>\n",
       "      <td>0</td>\n",
       "      <td>1</td>\n",
       "      <td>1</td>\n",
       "      <td>none</td>\n",
       "      <td>BB</td>\n",
       "      <td>GBR</td>\n",
       "      <td>Direct</td>\n",
       "      <td>Direct</td>\n",
       "      <td>0</td>\n",
       "      <td>0</td>\n",
       "      <td>0</td>\n",
       "      <td>A</td>\n",
       "      <td>C</td>\n",
       "      <td>0</td>\n",
       "      <td>No_Deposit</td>\n",
       "      <td>-1.0</td>\n",
       "      <td>-1.0</td>\n",
       "      <td>0</td>\n",
       "      <td>Transient</td>\n",
       "      <td>75.0</td>\n",
       "      <td>none</td>\n",
       "      <td>0</td>\n",
       "      <td>2015-07-01</td>\n",
       "      <td>July</td>\n",
       "      <td>Wednesday</td>\n",
       "    </tr>\n",
       "    <tr>\n",
       "      <th>3</th>\n",
       "      <td>Resort_Hotel</td>\n",
       "      <td>13</td>\n",
       "      <td>0</td>\n",
       "      <td>1</td>\n",
       "      <td>1</td>\n",
       "      <td>none</td>\n",
       "      <td>BB</td>\n",
       "      <td>GBR</td>\n",
       "      <td>Corporate</td>\n",
       "      <td>Corporate</td>\n",
       "      <td>0</td>\n",
       "      <td>0</td>\n",
       "      <td>0</td>\n",
       "      <td>A</td>\n",
       "      <td>A</td>\n",
       "      <td>0</td>\n",
       "      <td>No_Deposit</td>\n",
       "      <td>304.0</td>\n",
       "      <td>-1.0</td>\n",
       "      <td>0</td>\n",
       "      <td>Transient</td>\n",
       "      <td>75.0</td>\n",
       "      <td>none</td>\n",
       "      <td>0</td>\n",
       "      <td>2015-07-01</td>\n",
       "      <td>July</td>\n",
       "      <td>Wednesday</td>\n",
       "    </tr>\n",
       "    <tr>\n",
       "      <th>4</th>\n",
       "      <td>Resort_Hotel</td>\n",
       "      <td>14</td>\n",
       "      <td>0</td>\n",
       "      <td>2</td>\n",
       "      <td>2</td>\n",
       "      <td>none</td>\n",
       "      <td>BB</td>\n",
       "      <td>GBR</td>\n",
       "      <td>Online_TA</td>\n",
       "      <td>TA/TO</td>\n",
       "      <td>0</td>\n",
       "      <td>0</td>\n",
       "      <td>0</td>\n",
       "      <td>A</td>\n",
       "      <td>A</td>\n",
       "      <td>0</td>\n",
       "      <td>No_Deposit</td>\n",
       "      <td>240.0</td>\n",
       "      <td>-1.0</td>\n",
       "      <td>0</td>\n",
       "      <td>Transient</td>\n",
       "      <td>98.0</td>\n",
       "      <td>none</td>\n",
       "      <td>1</td>\n",
       "      <td>2015-07-01</td>\n",
       "      <td>July</td>\n",
       "      <td>Wednesday</td>\n",
       "    </tr>\n",
       "  </tbody>\n",
       "</table>\n",
       "</div>"
      ],
      "text/plain": [
       "          hotel  lead_time  stays_in_weekend_nights  stays_in_week_nights  \\\n",
       "0  Resort_Hotel        342                        0                     0   \n",
       "1  Resort_Hotel        737                        0                     0   \n",
       "2  Resort_Hotel          7                        0                     1   \n",
       "3  Resort_Hotel         13                        0                     1   \n",
       "4  Resort_Hotel         14                        0                     2   \n",
       "\n",
       "   adults children meal country market_segment distribution_channel  \\\n",
       "0       2     none   BB     PRT         Direct               Direct   \n",
       "1       2     none   BB     PRT         Direct               Direct   \n",
       "2       1     none   BB     GBR         Direct               Direct   \n",
       "3       1     none   BB     GBR      Corporate            Corporate   \n",
       "4       2     none   BB     GBR      Online_TA                TA/TO   \n",
       "\n",
       "   is_repeated_guest  previous_cancellations  previous_bookings_not_canceled  \\\n",
       "0                  0                       0                               0   \n",
       "1                  0                       0                               0   \n",
       "2                  0                       0                               0   \n",
       "3                  0                       0                               0   \n",
       "4                  0                       0                               0   \n",
       "\n",
       "  reserved_room_type assigned_room_type  booking_changes deposit_type  agent  \\\n",
       "0                  C                  C                3   No_Deposit   -1.0   \n",
       "1                  C                  C                4   No_Deposit   -1.0   \n",
       "2                  A                  C                0   No_Deposit   -1.0   \n",
       "3                  A                  A                0   No_Deposit  304.0   \n",
       "4                  A                  A                0   No_Deposit  240.0   \n",
       "\n",
       "   company  days_in_waiting_list customer_type  average_daily_rate  \\\n",
       "0     -1.0                     0     Transient                 0.0   \n",
       "1     -1.0                     0     Transient                 0.0   \n",
       "2     -1.0                     0     Transient                75.0   \n",
       "3     -1.0                     0     Transient                75.0   \n",
       "4     -1.0                     0     Transient                98.0   \n",
       "\n",
       "  required_car_parking_spaces  total_of_special_requests arrival_date  \\\n",
       "0                        none                          0   2015-07-01   \n",
       "1                        none                          0   2015-07-01   \n",
       "2                        none                          0   2015-07-01   \n",
       "3                        none                          0   2015-07-01   \n",
       "4                        none                          1   2015-07-01   \n",
       "\n",
       "  arrival_month arrival_day  \n",
       "0          July   Wednesday  \n",
       "1          July   Wednesday  \n",
       "2          July   Wednesday  \n",
       "3          July   Wednesday  \n",
       "4          July   Wednesday  "
      ]
     },
     "execution_count": 2,
     "metadata": {},
     "output_type": "execute_result"
    }
   ],
   "source": [
    "# Se carga el dataset\n",
    "hoteles = pd.read_csv(\"hoteles-entrena.csv\")\n",
    "hoteles['arrival_date'] = pd.to_datetime(hoteles['arrival_date'])\n",
    "hoteles['arrival_month'] = hoteles['arrival_date'].dt.month_name()\n",
    "hoteles['arrival_day'] = hoteles['arrival_date'].dt.day_name()\n",
    "\n",
    "#Se tira columna con demasiados valores nulos\n",
    "#hoteles.drop(columns='company', inplace=True)\n",
    "\n",
    "#Encoding de variable children\n",
    "#    0: none\n",
    "#    1: children\n",
    "#hoteles['children'].replace(to_replace=['none','children'], value=[0,1], inplace=True)\n",
    "\n",
    "#Se replazan valores nulos \n",
    "hoteles.fillna(value=-1, inplace=True)\n",
    "\n",
    "hoteles.head()"
   ]
  },
  {
   "cell_type": "markdown",
   "id": "5207630e-7fca-4676-acbc-8394f75f83b7",
   "metadata": {},
   "source": [
    "**Información** del conjunto de datos"
   ]
  },
  {
   "cell_type": "code",
   "execution_count": 3,
   "id": "3e94884d-5ef0-45e8-8a75-4cb9471de0fb",
   "metadata": {},
   "outputs": [
    {
     "name": "stdout",
     "output_type": "stream",
     "text": [
      "<class 'pandas.core.frame.DataFrame'>\n",
      "RangeIndex: 61969 entries, 0 to 61968\n",
      "Data columns (total 27 columns):\n",
      " #   Column                          Non-Null Count  Dtype         \n",
      "---  ------                          --------------  -----         \n",
      " 0   hotel                           61969 non-null  object        \n",
      " 1   lead_time                       61969 non-null  int64         \n",
      " 2   stays_in_weekend_nights         61969 non-null  int64         \n",
      " 3   stays_in_week_nights            61969 non-null  int64         \n",
      " 4   adults                          61969 non-null  int64         \n",
      " 5   children                        61969 non-null  object        \n",
      " 6   meal                            61969 non-null  object        \n",
      " 7   country                         61969 non-null  object        \n",
      " 8   market_segment                  61969 non-null  object        \n",
      " 9   distribution_channel            61969 non-null  object        \n",
      " 10  is_repeated_guest               61969 non-null  int64         \n",
      " 11  previous_cancellations          61969 non-null  int64         \n",
      " 12  previous_bookings_not_canceled  61969 non-null  int64         \n",
      " 13  reserved_room_type              61969 non-null  object        \n",
      " 14  assigned_room_type              61969 non-null  object        \n",
      " 15  booking_changes                 61969 non-null  int64         \n",
      " 16  deposit_type                    61969 non-null  object        \n",
      " 17  agent                           61969 non-null  float64       \n",
      " 18  company                         61969 non-null  float64       \n",
      " 19  days_in_waiting_list            61969 non-null  int64         \n",
      " 20  customer_type                   61969 non-null  object        \n",
      " 21  average_daily_rate              61969 non-null  float64       \n",
      " 22  required_car_parking_spaces     61969 non-null  object        \n",
      " 23  total_of_special_requests       61969 non-null  int64         \n",
      " 24  arrival_date                    61969 non-null  datetime64[ns]\n",
      " 25  arrival_month                   61969 non-null  object        \n",
      " 26  arrival_day                     61969 non-null  object        \n",
      "dtypes: datetime64[ns](1), float64(3), int64(10), object(13)\n",
      "memory usage: 12.8+ MB\n"
     ]
    }
   ],
   "source": [
    "hoteles.info()"
   ]
  },
  {
   "cell_type": "markdown",
   "id": "b5524951-87cf-4a83-9e1d-906e341eca3d",
   "metadata": {},
   "source": [
    "**Buscamos** predecir para una reservación si se van a tener niños o no"
   ]
  },
  {
   "cell_type": "code",
   "execution_count": 4,
   "id": "8e5ab770-45a8-4adb-bf14-bb0a5e6b7a7e",
   "metadata": {},
   "outputs": [
    {
     "data": {
      "text/plain": [
       "array(['none', 'children'], dtype=object)"
      ]
     },
     "execution_count": 4,
     "metadata": {},
     "output_type": "execute_result"
    }
   ],
   "source": [
    "#Categorías de salida\n",
    "hoteles['children'].unique()"
   ]
  },
  {
   "cell_type": "code",
   "execution_count": 5,
   "id": "067168e7-72ed-4a82-a87c-a0af7a711329",
   "metadata": {},
   "outputs": [
    {
     "data": {
      "text/plain": [
       "none        0.925366\n",
       "children    0.074634\n",
       "Name: children, dtype: float64"
      ]
     },
     "execution_count": 5,
     "metadata": {},
     "output_type": "execute_result"
    }
   ],
   "source": [
    "#Balanceo de variable respuesta\n",
    "hoteles['children'].value_counts(normalize=True)"
   ]
  },
  {
   "cell_type": "markdown",
   "id": "8f264958-a7c8-4204-9acf-08e43b42885d",
   "metadata": {},
   "source": [
    "**Observaciones**\n",
    "* El $92.5\\%$ de las reservaciones no tienen hijos.\n",
    "* El $7.5\\%$ de las reservaciones tienen hijos.\n",
    "* La base está fuertemente desbalanceada para la variable respuesta.\n",
    "* Posiblemente sea requerido un criterio de balanceo de bases."
   ]
  },
  {
   "cell_type": "markdown",
   "id": "83547450-c8dd-416a-96c6-4c3349765924",
   "metadata": {},
   "source": [
    "# Análisis Exploratorio e Ingeniería de Entradas\n",
    "\n",
    "**Primero** empezamos con las variables que no sean numéricas"
   ]
  },
  {
   "cell_type": "code",
   "execution_count": 6,
   "id": "6569536f-baf3-467f-b2d7-c6a0c510d8de",
   "metadata": {},
   "outputs": [
    {
     "name": "stdout",
     "output_type": "stream",
     "text": [
      "hotel:\n",
      "\tCats: 2\n",
      "--------------------\n",
      "children:\n",
      "\tCats: 2\n",
      "--------------------\n",
      "meal:\n",
      "\tCats: 5\n",
      "--------------------\n",
      "country:\n",
      "\tCats: 156\n",
      "--------------------\n",
      "market_segment:\n",
      "\tCats: 7\n",
      "--------------------\n",
      "distribution_channel:\n",
      "\tCats: 5\n",
      "--------------------\n",
      "reserved_room_type:\n",
      "\tCats: 9\n",
      "--------------------\n",
      "assigned_room_type:\n",
      "\tCats: 10\n",
      "--------------------\n",
      "deposit_type:\n",
      "\tCats: 3\n",
      "--------------------\n",
      "customer_type:\n",
      "\tCats: 4\n",
      "--------------------\n",
      "required_car_parking_spaces:\n",
      "\tCats: 2\n",
      "--------------------\n",
      "arrival_month:\n",
      "\tCats: 12\n",
      "--------------------\n",
      "arrival_day:\n",
      "\tCats: 7\n",
      "--------------------\n"
     ]
    }
   ],
   "source": [
    "cat_vars = hoteles.dtypes[hoteles.dtypes == 'object'].keys()\n",
    "for var in cat_vars:\n",
    "    print(f\"{var}:\")\n",
    "    print(f\"\\tCats: {len(hoteles[var].unique())}\")\n",
    "    print(20*'-')"
   ]
  },
  {
   "cell_type": "markdown",
   "id": "7e0c63b4-bd7a-4555-9281-c5fbe69d3f9e",
   "metadata": {},
   "source": [
    "**Descartamos** las variables `country` y `arrival_date` de la lista de variables categóricas para efectos de visualización"
   ]
  },
  {
   "cell_type": "code",
   "execution_count": 7,
   "id": "0cb13423-bb5a-41a0-8a66-c8ca137b5e37",
   "metadata": {
    "tags": []
   },
   "outputs": [
    {
     "name": "stdout",
     "output_type": "stream",
     "text": [
      "hotel:\n",
      "\tCats: ['Resort_Hotel' 'City_Hotel']\n",
      "--------------------\n",
      "children:\n",
      "\tCats: ['none' 'children']\n",
      "--------------------\n",
      "meal:\n",
      "\tCats: ['BB' 'FB' 'HB' 'SC' 'Undefined']\n",
      "--------------------\n",
      "market_segment:\n",
      "\tCats: ['Direct' 'Corporate' 'Online_TA' 'Offline_TA/TO' 'Complementary' 'Groups'\n",
      " 'Aviation']\n",
      "--------------------\n",
      "distribution_channel:\n",
      "\tCats: ['Direct' 'Corporate' 'TA/TO' 'Undefined' 'GDS']\n",
      "--------------------\n",
      "reserved_room_type:\n",
      "\tCats: ['C' 'A' 'D' 'G' 'E' 'F' 'H' 'L' 'B']\n",
      "--------------------\n",
      "assigned_room_type:\n",
      "\tCats: ['C' 'A' 'D' 'E' 'G' 'F' 'I' 'B' 'H' 'K']\n",
      "--------------------\n",
      "deposit_type:\n",
      "\tCats: ['No_Deposit' 'Refundable' 'Non_Refund']\n",
      "--------------------\n",
      "customer_type:\n",
      "\tCats: ['Transient' 'Contract' 'Transient-Party' 'Group']\n",
      "--------------------\n",
      "required_car_parking_spaces:\n",
      "\tCats: ['none' 'parking']\n",
      "--------------------\n",
      "arrival_month:\n",
      "\tCats: ['July' 'August' 'September' 'October' 'November' 'December' 'January'\n",
      " 'February' 'March' 'April' 'May' 'June']\n",
      "--------------------\n",
      "arrival_day:\n",
      "\tCats: ['Wednesday' 'Thursday' 'Friday' 'Saturday' 'Sunday' 'Monday' 'Tuesday']\n",
      "--------------------\n"
     ]
    }
   ],
   "source": [
    "cat_panel = cat_vars.to_list()\n",
    "cat_panel.remove('country')\n",
    "\n",
    "for var in cat_panel:\n",
    "    print(f\"{var}:\")\n",
    "    print(f\"\\tCats: {hoteles[var].unique()}\")\n",
    "    print(20*'-')"
   ]
  },
  {
   "cell_type": "markdown",
   "id": "3155762c-3ab3-4930-950c-569cf6726bac",
   "metadata": {},
   "source": [
    "**Graficamos** variables categóricas"
   ]
  },
  {
   "cell_type": "code",
   "execution_count": 8,
   "id": "fceb7844-baec-40dd-ae71-c65511804394",
   "metadata": {},
   "outputs": [
    {
     "data": {
      "image/png": "[encoded data removed]",
      "text/plain": [
       "<Figure size 1440x1080 with 12 Axes>"
      ]
     },
     "metadata": {
      "needs_background": "light"
     },
     "output_type": "display_data"
    }
   ],
   "source": [
    "fig = plt.figure(figsize=(20,15))\n",
    "spec = plt.GridSpec(ncols=4, nrows=3, wspace=0.25, hspace=0.5)\n",
    "\n",
    "#Páneles\n",
    "for i in range(len(cat_panel)):\n",
    "    #Especificaciones de figura\n",
    "    ax = fig.add_subplot(spec[i])\n",
    "    \n",
    "    #Contenido de figura\n",
    "    ax.bar(x=hoteles[cat_panel[i]].unique(), height=hoteles[cat_panel[i]].value_counts())\n",
    "    \n",
    "    #Anotaciones y estilo\n",
    "    ax.set_title(f\"{cat_panel[i]}\", fontsize=14, loc='left')\n",
    "    ax.tick_params(axis='x', labelrotation=60)\n",
    "    ax.grid(alpha=0.1)\n",
    "    # ax.legend()\n",
    "\n",
    "plt.show()"
   ]
  },
  {
   "cell_type": "markdown",
   "id": "4a823dc9-e9b4-4b08-becc-a4c4cc728a52",
   "metadata": {},
   "source": [
    "## Agent"
   ]
  },
  {
   "cell_type": "code",
   "execution_count": 9,
   "id": "80665d58-dd04-4c75-b509-1790946c9997",
   "metadata": {},
   "outputs": [],
   "source": [
    "#Función para obtener el ordenamiento de los cuantiles\n",
    "def cuantiles_df(df, column):\n",
    "    ordenamiento = pd.DataFrame(df.sort_values(by=column)[column])\n",
    "    ordenamiento.reset_index(drop=True, inplace=True)\n",
    "    ordenamiento['orden'] = pd.Series(np.arange(1,ordenamiento.shape[0]+1))\n",
    "    ordenamiento['f'] = (ordenamiento['orden'] - 0.5)/len(ordenamiento)    \n",
    "    \n",
    "    return ordenamiento"
   ]
  },
  {
   "cell_type": "code",
   "execution_count": 10,
   "id": "32b1edc0-21d4-4186-ba58-bf969900ad15",
   "metadata": {},
   "outputs": [
    {
     "data": {
      "image/png": "[encoded data removed]",
      "text/plain": [
       "<Figure size 504x504 with 1 Axes>"
      ]
     },
     "metadata": {
      "needs_background": "light"
     },
     "output_type": "display_data"
    }
   ],
   "source": [
    "#Se obtiene el recuento de reservaciones por country\n",
    "books_by_agent = hoteles.groupby(by='agent').count()[['hotel']]\n",
    "cuantiles = cuantiles_df(books_by_agent, 'hotel')\n",
    "\n",
    "#Tamaño de la figura\n",
    "plt.figure(figsize=(7,7))\n",
    "\n",
    "#Graficando para X1\n",
    "plt.scatter(x=cuantiles['f'], y=np.log(cuantiles['hotel']), c='red', alpha=0.25)\n",
    "\n",
    "#Styling\n",
    "plt.title('Recuento de reservaciones por agente', fontsize=16)\n",
    "plt.xlabel('f', fontsize=14)\n",
    "plt.ylabel('Cuenta [log]', fontsize=14)\n",
    "plt.yticks(ticks=np.arange(11))\n",
    "plt.grid(alpha=0.25)"
   ]
  },
  {
   "cell_type": "markdown",
   "id": "93554fac-26e9-4894-8990-e7ea270ac8dd",
   "metadata": {},
   "source": [
    "Definiendo $ln(7)$ como punto de corte"
   ]
  },
  {
   "cell_type": "code",
   "execution_count": 11,
   "id": "c8925ec0-9901-416a-b9fb-3cde8100b227",
   "metadata": {},
   "outputs": [
    {
     "name": "stdout",
     "output_type": "stream",
     "text": [
      "Cuenta de children en agentes debajo del punto de corte:\n",
      "none        16118\n",
      "children      656\n",
      "Name: children, dtype: int64 \n",
      "\n"
     ]
    }
   ],
   "source": [
    "#Se obtienen los registros por debajo del punto de corte.\n",
    "mask = books_by_agent.loc[books_by_agent['hotel'] <= np.e**7].index.to_list()\n",
    "\n",
    "print(\"Cuenta de children en agentes debajo del punto de corte:\")\n",
    "print(hoteles.loc[hoteles['agent'].isin(mask)]['children'].value_counts(),'\\n')"
   ]
  },
  {
   "cell_type": "markdown",
   "id": "7bb047ff-3c7f-42d3-af70-6cd40e56760d",
   "metadata": {},
   "source": [
    "Reemplazamos etiquetas, recordando:\n",
    "* $-1$: Referente a reservaciones que no se hicieron con agente.\n",
    "* $0$: Referente a reservaciones que se hicieron con un agente y que están debajo del punto de corte."
   ]
  },
  {
   "cell_type": "code",
   "execution_count": 12,
   "id": "0c9db645-e017-4ce5-b534-f518aeba3c83",
   "metadata": {},
   "outputs": [
    {
     "data": {
      "image/png": "[encoded data removed]",
      "text/plain": [
       "<Figure size 504x504 with 1 Axes>"
      ]
     },
     "metadata": {
      "needs_background": "light"
     },
     "output_type": "display_data"
    }
   ],
   "source": [
    "#Reemplazar etiquetas\n",
    "hoteles.loc[hoteles['agent'].isin(mask), 'agent'] = 0\n",
    "\n",
    "#Se obtiene el recuento de reservaciones por country\n",
    "books_by_agent = hoteles.groupby(by='agent').count()[['hotel']]\n",
    "cuantiles = cuantiles_df(books_by_agent, 'hotel')\n",
    "\n",
    "#Tamaño de la figura\n",
    "plt.figure(figsize=(7,7))\n",
    "\n",
    "#Graficando para X1\n",
    "plt.scatter(x=cuantiles['orden'], y=cuantiles['hotel'], c='red', alpha=0.25)\n",
    "\n",
    "#Styling\n",
    "plt.title('Recuento de reservaciones por agente', fontsize=16)\n",
    "plt.xlabel('orden', fontsize=14)\n",
    "plt.ylabel('Cuenta', fontsize=14)\n",
    "plt.grid(alpha=0.25)"
   ]
  },
  {
   "cell_type": "markdown",
   "id": "a8c1ba65-9b60-4de3-98e0-be6b844e25ce",
   "metadata": {},
   "source": [
    "Se verifican las nuevas etiquetas en `agent`"
   ]
  },
  {
   "cell_type": "code",
   "execution_count": 13,
   "id": "7d417212-dbbb-4a89-bd50-d5915e25c9bd",
   "metadata": {},
   "outputs": [
    {
     "data": {
      "text/plain": [
       "array([ -1.,   0.,   1.,   6.,   7.,   9.,  14.,  28., 240., 241., 250.])"
      ]
     },
     "execution_count": 13,
     "metadata": {},
     "output_type": "execute_result"
    }
   ],
   "source": [
    "np.sort(hoteles['agent'].unique())"
   ]
  },
  {
   "cell_type": "markdown",
   "id": "62eb7217-d550-41c7-8c10-c93a6832759a",
   "metadata": {},
   "source": [
    "Recuento de reservaciones con niños agrupado por agente"
   ]
  },
  {
   "cell_type": "code",
   "execution_count": 14,
   "id": "57299dfc-78f6-4f5b-86e7-be9bf710028d",
   "metadata": {},
   "outputs": [
    {
     "data": {
      "text/html": [
       "<div>\n",
       "<style scoped>\n",
       "    .dataframe tbody tr th:only-of-type {\n",
       "        vertical-align: middle;\n",
       "    }\n",
       "\n",
       "    .dataframe tbody tr th {\n",
       "        vertical-align: top;\n",
       "    }\n",
       "\n",
       "    .dataframe thead th {\n",
       "        text-align: right;\n",
       "    }\n",
       "</style>\n",
       "<table border=\"1\" class=\"dataframe\">\n",
       "  <thead>\n",
       "    <tr style=\"text-align: right;\">\n",
       "      <th>children</th>\n",
       "      <th>children</th>\n",
       "      <th>none</th>\n",
       "    </tr>\n",
       "    <tr>\n",
       "      <th>agent</th>\n",
       "      <th></th>\n",
       "      <th></th>\n",
       "    </tr>\n",
       "  </thead>\n",
       "  <tbody>\n",
       "    <tr>\n",
       "      <th>-1.0</th>\n",
       "      <td>593</td>\n",
       "      <td>10347</td>\n",
       "    </tr>\n",
       "    <tr>\n",
       "      <th>0.0</th>\n",
       "      <td>656</td>\n",
       "      <td>16118</td>\n",
       "    </tr>\n",
       "    <tr>\n",
       "      <th>1.0</th>\n",
       "      <td>13</td>\n",
       "      <td>1898</td>\n",
       "    </tr>\n",
       "    <tr>\n",
       "      <th>6.0</th>\n",
       "      <td>40</td>\n",
       "      <td>1775</td>\n",
       "    </tr>\n",
       "    <tr>\n",
       "      <th>7.0</th>\n",
       "      <td>245</td>\n",
       "      <td>2231</td>\n",
       "    </tr>\n",
       "    <tr>\n",
       "      <th>9.0</th>\n",
       "      <td>1481</td>\n",
       "      <td>13071</td>\n",
       "    </tr>\n",
       "    <tr>\n",
       "      <th>14.0</th>\n",
       "      <td>325</td>\n",
       "      <td>1841</td>\n",
       "    </tr>\n",
       "    <tr>\n",
       "      <th>28.0</th>\n",
       "      <td>71</td>\n",
       "      <td>1312</td>\n",
       "    </tr>\n",
       "    <tr>\n",
       "      <th>240.0</th>\n",
       "      <td>748</td>\n",
       "      <td>6297</td>\n",
       "    </tr>\n",
       "    <tr>\n",
       "      <th>241.0</th>\n",
       "      <td>146</td>\n",
       "      <td>956</td>\n",
       "    </tr>\n",
       "    <tr>\n",
       "      <th>250.0</th>\n",
       "      <td>307</td>\n",
       "      <td>1498</td>\n",
       "    </tr>\n",
       "  </tbody>\n",
       "</table>\n",
       "</div>"
      ],
      "text/plain": [
       "children  children   none\n",
       "agent                    \n",
       "-1.0           593  10347\n",
       " 0.0           656  16118\n",
       " 1.0            13   1898\n",
       " 6.0            40   1775\n",
       " 7.0           245   2231\n",
       " 9.0          1481  13071\n",
       " 14.0          325   1841\n",
       " 28.0           71   1312\n",
       " 240.0         748   6297\n",
       " 241.0         146    956\n",
       " 250.0         307   1498"
      ]
     },
     "execution_count": 14,
     "metadata": {},
     "output_type": "execute_result"
    }
   ],
   "source": [
    "crosstab = hoteles[['children','agent']].pivot_table(index='agent', columns='children', aggfunc=lambda x: len(x))\n",
    "crosstab"
   ]
  },
  {
   "cell_type": "code",
   "execution_count": 15,
   "id": "17afb2c3-9d16-4c45-87d3-ec7d316b48b5",
   "metadata": {},
   "outputs": [
    {
     "data": {
      "image/png": "[encoded data removed]",
      "text/plain": [
       "<Figure size 432x288 with 1 Axes>"
      ]
     },
     "metadata": {
      "needs_background": "light"
     },
     "output_type": "display_data"
    }
   ],
   "source": [
    "ax = crosstab.sort_values(by='children').plot.barh(rot=0, stacked=True)"
   ]
  },
  {
   "cell_type": "markdown",
   "id": "75aedaa9-ac9d-4cfe-a8c8-6d1ddb7e0363",
   "metadata": {},
   "source": [
    "Adicionalmente se observa que los agentes `[1, 6, 28, 241]` no contribuyen significativamente a la proporción de reservaciones con niños, por lo que se incluyen en la etiqueta de agente $0$.\n",
    "\n",
    "Para la **receta**, se puede seguir la lógica de transformación siguiente:\n",
    "1) Reemplazar reservaciones sin agente (`nan`) con etiqueta $-1$\n",
    "2) Reemplazar cualquier agente cuya etiqueta no se encuentre en `[7, 250, 14, -1, 240, 9]` con la etiqueta $0$"
   ]
  },
  {
   "cell_type": "code",
   "execution_count": 16,
   "id": "b5fddb0d-614a-4da7-89bb-9f0beecc50a8",
   "metadata": {},
   "outputs": [
    {
     "data": {
      "image/png": "[encoded data removed]",
      "text/plain": [
       "<Figure size 504x504 with 1 Axes>"
      ]
     },
     "metadata": {
      "needs_background": "light"
     },
     "output_type": "display_data"
    }
   ],
   "source": [
    "#Reemplazar etiquetas\n",
    "hoteles.loc[~hoteles['agent'].isin([7, 250, 14, -1, 240, 9]), 'agent'] = 0\n",
    "\n",
    "#Se obtiene el recuento de reservaciones por country\n",
    "books_by_agent = hoteles.groupby(by='agent').count()[['hotel']]\n",
    "cuantiles = cuantiles_df(books_by_agent, 'hotel')\n",
    "\n",
    "#Tamaño de la figura\n",
    "plt.figure(figsize=(7,7))\n",
    "\n",
    "#Graficando para X1\n",
    "plt.scatter(x=cuantiles['orden'], y=cuantiles['hotel'], c='red', alpha=0.25)\n",
    "\n",
    "#Styling\n",
    "plt.title('Recuento de reservaciones por agente', fontsize=16)\n",
    "plt.xlabel('orden', fontsize=14)\n",
    "plt.ylabel('Cuenta', fontsize=14)\n",
    "plt.grid(alpha=0.25)"
   ]
  },
  {
   "cell_type": "markdown",
   "id": "2267f239-8118-4cbc-91f4-1a9ff04b59b9",
   "metadata": {},
   "source": [
    "Recuento de reservaciones con niños agrupado por agente"
   ]
  },
  {
   "cell_type": "code",
   "execution_count": 17,
   "id": "67169b85-ff05-4842-9aa3-076c9f4c29d6",
   "metadata": {},
   "outputs": [
    {
     "data": {
      "text/html": [
       "<div>\n",
       "<style scoped>\n",
       "    .dataframe tbody tr th:only-of-type {\n",
       "        vertical-align: middle;\n",
       "    }\n",
       "\n",
       "    .dataframe tbody tr th {\n",
       "        vertical-align: top;\n",
       "    }\n",
       "\n",
       "    .dataframe thead th {\n",
       "        text-align: right;\n",
       "    }\n",
       "</style>\n",
       "<table border=\"1\" class=\"dataframe\">\n",
       "  <thead>\n",
       "    <tr style=\"text-align: right;\">\n",
       "      <th>children</th>\n",
       "      <th>children</th>\n",
       "      <th>none</th>\n",
       "    </tr>\n",
       "    <tr>\n",
       "      <th>agent</th>\n",
       "      <th></th>\n",
       "      <th></th>\n",
       "    </tr>\n",
       "  </thead>\n",
       "  <tbody>\n",
       "    <tr>\n",
       "      <th>-1.0</th>\n",
       "      <td>593</td>\n",
       "      <td>10347</td>\n",
       "    </tr>\n",
       "    <tr>\n",
       "      <th>0.0</th>\n",
       "      <td>926</td>\n",
       "      <td>22059</td>\n",
       "    </tr>\n",
       "    <tr>\n",
       "      <th>7.0</th>\n",
       "      <td>245</td>\n",
       "      <td>2231</td>\n",
       "    </tr>\n",
       "    <tr>\n",
       "      <th>9.0</th>\n",
       "      <td>1481</td>\n",
       "      <td>13071</td>\n",
       "    </tr>\n",
       "    <tr>\n",
       "      <th>14.0</th>\n",
       "      <td>325</td>\n",
       "      <td>1841</td>\n",
       "    </tr>\n",
       "    <tr>\n",
       "      <th>240.0</th>\n",
       "      <td>748</td>\n",
       "      <td>6297</td>\n",
       "    </tr>\n",
       "    <tr>\n",
       "      <th>250.0</th>\n",
       "      <td>307</td>\n",
       "      <td>1498</td>\n",
       "    </tr>\n",
       "  </tbody>\n",
       "</table>\n",
       "</div>"
      ],
      "text/plain": [
       "children  children   none\n",
       "agent                    \n",
       "-1.0           593  10347\n",
       " 0.0           926  22059\n",
       " 7.0           245   2231\n",
       " 9.0          1481  13071\n",
       " 14.0          325   1841\n",
       " 240.0         748   6297\n",
       " 250.0         307   1498"
      ]
     },
     "execution_count": 17,
     "metadata": {},
     "output_type": "execute_result"
    }
   ],
   "source": [
    "crosstab = hoteles[['children','agent']].pivot_table(index='agent', columns='children', aggfunc=lambda x: len(x))\n",
    "crosstab"
   ]
  },
  {
   "cell_type": "code",
   "execution_count": 18,
   "id": "e3792664-fbf4-4f9c-aff0-a736b7e605e6",
   "metadata": {},
   "outputs": [
    {
     "data": {
      "image/png": "[encoded data removed]",
      "text/plain": [
       "<Figure size 432x288 with 1 Axes>"
      ]
     },
     "metadata": {
      "needs_background": "light"
     },
     "output_type": "display_data"
    }
   ],
   "source": [
    "ax = crosstab.sort_values(by='children').plot.barh(rot=0, stacked=True)"
   ]
  },
  {
   "cell_type": "markdown",
   "id": "0fcff0c6-f8a9-432a-8741-e75036bafcb6",
   "metadata": {},
   "source": [
    "## Company"
   ]
  },
  {
   "cell_type": "code",
   "execution_count": 23,
   "id": "e788504c-2c78-4f2b-9d13-f13e7f1859fb",
   "metadata": {},
   "outputs": [
    {
     "data": {
      "text/plain": [
       "none        4895\n",
       "children      68\n",
       "Name: children, dtype: int64"
      ]
     },
     "execution_count": 23,
     "metadata": {},
     "output_type": "execute_result"
    }
   ],
   "source": [
    "hoteles.loc[hoteles['company'] != -1]['children'].value_counts()"
   ]
  },
  {
   "cell_type": "markdown",
   "id": "f91a97ba-1da5-487a-949c-dbcbd2b9a292",
   "metadata": {},
   "source": [
    "Se descarta variable `company`"
   ]
  },
  {
   "cell_type": "markdown",
   "id": "6e36fdf6-a7fb-426f-b2ec-d56ae0a69011",
   "metadata": {},
   "source": [
    "## Mes de inicio de vacaciones"
   ]
  },
  {
   "cell_type": "markdown",
   "id": "0edec997-428b-456e-9556-e3c12f869c43",
   "metadata": {},
   "source": [
    "Recuento de reservaciones con niños agrupado por mes"
   ]
  },
  {
   "cell_type": "code",
   "execution_count": 36,
   "id": "72af9373-d176-40a0-83b4-cc26b64f6f29",
   "metadata": {},
   "outputs": [
    {
     "data": {
      "text/html": [
       "<div>\n",
       "<style scoped>\n",
       "    .dataframe tbody tr th:only-of-type {\n",
       "        vertical-align: middle;\n",
       "    }\n",
       "\n",
       "    .dataframe tbody tr th {\n",
       "        vertical-align: top;\n",
       "    }\n",
       "\n",
       "    .dataframe thead th {\n",
       "        text-align: right;\n",
       "    }\n",
       "</style>\n",
       "<table border=\"1\" class=\"dataframe\">\n",
       "  <thead>\n",
       "    <tr style=\"text-align: right;\">\n",
       "      <th>children</th>\n",
       "      <th>children</th>\n",
       "      <th>none</th>\n",
       "    </tr>\n",
       "    <tr>\n",
       "      <th>arrival_month</th>\n",
       "      <th></th>\n",
       "      <th></th>\n",
       "    </tr>\n",
       "  </thead>\n",
       "  <tbody>\n",
       "    <tr>\n",
       "      <th>April</th>\n",
       "      <td>490</td>\n",
       "      <td>6075</td>\n",
       "    </tr>\n",
       "    <tr>\n",
       "      <th>August</th>\n",
       "      <td>862</td>\n",
       "      <td>4667</td>\n",
       "    </tr>\n",
       "    <tr>\n",
       "      <th>December</th>\n",
       "      <td>381</td>\n",
       "      <td>4028</td>\n",
       "    </tr>\n",
       "    <tr>\n",
       "      <th>February</th>\n",
       "      <td>435</td>\n",
       "      <td>4937</td>\n",
       "    </tr>\n",
       "    <tr>\n",
       "      <th>January</th>\n",
       "      <td>240</td>\n",
       "      <td>3882</td>\n",
       "    </tr>\n",
       "    <tr>\n",
       "      <th>July</th>\n",
       "      <td>647</td>\n",
       "      <td>3943</td>\n",
       "    </tr>\n",
       "    <tr>\n",
       "      <th>June</th>\n",
       "      <td>209</td>\n",
       "      <td>2987</td>\n",
       "    </tr>\n",
       "    <tr>\n",
       "      <th>March</th>\n",
       "      <td>349</td>\n",
       "      <td>6296</td>\n",
       "    </tr>\n",
       "    <tr>\n",
       "      <th>May</th>\n",
       "      <td>191</td>\n",
       "      <td>3372</td>\n",
       "    </tr>\n",
       "    <tr>\n",
       "      <th>November</th>\n",
       "      <td>170</td>\n",
       "      <td>4502</td>\n",
       "    </tr>\n",
       "    <tr>\n",
       "      <th>October</th>\n",
       "      <td>352</td>\n",
       "      <td>6562</td>\n",
       "    </tr>\n",
       "    <tr>\n",
       "      <th>September</th>\n",
       "      <td>299</td>\n",
       "      <td>6093</td>\n",
       "    </tr>\n",
       "  </tbody>\n",
       "</table>\n",
       "</div>"
      ],
      "text/plain": [
       "children       children  none\n",
       "arrival_month                \n",
       "April               490  6075\n",
       "August              862  4667\n",
       "December            381  4028\n",
       "February            435  4937\n",
       "January             240  3882\n",
       "July                647  3943\n",
       "June                209  2987\n",
       "March               349  6296\n",
       "May                 191  3372\n",
       "November            170  4502\n",
       "October             352  6562\n",
       "September           299  6093"
      ]
     },
     "execution_count": 36,
     "metadata": {},
     "output_type": "execute_result"
    }
   ],
   "source": [
    "crosstab = hoteles[['children','arrival_month']].pivot_table(index='arrival_month', columns='children', aggfunc=lambda x: len(x))\n",
    "crosstab"
   ]
  },
  {
   "cell_type": "code",
   "execution_count": 37,
   "id": "8e69e8ca-1d65-4226-b465-153e7daec87b",
   "metadata": {},
   "outputs": [
    {
     "data": {
      "image/png": "[encoded data removed]",
      "text/plain": [
       "<Figure size 432x288 with 1 Axes>"
      ]
     },
     "metadata": {
      "needs_background": "light"
     },
     "output_type": "display_data"
    }
   ],
   "source": [
    "ax = crosstab.sort_values(by='children').plot.barh(rot=0, stacked=True)"
   ]
  },
  {
   "cell_type": "markdown",
   "id": "86a4b627-c9c0-46ac-8cae-a1e04b8d8e89",
   "metadata": {},
   "source": [
    "**Proporcionalmente**"
   ]
  },
  {
   "cell_type": "code",
   "execution_count": 38,
   "id": "b8dddd68-a7dd-4a3c-b9ed-d0c7ce78e2a8",
   "metadata": {},
   "outputs": [
    {
     "data": {
      "text/html": [
       "<div>\n",
       "<style scoped>\n",
       "    .dataframe tbody tr th:only-of-type {\n",
       "        vertical-align: middle;\n",
       "    }\n",
       "\n",
       "    .dataframe tbody tr th {\n",
       "        vertical-align: top;\n",
       "    }\n",
       "\n",
       "    .dataframe thead th {\n",
       "        text-align: right;\n",
       "    }\n",
       "</style>\n",
       "<table border=\"1\" class=\"dataframe\">\n",
       "  <thead>\n",
       "    <tr style=\"text-align: right;\">\n",
       "      <th>children</th>\n",
       "      <th>children</th>\n",
       "      <th>none</th>\n",
       "      <th>All</th>\n",
       "    </tr>\n",
       "    <tr>\n",
       "      <th>arrival_month</th>\n",
       "      <th></th>\n",
       "      <th></th>\n",
       "      <th></th>\n",
       "    </tr>\n",
       "  </thead>\n",
       "  <tbody>\n",
       "    <tr>\n",
       "      <th>April</th>\n",
       "      <td>0.074638</td>\n",
       "      <td>0.925362</td>\n",
       "      <td>6565</td>\n",
       "    </tr>\n",
       "    <tr>\n",
       "      <th>August</th>\n",
       "      <td>0.155905</td>\n",
       "      <td>0.844095</td>\n",
       "      <td>5529</td>\n",
       "    </tr>\n",
       "    <tr>\n",
       "      <th>December</th>\n",
       "      <td>0.086414</td>\n",
       "      <td>0.913586</td>\n",
       "      <td>4409</td>\n",
       "    </tr>\n",
       "    <tr>\n",
       "      <th>February</th>\n",
       "      <td>0.080975</td>\n",
       "      <td>0.919025</td>\n",
       "      <td>5372</td>\n",
       "    </tr>\n",
       "    <tr>\n",
       "      <th>January</th>\n",
       "      <td>0.058224</td>\n",
       "      <td>0.941776</td>\n",
       "      <td>4122</td>\n",
       "    </tr>\n",
       "    <tr>\n",
       "      <th>July</th>\n",
       "      <td>0.140959</td>\n",
       "      <td>0.859041</td>\n",
       "      <td>4590</td>\n",
       "    </tr>\n",
       "    <tr>\n",
       "      <th>June</th>\n",
       "      <td>0.065394</td>\n",
       "      <td>0.934606</td>\n",
       "      <td>3196</td>\n",
       "    </tr>\n",
       "    <tr>\n",
       "      <th>March</th>\n",
       "      <td>0.052521</td>\n",
       "      <td>0.947479</td>\n",
       "      <td>6645</td>\n",
       "    </tr>\n",
       "    <tr>\n",
       "      <th>May</th>\n",
       "      <td>0.053607</td>\n",
       "      <td>0.946393</td>\n",
       "      <td>3563</td>\n",
       "    </tr>\n",
       "    <tr>\n",
       "      <th>November</th>\n",
       "      <td>0.036387</td>\n",
       "      <td>0.963613</td>\n",
       "      <td>4672</td>\n",
       "    </tr>\n",
       "    <tr>\n",
       "      <th>October</th>\n",
       "      <td>0.050911</td>\n",
       "      <td>0.949089</td>\n",
       "      <td>6914</td>\n",
       "    </tr>\n",
       "    <tr>\n",
       "      <th>September</th>\n",
       "      <td>0.046777</td>\n",
       "      <td>0.953223</td>\n",
       "      <td>6392</td>\n",
       "    </tr>\n",
       "    <tr>\n",
       "      <th>All</th>\n",
       "      <td>0.074634</td>\n",
       "      <td>0.925366</td>\n",
       "      <td>61969</td>\n",
       "    </tr>\n",
       "  </tbody>\n",
       "</table>\n",
       "</div>"
      ],
      "text/plain": [
       "children       children      none    All\n",
       "arrival_month                           \n",
       "April          0.074638  0.925362   6565\n",
       "August         0.155905  0.844095   5529\n",
       "December       0.086414  0.913586   4409\n",
       "February       0.080975  0.919025   5372\n",
       "January        0.058224  0.941776   4122\n",
       "July           0.140959  0.859041   4590\n",
       "June           0.065394  0.934606   3196\n",
       "March          0.052521  0.947479   6645\n",
       "May            0.053607  0.946393   3563\n",
       "November       0.036387  0.963613   4672\n",
       "October        0.050911  0.949089   6914\n",
       "September      0.046777  0.953223   6392\n",
       "All            0.074634  0.925366  61969"
      ]
     },
     "execution_count": 38,
     "metadata": {},
     "output_type": "execute_result"
    }
   ],
   "source": [
    "df = hoteles[['children','arrival_month']].pivot_table(index='arrival_month', columns='children', aggfunc=lambda x: len(x), margins=True)\n",
    "df.loc[:, 'children':'none'] = df.loc[:, 'children':'none'].div(df['All'], axis=0)\n",
    "df"
   ]
  },
  {
   "cell_type": "code",
   "execution_count": 39,
   "id": "7ec0763a-d7ad-4d1d-8116-dcfb2998b881",
   "metadata": {},
   "outputs": [
    {
     "data": {
      "image/png": "[encoded data removed]",
      "text/plain": [
       "<Figure size 432x288 with 1 Axes>"
      ]
     },
     "metadata": {
      "needs_background": "light"
     },
     "output_type": "display_data"
    }
   ],
   "source": [
    "ax = df[['children', 'none']].sort_values(by='children').plot.barh(rot=0, stacked=True)"
   ]
  },
  {
   "cell_type": "markdown",
   "id": "1d71275e-17fa-4157-a937-96b296feb551",
   "metadata": {},
   "source": [
    "## Día de inicio de vacaciones"
   ]
  },
  {
   "cell_type": "markdown",
   "id": "279e42d1-5531-43e2-b7b3-8198f4ea6d8c",
   "metadata": {},
   "source": [
    "Recuento de reservaciones con niños agrupado por día"
   ]
  },
  {
   "cell_type": "code",
   "execution_count": 40,
   "id": "b5efd0bb-2c79-4530-b43c-4db5f33f83e3",
   "metadata": {},
   "outputs": [
    {
     "data": {
      "text/html": [
       "<div>\n",
       "<style scoped>\n",
       "    .dataframe tbody tr th:only-of-type {\n",
       "        vertical-align: middle;\n",
       "    }\n",
       "\n",
       "    .dataframe tbody tr th {\n",
       "        vertical-align: top;\n",
       "    }\n",
       "\n",
       "    .dataframe thead th {\n",
       "        text-align: right;\n",
       "    }\n",
       "</style>\n",
       "<table border=\"1\" class=\"dataframe\">\n",
       "  <thead>\n",
       "    <tr style=\"text-align: right;\">\n",
       "      <th>children</th>\n",
       "      <th>children</th>\n",
       "      <th>none</th>\n",
       "    </tr>\n",
       "    <tr>\n",
       "      <th>arrival_day</th>\n",
       "      <th></th>\n",
       "      <th></th>\n",
       "    </tr>\n",
       "  </thead>\n",
       "  <tbody>\n",
       "    <tr>\n",
       "      <th>Friday</th>\n",
       "      <td>744</td>\n",
       "      <td>9129</td>\n",
       "    </tr>\n",
       "    <tr>\n",
       "      <th>Monday</th>\n",
       "      <td>689</td>\n",
       "      <td>9161</td>\n",
       "    </tr>\n",
       "    <tr>\n",
       "      <th>Saturday</th>\n",
       "      <td>905</td>\n",
       "      <td>8186</td>\n",
       "    </tr>\n",
       "    <tr>\n",
       "      <th>Sunday</th>\n",
       "      <td>642</td>\n",
       "      <td>7098</td>\n",
       "    </tr>\n",
       "    <tr>\n",
       "      <th>Thursday</th>\n",
       "      <td>641</td>\n",
       "      <td>8614</td>\n",
       "    </tr>\n",
       "    <tr>\n",
       "      <th>Tuesday</th>\n",
       "      <td>522</td>\n",
       "      <td>7026</td>\n",
       "    </tr>\n",
       "    <tr>\n",
       "      <th>Wednesday</th>\n",
       "      <td>482</td>\n",
       "      <td>8130</td>\n",
       "    </tr>\n",
       "  </tbody>\n",
       "</table>\n",
       "</div>"
      ],
      "text/plain": [
       "children     children  none\n",
       "arrival_day                \n",
       "Friday            744  9129\n",
       "Monday            689  9161\n",
       "Saturday          905  8186\n",
       "Sunday            642  7098\n",
       "Thursday          641  8614\n",
       "Tuesday           522  7026\n",
       "Wednesday         482  8130"
      ]
     },
     "execution_count": 40,
     "metadata": {},
     "output_type": "execute_result"
    }
   ],
   "source": [
    "crosstab = hoteles[['children','arrival_day']].pivot_table(index='arrival_day', columns='children', aggfunc=lambda x: len(x))\n",
    "crosstab"
   ]
  },
  {
   "cell_type": "code",
   "execution_count": 41,
   "id": "4bdfd638-130e-4c8f-82ac-cd6b8478ffbe",
   "metadata": {},
   "outputs": [
    {
     "data": {
      "image/png": "[encoded data removed]",
      "text/plain": [
       "<Figure size 432x288 with 1 Axes>"
      ]
     },
     "metadata": {
      "needs_background": "light"
     },
     "output_type": "display_data"
    }
   ],
   "source": [
    "ax = crosstab.sort_values(by='children').plot.barh(rot=0, stacked=True)"
   ]
  },
  {
   "cell_type": "markdown",
   "id": "b84829e8-abaf-464a-a6be-5460eb70e3f4",
   "metadata": {},
   "source": [
    "**Proporcionalmente**"
   ]
  },
  {
   "cell_type": "code",
   "execution_count": 42,
   "id": "dc549218-1300-4886-8297-b4603903538d",
   "metadata": {},
   "outputs": [
    {
     "data": {
      "text/html": [
       "<div>\n",
       "<style scoped>\n",
       "    .dataframe tbody tr th:only-of-type {\n",
       "        vertical-align: middle;\n",
       "    }\n",
       "\n",
       "    .dataframe tbody tr th {\n",
       "        vertical-align: top;\n",
       "    }\n",
       "\n",
       "    .dataframe thead th {\n",
       "        text-align: right;\n",
       "    }\n",
       "</style>\n",
       "<table border=\"1\" class=\"dataframe\">\n",
       "  <thead>\n",
       "    <tr style=\"text-align: right;\">\n",
       "      <th>children</th>\n",
       "      <th>children</th>\n",
       "      <th>none</th>\n",
       "      <th>All</th>\n",
       "    </tr>\n",
       "    <tr>\n",
       "      <th>arrival_day</th>\n",
       "      <th></th>\n",
       "      <th></th>\n",
       "      <th></th>\n",
       "    </tr>\n",
       "  </thead>\n",
       "  <tbody>\n",
       "    <tr>\n",
       "      <th>Friday</th>\n",
       "      <td>0.075357</td>\n",
       "      <td>0.924643</td>\n",
       "      <td>9873</td>\n",
       "    </tr>\n",
       "    <tr>\n",
       "      <th>Monday</th>\n",
       "      <td>0.069949</td>\n",
       "      <td>0.930051</td>\n",
       "      <td>9850</td>\n",
       "    </tr>\n",
       "    <tr>\n",
       "      <th>Saturday</th>\n",
       "      <td>0.099549</td>\n",
       "      <td>0.900451</td>\n",
       "      <td>9091</td>\n",
       "    </tr>\n",
       "    <tr>\n",
       "      <th>Sunday</th>\n",
       "      <td>0.082946</td>\n",
       "      <td>0.917054</td>\n",
       "      <td>7740</td>\n",
       "    </tr>\n",
       "    <tr>\n",
       "      <th>Thursday</th>\n",
       "      <td>0.069260</td>\n",
       "      <td>0.930740</td>\n",
       "      <td>9255</td>\n",
       "    </tr>\n",
       "    <tr>\n",
       "      <th>Tuesday</th>\n",
       "      <td>0.069157</td>\n",
       "      <td>0.930843</td>\n",
       "      <td>7548</td>\n",
       "    </tr>\n",
       "    <tr>\n",
       "      <th>Wednesday</th>\n",
       "      <td>0.055968</td>\n",
       "      <td>0.944032</td>\n",
       "      <td>8612</td>\n",
       "    </tr>\n",
       "    <tr>\n",
       "      <th>All</th>\n",
       "      <td>0.074634</td>\n",
       "      <td>0.925366</td>\n",
       "      <td>61969</td>\n",
       "    </tr>\n",
       "  </tbody>\n",
       "</table>\n",
       "</div>"
      ],
      "text/plain": [
       "children     children      none    All\n",
       "arrival_day                           \n",
       "Friday       0.075357  0.924643   9873\n",
       "Monday       0.069949  0.930051   9850\n",
       "Saturday     0.099549  0.900451   9091\n",
       "Sunday       0.082946  0.917054   7740\n",
       "Thursday     0.069260  0.930740   9255\n",
       "Tuesday      0.069157  0.930843   7548\n",
       "Wednesday    0.055968  0.944032   8612\n",
       "All          0.074634  0.925366  61969"
      ]
     },
     "execution_count": 42,
     "metadata": {},
     "output_type": "execute_result"
    }
   ],
   "source": [
    "df = hoteles[['children','arrival_day']].pivot_table(index='arrival_day', columns='children', aggfunc=lambda x: len(x), margins=True)\n",
    "df.loc[:, 'children':'none'] = df.loc[:, 'children':'none'].div(df['All'], axis=0)\n",
    "df"
   ]
  },
  {
   "cell_type": "code",
   "execution_count": 43,
   "id": "464ce3a8-25ed-4f7d-b7f6-4cc49fb07bfc",
   "metadata": {},
   "outputs": [
    {
     "data": {
      "image/png": "[encoded data removed]",
      "text/plain": [
       "<Figure size 432x288 with 1 Axes>"
      ]
     },
     "metadata": {
      "needs_background": "light"
     },
     "output_type": "display_data"
    }
   ],
   "source": [
    "ax = df[['children', 'none']].sort_values(by='children').plot.barh(rot=0, stacked=True)"
   ]
  },
  {
   "cell_type": "markdown",
   "id": "17f9fd71-49d1-49a4-bd80-88c347e2997b",
   "metadata": {},
   "source": [
    "## Tipo de cuarto reservado"
   ]
  },
  {
   "cell_type": "markdown",
   "id": "8070c50d-ba79-4e6f-b663-af1fcd91e2ec",
   "metadata": {},
   "source": [
    "Recuento de reservaciones con niños agrupado por tipo de cuarto reservado"
   ]
  },
  {
   "cell_type": "code",
   "execution_count": 44,
   "id": "1073c0a0-c73f-432e-9785-45c0669be153",
   "metadata": {},
   "outputs": [
    {
     "data": {
      "text/html": [
       "<div>\n",
       "<style scoped>\n",
       "    .dataframe tbody tr th:only-of-type {\n",
       "        vertical-align: middle;\n",
       "    }\n",
       "\n",
       "    .dataframe tbody tr th {\n",
       "        vertical-align: top;\n",
       "    }\n",
       "\n",
       "    .dataframe thead th {\n",
       "        text-align: right;\n",
       "    }\n",
       "</style>\n",
       "<table border=\"1\" class=\"dataframe\">\n",
       "  <thead>\n",
       "    <tr style=\"text-align: right;\">\n",
       "      <th>children</th>\n",
       "      <th>children</th>\n",
       "      <th>none</th>\n",
       "    </tr>\n",
       "    <tr>\n",
       "      <th>reserved_room_type</th>\n",
       "      <th></th>\n",
       "      <th></th>\n",
       "    </tr>\n",
       "  </thead>\n",
       "  <tbody>\n",
       "    <tr>\n",
       "      <th>A</th>\n",
       "      <td>1761.0</td>\n",
       "      <td>42330.0</td>\n",
       "    </tr>\n",
       "    <tr>\n",
       "      <th>B</th>\n",
       "      <td>186.0</td>\n",
       "      <td>501.0</td>\n",
       "    </tr>\n",
       "    <tr>\n",
       "      <th>C</th>\n",
       "      <td>286.0</td>\n",
       "      <td>133.0</td>\n",
       "    </tr>\n",
       "    <tr>\n",
       "      <th>D</th>\n",
       "      <td>505.0</td>\n",
       "      <td>9654.0</td>\n",
       "    </tr>\n",
       "    <tr>\n",
       "      <th>E</th>\n",
       "      <td>288.0</td>\n",
       "      <td>3376.0</td>\n",
       "    </tr>\n",
       "    <tr>\n",
       "      <th>F</th>\n",
       "      <td>740.0</td>\n",
       "      <td>860.0</td>\n",
       "    </tr>\n",
       "    <tr>\n",
       "      <th>G</th>\n",
       "      <td>643.0</td>\n",
       "      <td>415.0</td>\n",
       "    </tr>\n",
       "    <tr>\n",
       "      <th>H</th>\n",
       "      <td>216.0</td>\n",
       "      <td>71.0</td>\n",
       "    </tr>\n",
       "    <tr>\n",
       "      <th>L</th>\n",
       "      <td>NaN</td>\n",
       "      <td>4.0</td>\n",
       "    </tr>\n",
       "  </tbody>\n",
       "</table>\n",
       "</div>"
      ],
      "text/plain": [
       "children            children     none\n",
       "reserved_room_type                   \n",
       "A                     1761.0  42330.0\n",
       "B                      186.0    501.0\n",
       "C                      286.0    133.0\n",
       "D                      505.0   9654.0\n",
       "E                      288.0   3376.0\n",
       "F                      740.0    860.0\n",
       "G                      643.0    415.0\n",
       "H                      216.0     71.0\n",
       "L                        NaN      4.0"
      ]
     },
     "execution_count": 44,
     "metadata": {},
     "output_type": "execute_result"
    }
   ],
   "source": [
    "crosstab = hoteles[['children','reserved_room_type']].pivot_table(index='reserved_room_type', columns='children', aggfunc=lambda x: len(x))\n",
    "crosstab"
   ]
  },
  {
   "cell_type": "code",
   "execution_count": 45,
   "id": "1b3e1f67-11ca-45ef-98e7-580785c50258",
   "metadata": {},
   "outputs": [
    {
     "data": {
      "image/png": "[encoded data removed]",
      "text/plain": [
       "<Figure size 432x288 with 1 Axes>"
      ]
     },
     "metadata": {
      "needs_background": "light"
     },
     "output_type": "display_data"
    }
   ],
   "source": [
    "ax = crosstab.sort_values(by='children').plot.barh(rot=0, stacked=True)"
   ]
  },
  {
   "cell_type": "markdown",
   "id": "be19fd7b-36f3-43e2-9b0b-13f94d67d869",
   "metadata": {},
   "source": [
    "**Proporcionalmente**"
   ]
  },
  {
   "cell_type": "code",
   "execution_count": 46,
   "id": "e91881a3-2992-4983-a9c3-d7e342a3f91f",
   "metadata": {},
   "outputs": [
    {
     "data": {
      "text/html": [
       "<div>\n",
       "<style scoped>\n",
       "    .dataframe tbody tr th:only-of-type {\n",
       "        vertical-align: middle;\n",
       "    }\n",
       "\n",
       "    .dataframe tbody tr th {\n",
       "        vertical-align: top;\n",
       "    }\n",
       "\n",
       "    .dataframe thead th {\n",
       "        text-align: right;\n",
       "    }\n",
       "</style>\n",
       "<table border=\"1\" class=\"dataframe\">\n",
       "  <thead>\n",
       "    <tr style=\"text-align: right;\">\n",
       "      <th>children</th>\n",
       "      <th>children</th>\n",
       "      <th>none</th>\n",
       "      <th>All</th>\n",
       "    </tr>\n",
       "    <tr>\n",
       "      <th>reserved_room_type</th>\n",
       "      <th></th>\n",
       "      <th></th>\n",
       "      <th></th>\n",
       "    </tr>\n",
       "  </thead>\n",
       "  <tbody>\n",
       "    <tr>\n",
       "      <th>A</th>\n",
       "      <td>0.039940</td>\n",
       "      <td>0.960060</td>\n",
       "      <td>44091</td>\n",
       "    </tr>\n",
       "    <tr>\n",
       "      <th>B</th>\n",
       "      <td>0.270742</td>\n",
       "      <td>0.729258</td>\n",
       "      <td>687</td>\n",
       "    </tr>\n",
       "    <tr>\n",
       "      <th>C</th>\n",
       "      <td>0.682578</td>\n",
       "      <td>0.317422</td>\n",
       "      <td>419</td>\n",
       "    </tr>\n",
       "    <tr>\n",
       "      <th>D</th>\n",
       "      <td>0.049710</td>\n",
       "      <td>0.950290</td>\n",
       "      <td>10159</td>\n",
       "    </tr>\n",
       "    <tr>\n",
       "      <th>E</th>\n",
       "      <td>0.078603</td>\n",
       "      <td>0.921397</td>\n",
       "      <td>3664</td>\n",
       "    </tr>\n",
       "    <tr>\n",
       "      <th>F</th>\n",
       "      <td>0.462500</td>\n",
       "      <td>0.537500</td>\n",
       "      <td>1600</td>\n",
       "    </tr>\n",
       "    <tr>\n",
       "      <th>G</th>\n",
       "      <td>0.607750</td>\n",
       "      <td>0.392250</td>\n",
       "      <td>1058</td>\n",
       "    </tr>\n",
       "    <tr>\n",
       "      <th>H</th>\n",
       "      <td>0.752613</td>\n",
       "      <td>0.247387</td>\n",
       "      <td>287</td>\n",
       "    </tr>\n",
       "    <tr>\n",
       "      <th>L</th>\n",
       "      <td>NaN</td>\n",
       "      <td>1.000000</td>\n",
       "      <td>4</td>\n",
       "    </tr>\n",
       "    <tr>\n",
       "      <th>All</th>\n",
       "      <td>0.074634</td>\n",
       "      <td>0.925366</td>\n",
       "      <td>61969</td>\n",
       "    </tr>\n",
       "  </tbody>\n",
       "</table>\n",
       "</div>"
      ],
      "text/plain": [
       "children            children      none    All\n",
       "reserved_room_type                           \n",
       "A                   0.039940  0.960060  44091\n",
       "B                   0.270742  0.729258    687\n",
       "C                   0.682578  0.317422    419\n",
       "D                   0.049710  0.950290  10159\n",
       "E                   0.078603  0.921397   3664\n",
       "F                   0.462500  0.537500   1600\n",
       "G                   0.607750  0.392250   1058\n",
       "H                   0.752613  0.247387    287\n",
       "L                        NaN  1.000000      4\n",
       "All                 0.074634  0.925366  61969"
      ]
     },
     "execution_count": 46,
     "metadata": {},
     "output_type": "execute_result"
    }
   ],
   "source": [
    "df = hoteles[['children','reserved_room_type']].pivot_table(index='reserved_room_type', columns='children', aggfunc=lambda x: len(x), margins=True)\n",
    "df.loc[:, 'children':'none'] = df.loc[:, 'children':'none'].div(df['All'], axis=0)\n",
    "df"
   ]
  },
  {
   "cell_type": "code",
   "execution_count": 47,
   "id": "871ac74a-7875-4eb9-af7a-3d6ef248ef15",
   "metadata": {},
   "outputs": [
    {
     "data": {
      "image/png": "[encoded data removed]",
      "text/plain": [
       "<Figure size 432x288 with 1 Axes>"
      ]
     },
     "metadata": {
      "needs_background": "light"
     },
     "output_type": "display_data"
    }
   ],
   "source": [
    "ax = df[['children', 'none']].sort_values(by='children').plot.barh(rot=0, stacked=True)"
   ]
  },
  {
   "cell_type": "markdown",
   "id": "55063d6c-0fba-4928-988b-cc31141d4a0d",
   "metadata": {},
   "source": [
    "Los cuartos F y G son candidatos potenciales"
   ]
  },
  {
   "cell_type": "markdown",
   "id": "1cd47a43-d942-4203-aa67-61ed6faffe00",
   "metadata": {},
   "source": [
    "## Tipo de comida"
   ]
  },
  {
   "cell_type": "markdown",
   "id": "cb279cb8-f497-4867-92e4-5b485aedd2f7",
   "metadata": {},
   "source": [
    "Recuento de reservaciones con niños agrupado por tipo de comida"
   ]
  },
  {
   "cell_type": "code",
   "execution_count": 48,
   "id": "e795c5da-c575-4498-9103-ae916b7fc703",
   "metadata": {},
   "outputs": [
    {
     "data": {
      "text/html": [
       "<div>\n",
       "<style scoped>\n",
       "    .dataframe tbody tr th:only-of-type {\n",
       "        vertical-align: middle;\n",
       "    }\n",
       "\n",
       "    .dataframe tbody tr th {\n",
       "        vertical-align: top;\n",
       "    }\n",
       "\n",
       "    .dataframe thead th {\n",
       "        text-align: right;\n",
       "    }\n",
       "</style>\n",
       "<table border=\"1\" class=\"dataframe\">\n",
       "  <thead>\n",
       "    <tr style=\"text-align: right;\">\n",
       "      <th>children</th>\n",
       "      <th>children</th>\n",
       "      <th>none</th>\n",
       "    </tr>\n",
       "    <tr>\n",
       "      <th>meal</th>\n",
       "      <th></th>\n",
       "      <th></th>\n",
       "    </tr>\n",
       "  </thead>\n",
       "  <tbody>\n",
       "    <tr>\n",
       "      <th>BB</th>\n",
       "      <td>3790</td>\n",
       "      <td>44565</td>\n",
       "    </tr>\n",
       "    <tr>\n",
       "      <th>FB</th>\n",
       "      <td>48</td>\n",
       "      <td>228</td>\n",
       "    </tr>\n",
       "    <tr>\n",
       "      <th>HB</th>\n",
       "      <td>631</td>\n",
       "      <td>6938</td>\n",
       "    </tr>\n",
       "    <tr>\n",
       "      <th>SC</th>\n",
       "      <td>125</td>\n",
       "      <td>4796</td>\n",
       "    </tr>\n",
       "    <tr>\n",
       "      <th>Undefined</th>\n",
       "      <td>31</td>\n",
       "      <td>817</td>\n",
       "    </tr>\n",
       "  </tbody>\n",
       "</table>\n",
       "</div>"
      ],
      "text/plain": [
       "children   children   none\n",
       "meal                      \n",
       "BB             3790  44565\n",
       "FB               48    228\n",
       "HB              631   6938\n",
       "SC              125   4796\n",
       "Undefined        31    817"
      ]
     },
     "execution_count": 48,
     "metadata": {},
     "output_type": "execute_result"
    }
   ],
   "source": [
    "crosstab = hoteles[['children','meal']].pivot_table(index='meal', columns='children', aggfunc=lambda x: len(x))\n",
    "crosstab"
   ]
  },
  {
   "cell_type": "code",
   "execution_count": 49,
   "id": "2e1f476e-2fe9-46cc-acd9-5e384c44b29b",
   "metadata": {},
   "outputs": [
    {
     "data": {
      "image/png": "[encoded data removed]",
      "text/plain": [
       "<Figure size 432x288 with 1 Axes>"
      ]
     },
     "metadata": {
      "needs_background": "light"
     },
     "output_type": "display_data"
    }
   ],
   "source": [
    "ax = crosstab.sort_values(by='children').plot.barh(rot=0, stacked=True)"
   ]
  },
  {
   "cell_type": "markdown",
   "id": "127241d1-c2be-4f76-b6f8-7302ef9b6e98",
   "metadata": {},
   "source": [
    "**Proporcionalmente**"
   ]
  },
  {
   "cell_type": "code",
   "execution_count": 51,
   "id": "3e6867b8-9d78-41ce-baa0-5f16eb8c57db",
   "metadata": {},
   "outputs": [
    {
     "data": {
      "text/html": [
       "<div>\n",
       "<style scoped>\n",
       "    .dataframe tbody tr th:only-of-type {\n",
       "        vertical-align: middle;\n",
       "    }\n",
       "\n",
       "    .dataframe tbody tr th {\n",
       "        vertical-align: top;\n",
       "    }\n",
       "\n",
       "    .dataframe thead th {\n",
       "        text-align: right;\n",
       "    }\n",
       "</style>\n",
       "<table border=\"1\" class=\"dataframe\">\n",
       "  <thead>\n",
       "    <tr style=\"text-align: right;\">\n",
       "      <th>children</th>\n",
       "      <th>children</th>\n",
       "      <th>none</th>\n",
       "      <th>All</th>\n",
       "    </tr>\n",
       "    <tr>\n",
       "      <th>meal</th>\n",
       "      <th></th>\n",
       "      <th></th>\n",
       "      <th></th>\n",
       "    </tr>\n",
       "  </thead>\n",
       "  <tbody>\n",
       "    <tr>\n",
       "      <th>BB</th>\n",
       "      <td>0.078379</td>\n",
       "      <td>0.921621</td>\n",
       "      <td>48355</td>\n",
       "    </tr>\n",
       "    <tr>\n",
       "      <th>FB</th>\n",
       "      <td>0.173913</td>\n",
       "      <td>0.826087</td>\n",
       "      <td>276</td>\n",
       "    </tr>\n",
       "    <tr>\n",
       "      <th>HB</th>\n",
       "      <td>0.083366</td>\n",
       "      <td>0.916634</td>\n",
       "      <td>7569</td>\n",
       "    </tr>\n",
       "    <tr>\n",
       "      <th>SC</th>\n",
       "      <td>0.025401</td>\n",
       "      <td>0.974599</td>\n",
       "      <td>4921</td>\n",
       "    </tr>\n",
       "    <tr>\n",
       "      <th>Undefined</th>\n",
       "      <td>0.036557</td>\n",
       "      <td>0.963443</td>\n",
       "      <td>848</td>\n",
       "    </tr>\n",
       "    <tr>\n",
       "      <th>All</th>\n",
       "      <td>0.074634</td>\n",
       "      <td>0.925366</td>\n",
       "      <td>61969</td>\n",
       "    </tr>\n",
       "  </tbody>\n",
       "</table>\n",
       "</div>"
      ],
      "text/plain": [
       "children   children      none    All\n",
       "meal                                \n",
       "BB         0.078379  0.921621  48355\n",
       "FB         0.173913  0.826087    276\n",
       "HB         0.083366  0.916634   7569\n",
       "SC         0.025401  0.974599   4921\n",
       "Undefined  0.036557  0.963443    848\n",
       "All        0.074634  0.925366  61969"
      ]
     },
     "execution_count": 51,
     "metadata": {},
     "output_type": "execute_result"
    }
   ],
   "source": [
    "df = hoteles[['children','meal']].pivot_table(index='meal', columns='children', aggfunc=lambda x: len(x), margins=True)\n",
    "df.loc[:, 'children':'none'] = df.loc[:, 'children':'none'].div(df['All'], axis=0)\n",
    "df"
   ]
  },
  {
   "cell_type": "code",
   "execution_count": 52,
   "id": "c29546f6-b4f1-4f7c-ada9-6f1fd25ae4ab",
   "metadata": {},
   "outputs": [
    {
     "data": {
      "image/png": "[encoded data removed]",
      "text/plain": [
       "<Figure size 432x288 with 1 Axes>"
      ]
     },
     "metadata": {
      "needs_background": "light"
     },
     "output_type": "display_data"
    }
   ],
   "source": [
    "ax = df[['children', 'none']].sort_values(by='children').plot.barh(rot=0, stacked=True)"
   ]
  },
  {
   "cell_type": "markdown",
   "id": "24ab93e4-c8c1-4a8d-9cb9-afe553874d62",
   "metadata": {},
   "source": [
    "Se descarta"
   ]
  },
  {
   "cell_type": "markdown",
   "id": "59f85132-1320-4e74-9fff-a90424c9098a",
   "metadata": {},
   "source": [
    "## Segmento de mercado"
   ]
  },
  {
   "cell_type": "markdown",
   "id": "f7937f8c-19d6-4079-9381-bc059f6f92c3",
   "metadata": {},
   "source": [
    "Recuento de reservaciones con niños agrupado por tipo de segmento"
   ]
  },
  {
   "cell_type": "code",
   "execution_count": 53,
   "id": "ddcf002d-eea0-4311-a783-dbf4dbfe58b4",
   "metadata": {},
   "outputs": [
    {
     "data": {
      "text/html": [
       "<div>\n",
       "<style scoped>\n",
       "    .dataframe tbody tr th:only-of-type {\n",
       "        vertical-align: middle;\n",
       "    }\n",
       "\n",
       "    .dataframe tbody tr th {\n",
       "        vertical-align: top;\n",
       "    }\n",
       "\n",
       "    .dataframe thead th {\n",
       "        text-align: right;\n",
       "    }\n",
       "</style>\n",
       "<table border=\"1\" class=\"dataframe\">\n",
       "  <thead>\n",
       "    <tr style=\"text-align: right;\">\n",
       "      <th>children</th>\n",
       "      <th>children</th>\n",
       "      <th>none</th>\n",
       "    </tr>\n",
       "    <tr>\n",
       "      <th>market_segment</th>\n",
       "      <th></th>\n",
       "      <th></th>\n",
       "    </tr>\n",
       "  </thead>\n",
       "  <tbody>\n",
       "    <tr>\n",
       "      <th>Aviation</th>\n",
       "      <td>NaN</td>\n",
       "      <td>128.0</td>\n",
       "    </tr>\n",
       "    <tr>\n",
       "      <th>Complementary</th>\n",
       "      <td>42.0</td>\n",
       "      <td>515.0</td>\n",
       "    </tr>\n",
       "    <tr>\n",
       "      <th>Corporate</th>\n",
       "      <td>41.0</td>\n",
       "      <td>3822.0</td>\n",
       "    </tr>\n",
       "    <tr>\n",
       "      <th>Direct</th>\n",
       "      <td>1103.0</td>\n",
       "      <td>7559.0</td>\n",
       "    </tr>\n",
       "    <tr>\n",
       "      <th>Groups</th>\n",
       "      <td>46.0</td>\n",
       "      <td>6914.0</td>\n",
       "    </tr>\n",
       "    <tr>\n",
       "      <th>Offline_TA/TO</th>\n",
       "      <td>491.0</td>\n",
       "      <td>13070.0</td>\n",
       "    </tr>\n",
       "    <tr>\n",
       "      <th>Online_TA</th>\n",
       "      <td>2902.0</td>\n",
       "      <td>25336.0</td>\n",
       "    </tr>\n",
       "  </tbody>\n",
       "</table>\n",
       "</div>"
      ],
      "text/plain": [
       "children        children     none\n",
       "market_segment                   \n",
       "Aviation             NaN    128.0\n",
       "Complementary       42.0    515.0\n",
       "Corporate           41.0   3822.0\n",
       "Direct            1103.0   7559.0\n",
       "Groups              46.0   6914.0\n",
       "Offline_TA/TO      491.0  13070.0\n",
       "Online_TA         2902.0  25336.0"
      ]
     },
     "execution_count": 53,
     "metadata": {},
     "output_type": "execute_result"
    }
   ],
   "source": [
    "crosstab = hoteles[['children','market_segment']].pivot_table(index='market_segment', columns='children', aggfunc=lambda x: len(x))\n",
    "crosstab"
   ]
  },
  {
   "cell_type": "code",
   "execution_count": 54,
   "id": "df47ff3a-2e9d-40c1-90ac-67b324546204",
   "metadata": {},
   "outputs": [
    {
     "data": {
      "image/png": "[encoded data removed]",
      "text/plain": [
       "<Figure size 432x288 with 1 Axes>"
      ]
     },
     "metadata": {
      "needs_background": "light"
     },
     "output_type": "display_data"
    }
   ],
   "source": [
    "ax = crosstab.sort_values(by='children').plot.barh(rot=0, stacked=True)"
   ]
  },
  {
   "cell_type": "markdown",
   "id": "bf76a300-7011-47e7-9745-d218940bf605",
   "metadata": {},
   "source": [
    "**Proporcionalmente**"
   ]
  },
  {
   "cell_type": "code",
   "execution_count": 55,
   "id": "f3f28489-2704-4618-8848-d340935ad79e",
   "metadata": {},
   "outputs": [
    {
     "data": {
      "text/html": [
       "<div>\n",
       "<style scoped>\n",
       "    .dataframe tbody tr th:only-of-type {\n",
       "        vertical-align: middle;\n",
       "    }\n",
       "\n",
       "    .dataframe tbody tr th {\n",
       "        vertical-align: top;\n",
       "    }\n",
       "\n",
       "    .dataframe thead th {\n",
       "        text-align: right;\n",
       "    }\n",
       "</style>\n",
       "<table border=\"1\" class=\"dataframe\">\n",
       "  <thead>\n",
       "    <tr style=\"text-align: right;\">\n",
       "      <th>children</th>\n",
       "      <th>children</th>\n",
       "      <th>none</th>\n",
       "      <th>All</th>\n",
       "    </tr>\n",
       "    <tr>\n",
       "      <th>market_segment</th>\n",
       "      <th></th>\n",
       "      <th></th>\n",
       "      <th></th>\n",
       "    </tr>\n",
       "  </thead>\n",
       "  <tbody>\n",
       "    <tr>\n",
       "      <th>Aviation</th>\n",
       "      <td>NaN</td>\n",
       "      <td>1.000000</td>\n",
       "      <td>128</td>\n",
       "    </tr>\n",
       "    <tr>\n",
       "      <th>Complementary</th>\n",
       "      <td>0.075404</td>\n",
       "      <td>0.924596</td>\n",
       "      <td>557</td>\n",
       "    </tr>\n",
       "    <tr>\n",
       "      <th>Corporate</th>\n",
       "      <td>0.010614</td>\n",
       "      <td>0.989386</td>\n",
       "      <td>3863</td>\n",
       "    </tr>\n",
       "    <tr>\n",
       "      <th>Direct</th>\n",
       "      <td>0.127338</td>\n",
       "      <td>0.872662</td>\n",
       "      <td>8662</td>\n",
       "    </tr>\n",
       "    <tr>\n",
       "      <th>Groups</th>\n",
       "      <td>0.006609</td>\n",
       "      <td>0.993391</td>\n",
       "      <td>6960</td>\n",
       "    </tr>\n",
       "    <tr>\n",
       "      <th>Offline_TA/TO</th>\n",
       "      <td>0.036207</td>\n",
       "      <td>0.963793</td>\n",
       "      <td>13561</td>\n",
       "    </tr>\n",
       "    <tr>\n",
       "      <th>Online_TA</th>\n",
       "      <td>0.102769</td>\n",
       "      <td>0.897231</td>\n",
       "      <td>28238</td>\n",
       "    </tr>\n",
       "    <tr>\n",
       "      <th>All</th>\n",
       "      <td>0.074634</td>\n",
       "      <td>0.925366</td>\n",
       "      <td>61969</td>\n",
       "    </tr>\n",
       "  </tbody>\n",
       "</table>\n",
       "</div>"
      ],
      "text/plain": [
       "children        children      none    All\n",
       "market_segment                           \n",
       "Aviation             NaN  1.000000    128\n",
       "Complementary   0.075404  0.924596    557\n",
       "Corporate       0.010614  0.989386   3863\n",
       "Direct          0.127338  0.872662   8662\n",
       "Groups          0.006609  0.993391   6960\n",
       "Offline_TA/TO   0.036207  0.963793  13561\n",
       "Online_TA       0.102769  0.897231  28238\n",
       "All             0.074634  0.925366  61969"
      ]
     },
     "execution_count": 55,
     "metadata": {},
     "output_type": "execute_result"
    }
   ],
   "source": [
    "df = hoteles[['children','market_segment']].pivot_table(index='market_segment', columns='children', aggfunc=lambda x: len(x), margins=True)\n",
    "df.loc[:, 'children':'none'] = df.loc[:, 'children':'none'].div(df['All'], axis=0)\n",
    "df"
   ]
  },
  {
   "cell_type": "code",
   "execution_count": 56,
   "id": "3286d18e-49d1-4617-9a1f-f5d4458af78e",
   "metadata": {},
   "outputs": [
    {
     "data": {
      "image/png": "[encoded data removed]",
      "text/plain": [
       "<Figure size 432x288 with 1 Axes>"
      ]
     },
     "metadata": {
      "needs_background": "light"
     },
     "output_type": "display_data"
    }
   ],
   "source": [
    "ax = df[['children', 'none']].sort_values(by='children').plot.barh(rot=0, stacked=True)"
   ]
  },
  {
   "cell_type": "markdown",
   "id": "1fa732cc-5fc1-4f42-b7c6-a7e5f26af0c8",
   "metadata": {},
   "source": [
    "## Canal de distribución"
   ]
  },
  {
   "cell_type": "markdown",
   "id": "9308be53-a029-4825-a574-990c2b340350",
   "metadata": {},
   "source": [
    "Recuento de reservaciones con niños agrupado por tipo de segmento"
   ]
  },
  {
   "cell_type": "code",
   "execution_count": 57,
   "id": "38e38b03-1dd8-47b7-abd2-9a3090978334",
   "metadata": {},
   "outputs": [
    {
     "data": {
      "text/html": [
       "<div>\n",
       "<style scoped>\n",
       "    .dataframe tbody tr th:only-of-type {\n",
       "        vertical-align: middle;\n",
       "    }\n",
       "\n",
       "    .dataframe tbody tr th {\n",
       "        vertical-align: top;\n",
       "    }\n",
       "\n",
       "    .dataframe thead th {\n",
       "        text-align: right;\n",
       "    }\n",
       "</style>\n",
       "<table border=\"1\" class=\"dataframe\">\n",
       "  <thead>\n",
       "    <tr style=\"text-align: right;\">\n",
       "      <th>children</th>\n",
       "      <th>children</th>\n",
       "      <th>none</th>\n",
       "    </tr>\n",
       "    <tr>\n",
       "      <th>distribution_channel</th>\n",
       "      <th></th>\n",
       "      <th></th>\n",
       "    </tr>\n",
       "  </thead>\n",
       "  <tbody>\n",
       "    <tr>\n",
       "      <th>Corporate</th>\n",
       "      <td>49.0</td>\n",
       "      <td>4619.0</td>\n",
       "    </tr>\n",
       "    <tr>\n",
       "      <th>Direct</th>\n",
       "      <td>1148.0</td>\n",
       "      <td>8831.0</td>\n",
       "    </tr>\n",
       "    <tr>\n",
       "      <th>GDS</th>\n",
       "      <td>NaN</td>\n",
       "      <td>125.0</td>\n",
       "    </tr>\n",
       "    <tr>\n",
       "      <th>TA/TO</th>\n",
       "      <td>3427.0</td>\n",
       "      <td>43769.0</td>\n",
       "    </tr>\n",
       "    <tr>\n",
       "      <th>Undefined</th>\n",
       "      <td>1.0</td>\n",
       "      <td>NaN</td>\n",
       "    </tr>\n",
       "  </tbody>\n",
       "</table>\n",
       "</div>"
      ],
      "text/plain": [
       "children              children     none\n",
       "distribution_channel                   \n",
       "Corporate                 49.0   4619.0\n",
       "Direct                  1148.0   8831.0\n",
       "GDS                        NaN    125.0\n",
       "TA/TO                   3427.0  43769.0\n",
       "Undefined                  1.0      NaN"
      ]
     },
     "execution_count": 57,
     "metadata": {},
     "output_type": "execute_result"
    }
   ],
   "source": [
    "crosstab = hoteles[['children','distribution_channel']].pivot_table(index='distribution_channel', columns='children', aggfunc=lambda x: len(x))\n",
    "crosstab"
   ]
  },
  {
   "cell_type": "code",
   "execution_count": 58,
   "id": "d3417ccb-415c-408b-bcaf-f0fb62d88aa3",
   "metadata": {},
   "outputs": [
    {
     "data": {
      "image/png": "[encoded data removed]",
      "text/plain": [
       "<Figure size 432x288 with 1 Axes>"
      ]
     },
     "metadata": {
      "needs_background": "light"
     },
     "output_type": "display_data"
    }
   ],
   "source": [
    "ax = crosstab.sort_values(by='children').plot.barh(rot=0, stacked=True)"
   ]
  },
  {
   "cell_type": "markdown",
   "id": "d3215004-a868-4aaa-951c-7a00b19815b0",
   "metadata": {},
   "source": [
    "**Proporcionalmente**"
   ]
  },
  {
   "cell_type": "code",
   "execution_count": 60,
   "id": "80b55d51-c117-4a54-b23a-97e7618585b4",
   "metadata": {},
   "outputs": [
    {
     "data": {
      "text/html": [
       "<div>\n",
       "<style scoped>\n",
       "    .dataframe tbody tr th:only-of-type {\n",
       "        vertical-align: middle;\n",
       "    }\n",
       "\n",
       "    .dataframe tbody tr th {\n",
       "        vertical-align: top;\n",
       "    }\n",
       "\n",
       "    .dataframe thead th {\n",
       "        text-align: right;\n",
       "    }\n",
       "</style>\n",
       "<table border=\"1\" class=\"dataframe\">\n",
       "  <thead>\n",
       "    <tr style=\"text-align: right;\">\n",
       "      <th>children</th>\n",
       "      <th>children</th>\n",
       "      <th>none</th>\n",
       "      <th>All</th>\n",
       "    </tr>\n",
       "    <tr>\n",
       "      <th>distribution_channel</th>\n",
       "      <th></th>\n",
       "      <th></th>\n",
       "      <th></th>\n",
       "    </tr>\n",
       "  </thead>\n",
       "  <tbody>\n",
       "    <tr>\n",
       "      <th>Corporate</th>\n",
       "      <td>0.010497</td>\n",
       "      <td>0.989503</td>\n",
       "      <td>4668</td>\n",
       "    </tr>\n",
       "    <tr>\n",
       "      <th>Direct</th>\n",
       "      <td>0.115042</td>\n",
       "      <td>0.884958</td>\n",
       "      <td>9979</td>\n",
       "    </tr>\n",
       "    <tr>\n",
       "      <th>GDS</th>\n",
       "      <td>NaN</td>\n",
       "      <td>1.000000</td>\n",
       "      <td>125</td>\n",
       "    </tr>\n",
       "    <tr>\n",
       "      <th>TA/TO</th>\n",
       "      <td>0.072612</td>\n",
       "      <td>0.927388</td>\n",
       "      <td>47196</td>\n",
       "    </tr>\n",
       "    <tr>\n",
       "      <th>Undefined</th>\n",
       "      <td>1.000000</td>\n",
       "      <td>NaN</td>\n",
       "      <td>1</td>\n",
       "    </tr>\n",
       "    <tr>\n",
       "      <th>All</th>\n",
       "      <td>0.074634</td>\n",
       "      <td>0.925366</td>\n",
       "      <td>61969</td>\n",
       "    </tr>\n",
       "  </tbody>\n",
       "</table>\n",
       "</div>"
      ],
      "text/plain": [
       "children              children      none    All\n",
       "distribution_channel                           \n",
       "Corporate             0.010497  0.989503   4668\n",
       "Direct                0.115042  0.884958   9979\n",
       "GDS                        NaN  1.000000    125\n",
       "TA/TO                 0.072612  0.927388  47196\n",
       "Undefined             1.000000       NaN      1\n",
       "All                   0.074634  0.925366  61969"
      ]
     },
     "execution_count": 60,
     "metadata": {},
     "output_type": "execute_result"
    }
   ],
   "source": [
    "df = hoteles[['children','distribution_channel']].pivot_table(index='distribution_channel', columns='children', aggfunc=lambda x: len(x), margins=True)\n",
    "df.loc[:, 'children':'none'] = df.loc[:, 'children':'none'].div(df['All'], axis=0)\n",
    "df"
   ]
  },
  {
   "cell_type": "code",
   "execution_count": 61,
   "id": "be17cb16-bf3e-4771-a47a-e54a8146c170",
   "metadata": {},
   "outputs": [
    {
     "data": {
      "image/png": "[encoded data removed]",
      "text/plain": [
       "<Figure size 432x288 with 1 Axes>"
      ]
     },
     "metadata": {
      "needs_background": "light"
     },
     "output_type": "display_data"
    }
   ],
   "source": [
    "ax = df[['children', 'none']].sort_values(by='children').plot.barh(rot=0, stacked=True)"
   ]
  },
  {
   "cell_type": "markdown",
   "id": "d28cea19-c584-4d34-81b4-cc53a50ef7f0",
   "metadata": {},
   "source": [
    "Se descarta"
   ]
  },
  {
   "cell_type": "markdown",
   "id": "5b978385-4095-4fb7-9a88-cbf05092401d",
   "metadata": {},
   "source": [
    "## Tipo de cliente"
   ]
  },
  {
   "cell_type": "markdown",
   "id": "b28801b8-26fd-4a20-9086-8954277b76c9",
   "metadata": {},
   "source": [
    "Recuento de reservaciones con niños agrupado por tipo de tipo de cliente"
   ]
  },
  {
   "cell_type": "code",
   "execution_count": 62,
   "id": "9cd70253-63d0-413b-9a1e-265d7ea1a1b3",
   "metadata": {},
   "outputs": [
    {
     "data": {
      "text/html": [
       "<div>\n",
       "<style scoped>\n",
       "    .dataframe tbody tr th:only-of-type {\n",
       "        vertical-align: middle;\n",
       "    }\n",
       "\n",
       "    .dataframe tbody tr th {\n",
       "        vertical-align: top;\n",
       "    }\n",
       "\n",
       "    .dataframe thead th {\n",
       "        text-align: right;\n",
       "    }\n",
       "</style>\n",
       "<table border=\"1\" class=\"dataframe\">\n",
       "  <thead>\n",
       "    <tr style=\"text-align: right;\">\n",
       "      <th>children</th>\n",
       "      <th>children</th>\n",
       "      <th>none</th>\n",
       "    </tr>\n",
       "    <tr>\n",
       "      <th>customer_type</th>\n",
       "      <th></th>\n",
       "      <th></th>\n",
       "    </tr>\n",
       "  </thead>\n",
       "  <tbody>\n",
       "    <tr>\n",
       "      <th>Contract</th>\n",
       "      <td>143</td>\n",
       "      <td>2238</td>\n",
       "    </tr>\n",
       "    <tr>\n",
       "      <th>Group</th>\n",
       "      <td>22</td>\n",
       "      <td>395</td>\n",
       "    </tr>\n",
       "    <tr>\n",
       "      <th>Transient</th>\n",
       "      <td>4036</td>\n",
       "      <td>38714</td>\n",
       "    </tr>\n",
       "    <tr>\n",
       "      <th>Transient-Party</th>\n",
       "      <td>424</td>\n",
       "      <td>15997</td>\n",
       "    </tr>\n",
       "  </tbody>\n",
       "</table>\n",
       "</div>"
      ],
      "text/plain": [
       "children         children   none\n",
       "customer_type                   \n",
       "Contract              143   2238\n",
       "Group                  22    395\n",
       "Transient            4036  38714\n",
       "Transient-Party       424  15997"
      ]
     },
     "execution_count": 62,
     "metadata": {},
     "output_type": "execute_result"
    }
   ],
   "source": [
    "crosstab = hoteles[['children','customer_type']].pivot_table(index='customer_type', columns='children', aggfunc=lambda x: len(x))\n",
    "crosstab"
   ]
  },
  {
   "cell_type": "code",
   "execution_count": 63,
   "id": "5b3435b3-4468-46b5-b226-e7a2aa8ca164",
   "metadata": {},
   "outputs": [
    {
     "data": {
      "image/png": "[encoded data removed]",
      "text/plain": [
       "<Figure size 432x288 with 1 Axes>"
      ]
     },
     "metadata": {
      "needs_background": "light"
     },
     "output_type": "display_data"
    }
   ],
   "source": [
    "ax = crosstab.sort_values(by='children').plot.barh(rot=0, stacked=True)"
   ]
  },
  {
   "cell_type": "markdown",
   "id": "2f3ebe1b-52b0-40bc-9a77-f82f95038ead",
   "metadata": {},
   "source": [
    "**Proporcionalmente**"
   ]
  },
  {
   "cell_type": "code",
   "execution_count": 64,
   "id": "be2d1e58-e888-4548-bba8-c066a12fdd08",
   "metadata": {},
   "outputs": [
    {
     "data": {
      "text/html": [
       "<div>\n",
       "<style scoped>\n",
       "    .dataframe tbody tr th:only-of-type {\n",
       "        vertical-align: middle;\n",
       "    }\n",
       "\n",
       "    .dataframe tbody tr th {\n",
       "        vertical-align: top;\n",
       "    }\n",
       "\n",
       "    .dataframe thead th {\n",
       "        text-align: right;\n",
       "    }\n",
       "</style>\n",
       "<table border=\"1\" class=\"dataframe\">\n",
       "  <thead>\n",
       "    <tr style=\"text-align: right;\">\n",
       "      <th>children</th>\n",
       "      <th>children</th>\n",
       "      <th>none</th>\n",
       "      <th>All</th>\n",
       "    </tr>\n",
       "    <tr>\n",
       "      <th>customer_type</th>\n",
       "      <th></th>\n",
       "      <th></th>\n",
       "      <th></th>\n",
       "    </tr>\n",
       "  </thead>\n",
       "  <tbody>\n",
       "    <tr>\n",
       "      <th>Contract</th>\n",
       "      <td>0.060059</td>\n",
       "      <td>0.939941</td>\n",
       "      <td>2381</td>\n",
       "    </tr>\n",
       "    <tr>\n",
       "      <th>Group</th>\n",
       "      <td>0.052758</td>\n",
       "      <td>0.947242</td>\n",
       "      <td>417</td>\n",
       "    </tr>\n",
       "    <tr>\n",
       "      <th>Transient</th>\n",
       "      <td>0.094409</td>\n",
       "      <td>0.905591</td>\n",
       "      <td>42750</td>\n",
       "    </tr>\n",
       "    <tr>\n",
       "      <th>Transient-Party</th>\n",
       "      <td>0.025821</td>\n",
       "      <td>0.974179</td>\n",
       "      <td>16421</td>\n",
       "    </tr>\n",
       "    <tr>\n",
       "      <th>All</th>\n",
       "      <td>0.074634</td>\n",
       "      <td>0.925366</td>\n",
       "      <td>61969</td>\n",
       "    </tr>\n",
       "  </tbody>\n",
       "</table>\n",
       "</div>"
      ],
      "text/plain": [
       "children         children      none    All\n",
       "customer_type                             \n",
       "Contract         0.060059  0.939941   2381\n",
       "Group            0.052758  0.947242    417\n",
       "Transient        0.094409  0.905591  42750\n",
       "Transient-Party  0.025821  0.974179  16421\n",
       "All              0.074634  0.925366  61969"
      ]
     },
     "execution_count": 64,
     "metadata": {},
     "output_type": "execute_result"
    }
   ],
   "source": [
    "df = hoteles[['children','customer_type']].pivot_table(index='customer_type', columns='children', aggfunc=lambda x: len(x), margins=True)\n",
    "df.loc[:, 'children':'none'] = df.loc[:, 'children':'none'].div(df['All'], axis=0)\n",
    "df"
   ]
  },
  {
   "cell_type": "code",
   "execution_count": 65,
   "id": "713d44a8-9440-44f9-bac2-501cec2c6257",
   "metadata": {},
   "outputs": [
    {
     "data": {
      "image/png": "[encoded data removed]",
      "text/plain": [
       "<Figure size 432x288 with 1 Axes>"
      ]
     },
     "metadata": {
      "needs_background": "light"
     },
     "output_type": "display_data"
    }
   ],
   "source": [
    "ax = df[['children', 'none']].sort_values(by='children').plot.barh(rot=0, stacked=True)"
   ]
  },
  {
   "cell_type": "markdown",
   "id": "bb5da48a-49f5-475d-8852-f1300c20f88d",
   "metadata": {},
   "source": [
    "Se descarta"
   ]
  },
  {
   "cell_type": "markdown",
   "id": "17a24c2a-dbae-401b-a915-565f40b70f7c",
   "metadata": {},
   "source": [
    "## Espacio para autos"
   ]
  },
  {
   "cell_type": "markdown",
   "id": "cbc236d9-de04-4135-8046-e8966c1a2c32",
   "metadata": {},
   "source": [
    "Recuento de reservaciones con niños agrupado por tipo de tipo de espacio para autos"
   ]
  },
  {
   "cell_type": "code",
   "execution_count": 66,
   "id": "865d6394-ce6d-4773-8749-43bcbd26c166",
   "metadata": {},
   "outputs": [
    {
     "data": {
      "text/html": [
       "<div>\n",
       "<style scoped>\n",
       "    .dataframe tbody tr th:only-of-type {\n",
       "        vertical-align: middle;\n",
       "    }\n",
       "\n",
       "    .dataframe tbody tr th {\n",
       "        vertical-align: top;\n",
       "    }\n",
       "\n",
       "    .dataframe thead th {\n",
       "        text-align: right;\n",
       "    }\n",
       "</style>\n",
       "<table border=\"1\" class=\"dataframe\">\n",
       "  <thead>\n",
       "    <tr style=\"text-align: right;\">\n",
       "      <th>children</th>\n",
       "      <th>children</th>\n",
       "      <th>none</th>\n",
       "    </tr>\n",
       "    <tr>\n",
       "      <th>required_car_parking_spaces</th>\n",
       "      <th></th>\n",
       "      <th></th>\n",
       "    </tr>\n",
       "  </thead>\n",
       "  <tbody>\n",
       "    <tr>\n",
       "      <th>none</th>\n",
       "      <td>3749</td>\n",
       "      <td>51949</td>\n",
       "    </tr>\n",
       "    <tr>\n",
       "      <th>parking</th>\n",
       "      <td>876</td>\n",
       "      <td>5395</td>\n",
       "    </tr>\n",
       "  </tbody>\n",
       "</table>\n",
       "</div>"
      ],
      "text/plain": [
       "children                     children   none\n",
       "required_car_parking_spaces                 \n",
       "none                             3749  51949\n",
       "parking                           876   5395"
      ]
     },
     "execution_count": 66,
     "metadata": {},
     "output_type": "execute_result"
    }
   ],
   "source": [
    "crosstab = hoteles[['children','required_car_parking_spaces']].pivot_table(index='required_car_parking_spaces', columns='children', aggfunc=lambda x: len(x))\n",
    "crosstab"
   ]
  },
  {
   "cell_type": "code",
   "execution_count": 67,
   "id": "64ad369f-8403-4453-88f2-0fba170f1df7",
   "metadata": {},
   "outputs": [
    {
     "data": {
      "image/png": "[encoded data removed]",
      "text/plain": [
       "<Figure size 432x288 with 1 Axes>"
      ]
     },
     "metadata": {
      "needs_background": "light"
     },
     "output_type": "display_data"
    }
   ],
   "source": [
    "ax = crosstab.sort_values(by='children').plot.barh(rot=0, stacked=True)"
   ]
  },
  {
   "cell_type": "markdown",
   "id": "ef858ffa-3ded-4918-bbb5-ab9da67a22ed",
   "metadata": {},
   "source": [
    "**Proporcionalmente**"
   ]
  },
  {
   "cell_type": "code",
   "execution_count": 68,
   "id": "4fb37870-275e-46c5-81b1-1f571efaee2e",
   "metadata": {},
   "outputs": [
    {
     "data": {
      "text/html": [
       "<div>\n",
       "<style scoped>\n",
       "    .dataframe tbody tr th:only-of-type {\n",
       "        vertical-align: middle;\n",
       "    }\n",
       "\n",
       "    .dataframe tbody tr th {\n",
       "        vertical-align: top;\n",
       "    }\n",
       "\n",
       "    .dataframe thead th {\n",
       "        text-align: right;\n",
       "    }\n",
       "</style>\n",
       "<table border=\"1\" class=\"dataframe\">\n",
       "  <thead>\n",
       "    <tr style=\"text-align: right;\">\n",
       "      <th>children</th>\n",
       "      <th>children</th>\n",
       "      <th>none</th>\n",
       "      <th>All</th>\n",
       "    </tr>\n",
       "    <tr>\n",
       "      <th>required_car_parking_spaces</th>\n",
       "      <th></th>\n",
       "      <th></th>\n",
       "      <th></th>\n",
       "    </tr>\n",
       "  </thead>\n",
       "  <tbody>\n",
       "    <tr>\n",
       "      <th>none</th>\n",
       "      <td>0.067309</td>\n",
       "      <td>0.932691</td>\n",
       "      <td>55698</td>\n",
       "    </tr>\n",
       "    <tr>\n",
       "      <th>parking</th>\n",
       "      <td>0.139691</td>\n",
       "      <td>0.860309</td>\n",
       "      <td>6271</td>\n",
       "    </tr>\n",
       "    <tr>\n",
       "      <th>All</th>\n",
       "      <td>0.074634</td>\n",
       "      <td>0.925366</td>\n",
       "      <td>61969</td>\n",
       "    </tr>\n",
       "  </tbody>\n",
       "</table>\n",
       "</div>"
      ],
      "text/plain": [
       "children                     children      none    All\n",
       "required_car_parking_spaces                           \n",
       "none                         0.067309  0.932691  55698\n",
       "parking                      0.139691  0.860309   6271\n",
       "All                          0.074634  0.925366  61969"
      ]
     },
     "execution_count": 68,
     "metadata": {},
     "output_type": "execute_result"
    }
   ],
   "source": [
    "df = hoteles[['children','required_car_parking_spaces']].pivot_table(index='required_car_parking_spaces', columns='children', aggfunc=lambda x: len(x), margins=True)\n",
    "df.loc[:, 'children':'none'] = df.loc[:, 'children':'none'].div(df['All'], axis=0)\n",
    "df"
   ]
  },
  {
   "cell_type": "code",
   "execution_count": 69,
   "id": "a5a456e4-00ae-4fa5-8c29-d93e671a6ddd",
   "metadata": {},
   "outputs": [
    {
     "data": {
      "image/png": "[encoded data removed]",
      "text/plain": [
       "<Figure size 432x288 with 1 Axes>"
      ]
     },
     "metadata": {
      "needs_background": "light"
     },
     "output_type": "display_data"
    }
   ],
   "source": [
    "ax = df[['children', 'none']].sort_values(by='children').plot.barh(rot=0, stacked=True)"
   ]
  },
  {
   "cell_type": "code",
   "execution_count": 83,
   "id": "d66168d1-4e10-4634-b4c2-fc061e5075fe",
   "metadata": {},
   "outputs": [
    {
     "data": {
      "text/plain": [
       "0    31751\n",
       "1    20657\n",
       "2     7872\n",
       "3     1474\n",
       "4      189\n",
       "5       26\n",
       "Name: total_of_special_requests, dtype: int64"
      ]
     },
     "execution_count": 83,
     "metadata": {},
     "output_type": "execute_result"
    }
   ],
   "source": [
    "hoteles['total_of_special_requests'].value_counts()"
   ]
  },
  {
   "cell_type": "code",
   "execution_count": null,
   "id": "6f7b67b1-ca53-4435-a1bf-fe588a4c9000",
   "metadata": {},
   "outputs": [],
   "source": []
  }
 ],
 "metadata": {
  "kernelspec": {
   "display_name": "Python 3 (ipykernel)",
   "language": "python",
   "name": "python3"
  },
  "language_info": {
   "codemirror_mode": {
    "name": "ipython",
    "version": 3
   },
   "file_extension": ".py",
   "mimetype": "text/x-python",
   "name": "python",
   "nbconvert_exporter": "python",
   "pygments_lexer": "ipython3",
   "version": "3.9.6"
  }
 },
 "nbformat": 4,
 "nbformat_minor": 5
}
